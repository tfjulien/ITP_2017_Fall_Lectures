{
 "cells": [
  {
   "cell_type": "code",
   "execution_count": 8,
   "metadata": {},
   "outputs": [
    {
     "name": "stdout",
     "output_type": "stream",
     "text": [
      "0.40514321303873246 1\n"
     ]
    }
   ],
   "source": [
    "import random\n",
    "p = 0.7\n",
    "num = random.random()\n",
    "if num < 0.7:\n",
    "    print(num, 1)\n",
    "else:\n",
    "    print(num, 0)"
   ]
  },
  {
   "cell_type": "code",
   "execution_count": 10,
   "metadata": {},
   "outputs": [
    {
     "name": "stdout",
     "output_type": "stream",
     "text": [
      "[1 2 3 4]\n",
      "[[1 2]\n",
      " [3 4]]\n"
     ]
    }
   ],
   "source": [
    "import numpy as np\n",
    "x = np.array([1, 2, 3, 4])\n",
    "print(x)\n",
    "x = x.reshape((2,2))\n",
    "print(x)"
   ]
  },
  {
   "cell_type": "code",
   "execution_count": 11,
   "metadata": {},
   "outputs": [
    {
     "name": "stdout",
     "output_type": "stream",
     "text": [
      "0.3225241323953727 True\n"
     ]
    }
   ],
   "source": [
    "x = random.random()\n",
    "print(x, x < 0.5)"
   ]
  },
  {
   "cell_type": "code",
   "execution_count": 14,
   "metadata": {},
   "outputs": [
    {
     "name": "stdout",
     "output_type": "stream",
     "text": [
      "0\n"
     ]
    }
   ],
   "source": [
    "print(int(False))"
   ]
  },
  {
   "cell_type": "code",
   "execution_count": 16,
   "metadata": {},
   "outputs": [
    {
     "name": "stdout",
     "output_type": "stream",
     "text": [
      "┠\n"
     ]
    }
   ],
   "source": [
    "print('\\u2520')"
   ]
  },
  {
   "cell_type": "code",
   "execution_count": 17,
   "metadata": {},
   "outputs": [
    {
     "name": "stdout",
     "output_type": "stream",
     "text": [
      "{'u250F': '┏', 'u2501': '━', 'u252F': '┯', 'u2513': '┓', 'u2520': '┠', 'u2500': '─', 'u253C': '┼', 'u2528': '┨', 'u2517': '┗', 'u2537': '┷', 'u251B': '┫', 'u2503': '┃', 'u2502': '│', 'u2588': '█'}\n"
     ]
    }
   ],
   "source": [
    "print({'u250F': '\\u250F', 'u2501': '\\u2501', 'u252F': '\\u252F',\n",
    "           'u2513': '\\u2513', 'u2520': '\\u2520', 'u2500': '\\u2500',\n",
    "           'u253C': '\\u253C', 'u2528': '\\u2528', 'u2517': '\\u2517',\n",
    "           'u2537': '\\u2537', 'u251B': '\\u252B', 'u2503': '\\u2503',\n",
    "           'u2502': '\\u2502', 'u2588': '\\u2588'})"
   ]
  },
  {
   "cell_type": "code",
   "execution_count": 19,
   "metadata": {},
   "outputs": [
    {
     "name": "stdout",
     "output_type": "stream",
     "text": [
      "array([[1, 2],\n",
      "       [3, 4],\n",
      "       [5, 6]])\n"
     ]
    }
   ],
   "source": [
    "import pprint\n",
    "x = np.array([1, 2, 3, 4, 5, 6]).reshape(3, 2)\n",
    "pprint.pprint(x)"
   ]
  },
  {
   "cell_type": "code",
   "execution_count": 20,
   "metadata": {},
   "outputs": [
    {
     "name": "stdout",
     "output_type": "stream",
     "text": [
      "2\n"
     ]
    }
   ],
   "source": [
    "print(len(x[0]))"
   ]
  },
  {
   "cell_type": "code",
   "execution_count": 27,
   "metadata": {},
   "outputs": [
    {
     "name": "stdout",
     "output_type": "stream",
     "text": [
      "[1, 2, 3, 4, 5, 6, 7, 8]\n",
      "[1, 2, 3, 4, 5, 6, 7, 8]\n"
     ]
    }
   ],
   "source": [
    "import itertools\n",
    "print(list(itertools.chain(*[[1, 2, 3, 4], [5, 6, 7, 8]])))\n",
    "print(list(itertools.chain([1, 2, 3, 4], [5, 6, 7, 8])))"
   ]
  },
  {
   "cell_type": "code",
   "execution_count": 25,
   "metadata": {},
   "outputs": [
    {
     "name": "stdout",
     "output_type": "stream",
     "text": [
      "1 2 3 4\n"
     ]
    }
   ],
   "source": [
    "print(*[1, 2, 3, 4])"
   ]
  },
  {
   "cell_type": "code",
   "execution_count": 28,
   "metadata": {},
   "outputs": [
    {
     "data": {
      "text/plain": [
       "[(1, 'a'), (2, 'b'), (3, 'c'), (4, 'd')]"
      ]
     },
     "execution_count": 28,
     "metadata": {},
     "output_type": "execute_result"
    }
   ],
   "source": [
    "list(zip([1, 2, 3, 4], ['a', 'b', 'c', 'd']))"
   ]
  },
  {
   "cell_type": "code",
   "execution_count": 35,
   "metadata": {},
   "outputs": [
    {
     "name": "stdout",
     "output_type": "stream",
     "text": [
      "['━', '━', '━', '━']\n",
      "['┯', '┯', '┯', '┯']\n",
      "[('━', '┯'), ('━', '┯'), ('━', '┯'), ('━', '┯')]\n",
      "['━', '┯', '━', '┯', '━', '┯', '━', '┯']\n"
     ]
    }
   ],
   "source": [
    "line = ['\\u2501']*4\n",
    "jn = ['\\u252F']*4\n",
    "print(line)\n",
    "print(jn)\n",
    "print(list(zip(line, jn)))\n",
    "print(list(itertools.chain(*list(zip(line, jn)))))"
   ]
  },
  {
   "cell_type": "code",
   "execution_count": 39,
   "metadata": {},
   "outputs": [
    {
     "name": "stdout",
     "output_type": "stream",
     "text": [
      "\u001b[34mabcde\n"
     ]
    }
   ],
   "source": [
    "from colorama import Fore\n",
    "print(Fore.BLUE + 'abcde')"
   ]
  },
  {
   "cell_type": "code",
   "execution_count": 42,
   "metadata": {},
   "outputs": [
    {
     "name": "stdout",
     "output_type": "stream",
     "text": [
      "{'BLOCKED': {'char': 0, 'color': '\\x1b[31m'}, 'OPEN': {'char': 1, 'color': '\\x1b[33m'}}\n"
     ]
    }
   ],
   "source": [
    "CHAR_COLOR_MAP = {'BLOCKED': {'char': 0, 'color': Fore.RED},\n",
    "                  'OPEN': {'char': 1, 'color': Fore.YELLOW}}\n",
    "print(CHAR_COLOR_MAP)"
   ]
  },
  {
   "cell_type": "code",
   "execution_count": 3,
   "metadata": {},
   "outputs": [
    {
     "name": "stdout",
     "output_type": "stream",
     "text": [
      "0.1\n",
      "0.15\n",
      "0.2\n",
      "0.25\n",
      "0.3\n",
      "0.35\n",
      "0.4\n",
      "0.45\n",
      "0.5\n",
      "0.55\n",
      "0.6\n",
      "0.65\n",
      "0.7\n",
      "0.75\n",
      "0.8\n",
      "0.85\n"
     ]
    }
   ],
   "source": [
    "import numpy as np\n",
    "for index in np.arange(0.1, 0.9, 0.05):\n",
    "    print(index)"
   ]
  },
  {
   "cell_type": "code",
   "execution_count": null,
   "metadata": {
    "collapsed": true
   },
   "outputs": [],
   "source": []
  }
 ],
 "metadata": {
  "kernelspec": {
   "display_name": "Python 3",
   "language": "python",
   "name": "python3"
  },
  "language_info": {
   "codemirror_mode": {
    "name": "ipython",
    "version": 3
   },
   "file_extension": ".py",
   "mimetype": "text/x-python",
   "name": "python",
   "nbconvert_exporter": "python",
   "pygments_lexer": "ipython3",
   "version": "3.6.1"
  }
 },
 "nbformat": 4,
 "nbformat_minor": 2
}
