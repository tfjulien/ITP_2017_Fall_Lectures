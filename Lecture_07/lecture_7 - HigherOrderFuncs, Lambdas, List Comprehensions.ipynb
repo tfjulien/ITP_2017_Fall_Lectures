{
 "cells": [
  {
   "cell_type": "markdown",
   "metadata": {
    "slideshow": {
     "slide_type": "notes"
    }
   },
   "source": [
    "# Introduction to Python - Day 07 (02 Oct 2017)\n",
    "### Agenda for today:\n",
    "\n",
    "+ higher order functions (map, filter, reduce)\n",
    "+ anonymous (lambda) functions and examples\n",
    "+ list comprehensions"
   ]
  },
  {
   "cell_type": "markdown",
   "metadata": {
    "collapsed": true
   },
   "source": [
    "# Higher-order functions\n",
    "- So far, we have looked at functions as a device to **generalize operations over input data instances**. For ex., sum(x, y) function performs addition over **any** input numbers.  \n",
    "<br>\n",
    "- In python, functions are **first-class citizens**; they can be treated just like regular data objects (stick them in data structures, pass them around to other functions, use them as return values of other functions etc.)\n",
    "    ```python\n",
    "    def f1(x, y):\n",
    "        # some logic\n",
    "        print(\"In function f1\")\n",
    "        \n",
    "    def f2(a, b, c):\n",
    "        # some logic\n",
    "        print(\"In function f2\")\n",
    "        \n",
    "    def f3(some_function):             # function decoration\n",
    "        def wrap(*args, **kwargs):     # Note: this function is not yet called, only defined\n",
    "            print(\"Run pre-function checks and logs here\")\n",
    "            some_function(**args, **kwargs)\n",
    "            print(\"Run post-function checks and logs here\")\n",
    "        return wrap\n",
    "        \n",
    "    my_fn_list = [f1, f2]\n",
    "    my_fn_dict = {'fn_1': f1, 'fn_2': f2}\n",
    "    f1 = f3(f1)       # Python has a short-hand syntax for this (function decorators)\n",
    "    f2 = f3(f2)\n",
    "    ```\n",
    "\n",
    "- Functions that take other functions as input, and/or use functions as their return values are called **\"higher-order functions\"** (analogy with **FoG(x) = F(G(x)) <==> F(G, x)**). Ex. f(y) = log(y); g(x) = x\\*\\*2; f(g(x)) = log(x\\*\\*2)\n",
    "\n",
    "- Higher-order functions can be used to build powerful abstractions that **generalize over processes**:\n",
    "    - Ex. log and time function calls; more ahead.\n",
    "    - helps achieve:\n",
    "        - **modularity** - break functionality into re-usable pieces; easier to read, test, debug\n",
    "        - **composability** - you’ll write a number of functions with varying inputs and outputs. Some of these functions will be unavoidably specialized to a particular application, but others will be useful in a wide variety of programs. For example, a function that takes a directory path and returns all the image files in the directory, or a function that takes a filename and returns its contents, can be applied to many different situations.\n",
    "\n",
    "\n",
    "## Some built-in higher-order functions often used with iterables\n",
    "### <font color='blue'>map</font>:\n",
    "- Apply a function - any function- to each element of an iterable (a very common operation on an iterator's output)\n",
    "    - For example, given a list of strings, you might want to strip off leading/trailing whitespaces or log transform each value in a list of numbers\n",
    "- **map** generalizes the process of transforming a whole collection (both the data/collection as well as the transformation function are provided as arguments).\n",
    "\n",
    "- **Syntax**:\n",
    "\n",
    "```python\n",
    "map(f, iterA, iterB, ...)\n",
    "    # iterA, iterB, etc. are iterators, that provide a sequence of values\n",
    "    # returns an iterator (lazy obj) over the sequence\n",
    "    # f(iterA[0],iterB[0],...), f(iterA[1],iterB[1],...), f(iterA[2],iterB[2],...), ...\n",
    "help(map)\n",
    "```\n",
    "\n",
    "```python\n",
    "# Ex. 1\n",
    "from math import sqrt\n",
    "x = [1,2,3,4]\n",
    "result = map(sqrt, x)\n",
    "print(type(result), result)      # lazy map object; great for working w/ large iterables\n",
    "print(list(result))              # forcefully expand lazy map results object\n",
    "                                 # or use in for loop context\n",
    "```\n",
    "\n",
    "```python\n",
    "# Ex. 2\n",
    "def upper(s):\n",
    "    return s.upper()\n",
    "print(list(map(upper, ['sentence', 'fragment'])))\n",
    "```\n",
    "\n",
    "\n",
    "```python\n",
    "# Ex. 3\n",
    "def fn(a, *args):\n",
    "    sum_ = a\n",
    "    for value in args:\n",
    "        sum_ += value\n",
    "    return sum_\n",
    "x = [1,2,3,4]\n",
    "y = [10,11,12,13]\n",
    "result = map(fn, x, y)\n",
    "print(list(result))\n",
    "```"
   ]
  },
  {
   "cell_type": "code",
   "execution_count": 7,
   "metadata": {},
   "outputs": [
    {
     "name": "stdout",
     "output_type": "stream",
     "text": [
      "[41, 53, 65, 77]\n"
     ]
    }
   ],
   "source": [
    "def fn(*args):\n",
    "    sum_ = 0\n",
    "    for value in args:\n",
    "        sum_ += value\n",
    "    return sum_\n",
    "x = [1,2,3,4]\n",
    "y = [10,11,12,13]\n",
    "z = [30, 40, 50, 60]\n",
    "result = map(fn, x, y, z)\n",
    "print(list(result))"
   ]
  },
  {
   "cell_type": "markdown",
   "metadata": {},
   "source": [
    "### **<font color='blue'>Anonymous (lambda) functions</font>**\n",
    "- useful shortcut for small functions to be created at run-time\n",
    "- single expression, whose value is returned; For more complex logic, use regular functions defined using the **def** keyword\n",
    "- **Syntax**:\n",
    "\n",
    "```python\n",
    "lambda x, y, ..., *args, **kwargs: <expression>    # return value: value of <expression>\n",
    "```\n",
    "\n",
    "```python\n",
    "# Ex. 3 above (alternate solution)\n",
    "x = [1,2,3,4]\n",
    "y = [10,11,12,13]\n",
    "result = map(lambda a, *args: a + sum(args), x, y)\n",
    "print(list(result))\n",
    "```"
   ]
  },
  {
   "cell_type": "code",
   "execution_count": 8,
   "metadata": {},
   "outputs": [
    {
     "name": "stdout",
     "output_type": "stream",
     "text": [
      "[11, 13, 15, 17]\n"
     ]
    }
   ],
   "source": [
    "x = [1,2,3,4]\n",
    "y = [10,11,12,13]\n",
    "result = map(lambda a, *args: a + sum(args), x, y)\n",
    "print(list(result))"
   ]
  },
  {
   "cell_type": "markdown",
   "metadata": {},
   "source": [
    "### More examples of lambdas\n",
    "\n",
    "- **Sorting complex objects**:\n",
    "\n",
    "```python\n",
    "# Ex\n",
    "x = [('d', 2), ('a', 4), ('c', 1), ('b', 3)]\n",
    "x.sort()\n",
    "print(x)\n",
    "x.sort(key=lambda z: z[1])      # Sort list objects (tuples) using 2nd item as the key\n",
    "print(x)\n",
    "```\n",
    "\n",
    "```python\n",
    "# Ex\n",
    "import pprint\n",
    "x = [{'firstname': 'Frodo', 'lastname': 'Took'}, \n",
    "     {'firstname': 'Samwise', 'lastname': 'Brandybuck'}, \n",
    "     {'firstname': 'Pippin', 'lastname': 'Gamgee'}, \n",
    "     {'firstname': 'Merry', 'lastname': 'Baggins'}]\n",
    "x.sort(key=lambda name: name['firstname'])  # Sort list objects (dicts) using  value for\n",
    "                                            # 'firstname' as the sorting key\n",
    "pprint.pprint(x)\n",
    "x.sort(key=lambda name: name['lastname'])   # Sort list objects by value for 'lastname'\n",
    "pprint.pprint(x)\n",
    "```  \n",
    "<br/>\n",
    "- **Grouping complex objects**:\n",
    "\n",
    "```python\n",
    "import itertools\n",
    "city_list = [('Decatur', 'AL'), ('Huntsville', 'AL'), ('Selma', 'AL'),\n",
    "             ('Anchorage', 'AK'), ('Nome', 'AK'),\n",
    "             ('Flagstaff', 'AZ'), ('Phoenix', 'AZ'), ('Tucson', 'AZ')]\n",
    "\n",
    "def get_state(city_state):\n",
    "    return city_state[1]\n",
    "\n",
    "groups = itertools.groupby(city_list, get_state)\n",
    "## or use lambdas\n",
    "# groups = itertools.groupby(city_list, lambda city_state: city_state[1])\n",
    "for group, group_iter in groups:\n",
    "    print(group, list(group_iter))\n",
    "```\n",
    "\n",
    "#### Note: you may still like to use regular functions here, if the the logic is complex"
   ]
  },
  {
   "cell_type": "code",
   "execution_count": 14,
   "metadata": {},
   "outputs": [
    {
     "name": "stdout",
     "output_type": "stream",
     "text": [
      "AL [('Decatur', 'AL'), ('Huntsville', 'AL'), ('Selma', 'AL')]\n",
      "AK [('Anchorage', 'AK'), ('Nome', 'AK')]\n",
      "AZ [('Flagstaff', 'AZ'), ('Phoenix', 'AZ'), ('Tucson', 'AZ')]\n"
     ]
    }
   ],
   "source": [
    "import itertools\n",
    "city_list = [('Decatur', 'AL'), ('Huntsville', 'AL'), ('Selma', 'AL'),\n",
    "             ('Anchorage', 'AK'), ('Nome', 'AK'),\n",
    "             ('Flagstaff', 'AZ'), ('Phoenix', 'AZ'), ('Tucson', 'AZ')]\n",
    "\n",
    "def get_state(city_state):\n",
    "    return city_state[1]\n",
    "\n",
    "groups = itertools.groupby(city_list, get_state)\n",
    "for group_key, group_iter in groups:\n",
    "    print(group_key, list(group_iter))"
   ]
  },
  {
   "cell_type": "markdown",
   "metadata": {},
   "source": [
    "### <font color='blue'>filter</font>\n",
    "- Another common higher-order operation on elements of an iterator: select a subset of elements that meet some condition\n",
    "- **Syntax**: \n",
    "```python\n",
    "filter(predicate, iter)\n",
    "# predicate is a function that returns the truth value of some condition (w.r.t. input); must take a single value as input\n",
    "# returns an iterator over all the sequence elements that meet the condition defined by the predicate\n",
    "```\n",
    "\n",
    "```python\n",
    "def is_even(x):\n",
    "    return (x % 2) == 0\n",
    "print(list(filter(is_even, range(10))))\n",
    "\n",
    "# or use lambdas\n",
    "#list(filter(lambda x: (x % 2) == 0, range(10)))\n",
    "```"
   ]
  },
  {
   "cell_type": "code",
   "execution_count": 16,
   "metadata": {},
   "outputs": [
    {
     "name": "stdout",
     "output_type": "stream",
     "text": [
      "[0, 2, 4, 6, 8]\n"
     ]
    }
   ],
   "source": [
    "print(list(filter(lambda x: (x % 2) == 0, range(10))))"
   ]
  },
  {
   "cell_type": "markdown",
   "metadata": {},
   "source": [
    "### <font color='blue'>reduce</font>\n",
    "+ Another common higher-order operation: **cumulatively** performs an operation on all the iterable’s elements\n",
    "+ ***reduce*** an iterable to a single object\n",
    "+ **Syntax**:\n",
    "```python\n",
    "import functools\n",
    "functools.reduce(func, iter, [initial_value])\n",
    "help(reduce)\n",
    "```\n",
    "    - func must be a function that takes two elements and returns a single value\n",
    "    - it takes the first two elements A and B returned by iter and calculates func(A, B). It then requests the third element, C, calculates func(func(A, B), C), combines this result with the fourth element returned, and continues until the iterable is exhausted. \n",
    "\n",
    "\n",
    "+ Ex:\n",
    "\n",
    "```python\n",
    "from functools import reduce\n",
    "def sum_(a, b):\n",
    "    return a+b\n",
    "    \n",
    "x = [1,2,3,4]\n",
    "result = reduce(sum_, x)\n",
    "# result = reduce(lambda a, b: a+b, x)\n",
    "print(result)\n",
    "\n",
    "#  [1, 2, 3, 4]\n",
    "#    \\/\n",
    "#    [3, 3, 4]\n",
    "#      \\/\n",
    "#     [6, 4]\n",
    "#       \\/\n",
    "#      [10]\n",
    "```"
   ]
  },
  {
   "cell_type": "code",
   "execution_count": 18,
   "metadata": {},
   "outputs": [
    {
     "name": "stdout",
     "output_type": "stream",
     "text": [
      "10\n"
     ]
    }
   ],
   "source": [
    "from functools import reduce\n",
    "def sum_(a, b):\n",
    "    return a+b\n",
    "\n",
    "x = [1,2,3,4]\n",
    "result = reduce(sum_, x)\n",
    "print(result)"
   ]
  },
  {
   "cell_type": "markdown",
   "metadata": {},
   "source": [
    "+ ***reduce*** can also optionally take an initial value. If the initial value is supplied, it’s used as a starting point and func(initial_value, A) is the first calculation.\n",
    "\n",
    "```python\n",
    "x = [1,2,3,4]\n",
    "print(reduce(lambda a, b: a+b, x, 100))\n",
    "\n",
    "#  100  [1, 2, 3, 4]\n",
    "#     \\ /\n",
    "#     [101, 2, 3, 4]\n",
    "#        \\ /\n",
    "#        [103, 3, 4]\n",
    "#           \\ /\n",
    "#           [106, 4]\n",
    "#              \\ /\n",
    "#             [110]\n",
    "```"
   ]
  },
  {
   "cell_type": "code",
   "execution_count": 20,
   "metadata": {},
   "outputs": [
    {
     "ename": "ValueError",
     "evalue": "invalid literal for int() with base 10: '-'",
     "output_type": "error",
     "traceback": [
      "\u001b[0;31m---------------------------------------------------------------------------\u001b[0m",
      "\u001b[0;31mValueError\u001b[0m                                Traceback (most recent call last)",
      "\u001b[0;32m<ipython-input-20-4c2a77a1869c>\u001b[0m in \u001b[0;36m<module>\u001b[0;34m()\u001b[0m\n\u001b[0;32m----> 1\u001b[0;31m \u001b[0mint\u001b[0m\u001b[0;34m(\u001b[0m\u001b[0;34m'-'\u001b[0m\u001b[0;34m)\u001b[0m\u001b[0;34m\u001b[0m\u001b[0m\n\u001b[0m",
      "\u001b[0;31mValueError\u001b[0m: invalid literal for int() with base 10: '-'"
     ]
    }
   ],
   "source": [
    "int('-')"
   ]
  },
  {
   "cell_type": "markdown",
   "metadata": {},
   "source": [
    "#### More complex example: Log Data Processing Pipeline\n",
    "+ In the web log file provided, find the average number of bytes transferred to clients when they request data.\n",
    "```python\n",
    "fh = open('access-log', 'r')\n",
    "get_requests = filter(lambda line: \"GET\" in line, fh)\n",
    "bytes_transferred = map(lambda line: line.strip().split(' ')[-1], get_requests)\n",
    "non_redirects = filter(lambda bytestring: bytestring != '-', bytes_transferred)\n",
    "def aggregator(accumulator, bytes_):\n",
    "    accumulator['bytes'] = accumulator.get('bytes', 0) + int(bytes_)\n",
    "    accumulator['count'] = accumulator.get('count', 0) + 1\n",
    "    return accumulator\n",
    "aggregate = reduce(aggregator, non_redirects, {})     ## This activates the pipeline, and pulls records\n",
    "print(aggregate)\n",
    "print(\"Average bytes transferred: \", aggregate['bytes']/aggregate['count']\n",
    "```\n",
    "\n",
    "+ **Notes**:\n",
    "    - the whole file is never loaded into memory at once... but rather driven by the final reduce\n",
    "    - think of this as a pipeline, through which all your data is being streamed, and processed along the way\n",
    "    - this process can be parallelized for hundreds and thousands of files stored in a distributed system (SIMD problems)\n"
   ]
  },
  {
   "cell_type": "code",
   "execution_count": null,
   "metadata": {
    "collapsed": true
   },
   "outputs": [],
   "source": []
  },
  {
   "cell_type": "markdown",
   "metadata": {},
   "source": [
    "#### Note: \n",
    "- Check out <font color='blue'>***functools***</font> and <font color='blue'>***itertools***</font> modules for more on these types of generic higer-order functions and processes.\n",
    "- Resources:\n",
    "    https://docs.python.org/3.6/howto/functional.html"
   ]
  },
  {
   "cell_type": "markdown",
   "metadata": {},
   "source": [
    "### <font color='blue'>List Comprehensions</font>\n",
    "- used to build lists from iterables, in a way mathematicians build sets.\n",
    "- For ex:\n",
    "    - S = {x² : x in {0 ... 9}} &nbsp;&nbsp;&nbsp;&nbsp;&nbsp;&nbsp;&nbsp;&nbsp;&nbsp;&nbsp;&nbsp;&nbsp;&nbsp;&nbsp;&nbsp;**# construct a set**\n",
    "    - M = {y | y in S and y even} &nbsp;&nbsp;&nbsp;&nbsp;&nbsp;&nbsp;**# apply a conditional filter to build another set**\n",
    "    \n",
    "```python\n",
    "s = []\n",
    "for x in range(10):\n",
    "    s.append(x**2)\n",
    "    \n",
    "m = []\n",
    "for y in s:\n",
    "    if y % 2 == 0:\n",
    "        m.append(y)\n",
    "    \n",
    "# Using list comprehensions\n",
    "s = [x**2 for x in range(10)]\n",
    "m = [y for y in s if y % 2 == 0]\n",
    "```\n",
    "\n",
    "+ **Syntax**:\n",
    "    - [<font color='blue'>output_expr</font> &nbsp;&nbsp;&nbsp;<font color='green'>for input_var in input_iter </font> &nbsp;&nbsp;&nbsp;<font color='red'>if condition</font>]"
   ]
  },
  {
   "cell_type": "code",
   "execution_count": null,
   "metadata": {
    "collapsed": true
   },
   "outputs": [],
   "source": []
  },
  {
   "cell_type": "markdown",
   "metadata": {},
   "source": [
    "#### Some more examples: \n",
    "+ Building (or transforming) lists with for loops and if statements\n",
    "    - same as ***map*** and ***filter*** discussed above (try out a few examples)\n",
    "+ Combinatorics\n",
    "```python\n",
    "# Ex. Write all possible combinations of (x,y) for positive values of x and y, such that x and y range from 1 to 10 and x+y is not even\n",
    "```\n",
    "+ Flattening lists\n",
    "```python\n",
    "# Ex. Go from [[1,2, 3], [4, 5, 6], [7, 8, 9]] to [1, 2, 3, 4, 5, 6, 7, 8, 9]\n",
    "```"
   ]
  },
  {
   "cell_type": "code",
   "execution_count": 24,
   "metadata": {},
   "outputs": [
    {
     "name": "stdout",
     "output_type": "stream",
     "text": [
      "[(1, 2), (1, 4), (2, 1), (2, 3), (3, 2), (3, 4), (4, 1), (4, 3)]\n",
      "[(1, 2), (1, 4), (2, 1), (2, 3), (3, 2), (3, 4), (4, 1), (4, 3)]\n",
      "[(3, 2), (3, 4), (4, 1), (4, 3)]\n"
     ]
    }
   ],
   "source": [
    "# define result list\n",
    "# create x and y lists\n",
    "# iterate\n",
    "\n",
    "results = []\n",
    "for x in range(1, 5):\n",
    "    for y in range(1, 5):\n",
    "        if (x + y) % 2 != 0:\n",
    "            results.append((x, y))\n",
    "print(results)\n",
    "\n",
    "result_compr = [(x, y) for x in range(1, 5) for y in range(1, 5) if (x+y)%2!=0]\n",
    "print(result_compr)\n",
    "\n",
    "result_compr_2 = [(x, y) for x in range(1, 5) if x > 2 for y in range(1, 5) if (x+y)%2!=0]\n",
    "print(result_compr_2)\n",
    "\n"
   ]
  },
  {
   "cell_type": "code",
   "execution_count": 29,
   "metadata": {},
   "outputs": [
    {
     "name": "stdout",
     "output_type": "stream",
     "text": [
      "[1, 2, 3, 4, 5, 6, 7, 8, 9]\n",
      "[1, 2, 3, 4, 5, 6, 7, 8, 9]\n"
     ]
    }
   ],
   "source": [
    "# Ex. Go from [[1,2, 3], [4, 5, 6], [7, 8, 9]] to [1, 2, 3, 4, 5, 6, 7, 8, 9]\n",
    "\n",
    "list_of_lists = [[1,2, 3], [4, 5, 6], [7, 8, 9]]\n",
    "\n",
    "result = []\n",
    "for indiv_list in list_of_lists:\n",
    "    for elem in indiv_list:\n",
    "        result.append(elem)\n",
    "print(result)\n",
    "\n",
    "result_compr = [elem for indiv_list in list_of_lists for elem in indiv_list]\n",
    "print(result_compr)\n"
   ]
  },
  {
   "cell_type": "markdown",
   "metadata": {},
   "source": [
    "#### Notes\n",
    "+ List comprehensions are highly optimized and typically run much faster than vanilla for loops and if/else conditionals\n",
    "+ Much of map / filter machinery can be expressed as list comprehensions, but you'll find both being used in python programs. Map-Reduce paradigm is also used extensively in \"Big Data\" processing (lazy objects are particularly helpful here).\n",
    "+ You can mix and match the tools taking into account qualitative aspects like readability, performance, complexity etc.\n",
    "+ Further extensions to these topics include dictionary and set comprehensions, generators and generator expressions, functools and itertools modules.  <font color='blue'>**(lightning talk, anyone?)**</font>\n"
   ]
  },
  {
   "cell_type": "code",
   "execution_count": null,
   "metadata": {
    "collapsed": true
   },
   "outputs": [],
   "source": [
    "temp[]"
   ]
  }
 ],
 "metadata": {
  "anaconda-cloud": {},
  "kernelspec": {
   "display_name": "Python 3",
   "language": "python",
   "name": "python3"
  },
  "language_info": {
   "codemirror_mode": {
    "name": "ipython",
    "version": 3
   },
   "file_extension": ".py",
   "mimetype": "text/x-python",
   "name": "python",
   "nbconvert_exporter": "python",
   "pygments_lexer": "ipython3",
   "version": "3.6.2"
  }
 },
 "nbformat": 4,
 "nbformat_minor": 1
}
