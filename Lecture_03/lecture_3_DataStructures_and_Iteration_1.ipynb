{
 "cells": [
  {
   "cell_type": "markdown",
   "metadata": {
    "slideshow": {
     "slide_type": "notes"
    }
   },
   "source": [
    "# Introduction to Python - Day 03 (18 Sept 2017)\n",
    "## Story so far...\n",
    "+ Everything in python is an *__Object__* (**identity** + **data/ value/ attributes** + **type** / **operations**)\n",
    "    - Core / built-in / primitive (numbers - int, float; str; bool)\n",
    "<br />\n",
    "<br />\n",
    "+ **Programs** solve problems by:\n",
    "    - defining and creating objects\n",
    "    - controling how objects interact with each another and their environment. \n",
    "        - This logic is expressed using **statements** and **expressions** (ex. numeric and boolean expressions, assignment statements, control flow statements like conditionals)\n",
    "<br />\n",
    "<br />\n",
    "\n",
    "# Today:\n",
    "+ Introduce composite objects types (data structures) -> way to organize data for processing\n",
    "    + lists  \n",
    "<br />\n",
    "+ Iteration (repetitive execution) - another form of program control flow  \n",
    "<br />\n",
    "+ Line-by-line code execution and exploration (**debugging** tool)  \n",
    "<br />"
   ]
  },
  {
   "cell_type": "markdown",
   "metadata": {
    "collapsed": true
   },
   "source": [
    "# Lists\n",
    "\n",
    "+ Another sequence data type (like strings), that stores sequence of objects. For ex.\n",
    "    ```python\n",
    "    [1, 2, 3, 4, 5]\n",
    "    ```\n",
    "+ More generic - elements / items / components can be of **any type**, including **mixed**.  \n",
    "    ```python\n",
    "    [1, 2, 'a', [3, 4]]\n",
    "    ```\n",
    "+ Some examples from real world:\n",
    "    - List of employees in a company\n",
    "    - List of genes associated with a disease\n",
    "    - List of book recommendations for a user\n",
    "    - List of items in an order basket  \n",
    "<br />\n",
    "+ **Key characteristics**\n",
    "    - Elements have position and order (**ordered collection**)\n",
    "    - Elements can be heterogeneous (**arbitrarily typed**)  \n",
    "    - Lists can expand or contract dynamically\n",
    "    - can be single- or multi-dimensional\n",
    "<br />"
   ]
  },
  {
   "cell_type": "markdown",
   "metadata": {},
   "source": [
    "# Common List operations:\n",
    "    - Create\n",
    "    - Access elements or chunks\n",
    "    - Modify elements or chunks\n",
    "    - Check membership of an element\n",
    "    - Find position / index of a specific element\n",
    "    - Traverse through the list and do something\n",
    "    - Make it bigger / smaller (add and remove elements)\n",
    "    - Sort / reverse\n",
    "    - ...  \n",
    "\n",
    "```python\n",
    "help(list)\n",
    "help(list.index)\n",
    "```\n",
    "\n",
    "+ Some generic operations\n",
    "    - len(x), sum(x), max(x), etc.  \n",
    "<br />\n",
    "+ User-defined operations (will be covered later)"
   ]
  },
  {
   "cell_type": "code",
   "execution_count": null,
   "metadata": {
    "collapsed": true
   },
   "outputs": [],
   "source": []
  },
  {
   "cell_type": "markdown",
   "metadata": {},
   "source": [
    "# Lists: Create\n",
    "\n",
    "\n",
    "```python\n",
    "x = [1,2,3,4,5]\t\t    # direct assignment\n",
    "y = [1, 'a', [1,2,3]]\n",
    "z = []                     # creates an empty list\n",
    "\n",
    "print(type(x), x)\n",
    "print(type(y), y)\n",
    "\n",
    "# build it incrementally (see below)\n",
    "\n",
    "# More advanced: List comprehensions (chk out for a potential lightning talk...)\n",
    "```"
   ]
  },
  {
   "cell_type": "code",
   "execution_count": null,
   "metadata": {
    "collapsed": true
   },
   "outputs": [],
   "source": []
  },
  {
   "cell_type": "markdown",
   "metadata": {},
   "source": [
    "# Lists: Access and Modify\n",
    "+ All sequences (lists, strings, ...) support two basic access operations:\n",
    "    - Indexing\n",
    "    - Slicing\n",
    "```python\n",
    "vowels = ['a', 'e', 'i', 'o', 'u']\n",
    "print(vowels[0])    # indexing starts with '0'\n",
    "print(vowels[1])\n",
    "print(vowels[-1])   # negative indices go backwards\n",
    "print(vowels[10])   # out of range raises IndexError Exception: You're responsible to respect list length\n",
    "print(vowels[1:3])  # slicing syntax: [start_idx : stop_idx[ : step_size]]; excludes stop_idx; \n",
    "print(vowels[::2]   # step_size is optional\n",
    "print(vowels[::-1   # what does this do?\n",
    "```\n",
    "\n",
    "+ Indices are like mappings\n"
   ]
  },
  {
   "cell_type": "code",
   "execution_count": null,
   "metadata": {
    "collapsed": true
   },
   "outputs": [],
   "source": []
  },
  {
   "cell_type": "markdown",
   "metadata": {},
   "source": [
    "# Lists are mutable (unlike strings)\n",
    "\n",
    "```python\n",
    "vowels = ['a', 'e', 'i', 'o', 'u']\n",
    "print(id(vowels), vowels)\n",
    "vowels[0] = 'A'\n",
    "vowels[1:3] = ['E', 'I']    # slice reassignment\n",
    "print(id(vowels), vowels)\n",
    "```"
   ]
  },
  {
   "cell_type": "code",
   "execution_count": null,
   "metadata": {
    "collapsed": true
   },
   "outputs": [],
   "source": []
  },
  {
   "cell_type": "markdown",
   "metadata": {},
   "source": [
    "# Lists: Membership\n",
    "+ <font color='blue'>**in**</font> operator, similar to string type\n",
    "\n",
    "```python\n",
    "x = [1,2,3,4,5]\n",
    "print(1 in x)      # boolean expression: evaluates to True/False\n",
    "print(10 not in x) \n",
    "```"
   ]
  },
  {
   "cell_type": "code",
   "execution_count": null,
   "metadata": {
    "collapsed": true
   },
   "outputs": [],
   "source": []
  },
  {
   "cell_type": "markdown",
   "metadata": {},
   "source": [
    "# Lists: index of a specific element\n",
    "```python\n",
    "x = [1, 2, 3, 4, 5]\n",
    "print(x.index(3))\n",
    "print(x.index(7))          # ValueError exception\n",
    "```"
   ]
  },
  {
   "cell_type": "code",
   "execution_count": null,
   "metadata": {
    "collapsed": true
   },
   "outputs": [],
   "source": []
  },
  {
   "cell_type": "markdown",
   "metadata": {},
   "source": [
    "# Lists: Add / remove elements\n",
    "\n",
    "```python\n",
    "x = [1,2,3,4,5]\n",
    "x.append(10)\n",
    "print(x)\n",
    "x.pop()\n",
    "print(x)\n",
    "x.pop(2)\n",
    "print(x)\n",
    "x.extend([11,12,13,14,15])     # or x + [11,12,13,14,15]\n",
    "print(x)\n",
    "```"
   ]
  },
  {
   "cell_type": "code",
   "execution_count": null,
   "metadata": {},
   "outputs": [],
   "source": []
  },
  {
   "cell_type": "markdown",
   "metadata": {},
   "source": [
    "# Lists: Re-ordering\n",
    "```python\n",
    "x = [3,5,2,7,1,6,4]\n",
    "print(x)\n",
    "x.sort()\n",
    "print(x)\n",
    "x.reverse()\n",
    "print(x)\n",
    "```"
   ]
  },
  {
   "cell_type": "code",
   "execution_count": null,
   "metadata": {
    "collapsed": true
   },
   "outputs": [],
   "source": []
  },
  {
   "cell_type": "markdown",
   "metadata": {},
   "source": [
    "# Iteration: Repetitively apply some logic\n",
    "### Common patterns:\n",
    "+ Do **something** to/for each item in a sequence (ex. random patient assignment)\n",
    "+ Repeat **something _n_** times (ex. snooze)\n",
    "+ Repeat **something** as long as some condition is True (or False) (will be covered later) (ex. statistical model refinement)\n",
    "<br />  \n",
    "\n",
    "<font color='blue' size=5>_**for**_</font> compound statement is used to apply some logic to each item in any _**iterable**_ (string, list, dictionaries etc.)\n",
    "<br />\n",
    "+ Basic structure:  \n",
    "```python\n",
    "    for item in iterable:  \n",
    "        <do_action(s)>\n",
    "```\n",
    "For ex.:\n",
    "```python\n",
    "    for gene in list_of_genes:\n",
    "        translate(gene)\n",
    "```\n",
    "+ Use **indentation** to delineate from rest of the code"
   ]
  },
  {
   "cell_type": "markdown",
   "metadata": {},
   "source": [
    "# <font color='blue'>*for* loop pattern 1</font>: Sequence scans\n",
    "\n",
    "+ Ex. Simple list traversal\n",
    "```python\n",
    "    vowels = ['a', 'e', 'i', 'o', 'u']\n",
    "    for vowel in vowels:\n",
    "        print(vowel)\n",
    "```\n",
    "\n",
    "+ Ex: Find sum and prod of a list of numbers\n",
    "```python\n",
    "    num_list = [1,2,3,4]\n",
    "```"
   ]
  },
  {
   "cell_type": "code",
   "execution_count": null,
   "metadata": {
    "collapsed": true
   },
   "outputs": [],
   "source": []
  },
  {
   "cell_type": "markdown",
   "metadata": {},
   "source": [
    "# General process of loop construction\n",
    "+ <font color='blue'>_**Initialize**_</font> some variable(s) before the loop starts.\n",
    "+ <font color='blue'>_**Apply**_</font> some computation(s) for each item in the loop body, possibly changing the variables.\n",
    "+ <font color='blue'>_**Use**_</font> the results after the loop terminates.\n",
    "```python\n",
    "import math\n",
    "num_list = [1,2,3,4]          # Input\n",
    "sum_ = 0                      # Initialize\n",
    "prod = 1                     \n",
    "for num in num_list:          # Apply\n",
    "    sum_ = sum_ + num\n",
    "\tprod *= num                 # shorthand notation\n",
    "print(\"sum: \", sum_)          # Use\n",
    "print(\"prod: \", prod)\n",
    "print(\"AM: \", sum_/len(num_list))\n",
    "print(\"GM: \", math.pow(prod_, 1/len(num_list))\n",
    "```\n",
    "\n",
    "**Notes**:\n",
    "- num is called **iteration variable**\n",
    "- sum and prod are called **accumulator variables**"
   ]
  },
  {
   "cell_type": "code",
   "execution_count": null,
   "metadata": {},
   "outputs": [],
   "source": []
  },
  {
   "cell_type": "markdown",
   "metadata": {},
   "source": [
    "## Trace of a computation\n",
    "\n",
    "```\n",
    "------------------------------  \n",
    "  __________________\n",
    " | num  |sum_| prod |\n",
    " |______|____|______|\n",
    " |  _   | 0  |  1   | <-- Initialize\n",
    " |______|____|______|\n",
    " |  1   | 1  |  1   | <-- for loop begins\n",
    " |______|____|______|\n",
    " |  2   | 3  |  2   | \n",
    " |______|____|______|\n",
    " |  3   | 6  |  6   |\n",
    " |______|____|______|\n",
    " |  4   | 10 |  24  | <-- for loop ends\n",
    " |______|____|______|\n",
    "------------------------------\n",
    "\n",
    "```"
   ]
  },
  {
   "cell_type": "markdown",
   "metadata": {},
   "source": [
    "# <font color='red'>PyCharm: Line-by-line code execution</font>"
   ]
  },
  {
   "cell_type": "markdown",
   "metadata": {},
   "source": [
    "# <font color='blue'>*for* loop pattern 2</font>: range function\n",
    "+ Greater flexibility - access elements by index and reference rather in stead of direct access\n",
    "\n",
    "```\n",
    "------------------------------\n",
    "  ___________________________\n",
    " | Index| 0  | 1  | 2  | 3  |\n",
    " |______|____|___ |____|___ |\n",
    " | Data | 5  | 10 | 15 | 20 |\n",
    " |______|____|____|____|____|\n",
    "------------------------------\n",
    "\n",
    "```\n",
    "\n",
    "+ Built-in **range()** function returns a range object\n",
    "```python\n",
    "x = range(10)\n",
    "type(x)\n",
    "```\n",
    "\n",
    "- Lazy object\n",
    "- use list(x) to force-build the entire range\n",
    "\n",
    "\n",
    "\n",
    "```python\n",
    "# dot product of 2 vectors\n",
    "vector_1 = [1, 2, 3, 4]\n",
    "vector_2 = [5, 6, 7, 8]\n",
    "dot = 0.0\n",
    "for idx in range(len(vector_1)):\n",
    "    dot += vector_1[idx]*vector_2[idx]\n",
    "print(\"dot product of {} and {} is: {}\".format(vector_1, vector_2, dot))\n",
    "```\n"
   ]
  },
  {
   "cell_type": "code",
   "execution_count": null,
   "metadata": {},
   "outputs": [],
   "source": []
  },
  {
   "cell_type": "markdown",
   "metadata": {},
   "source": [
    "+ **Ex: build a list incrementally**\n",
    "\n",
    "+ Fibonacci numbers:\n",
    "    - 1, 1, 2, 3, 5, 8, 13, 21, ...\n",
    "    - F$_1$ = F$_2$=1\n",
    "    - F$_n$ = F$_n$$_-$$_1$ + F$_n$$_-$$_2$\n",
    "\n",
    "```python\n",
    "# Fibonacci\n",
    "n = 10\n",
    "z = [1]*2\t\t\t            \n",
    "for idx in range(2, n):\n",
    "    next = z[idx-1] + z[idx-2]    # Note: next is not a good variable name since it is a built-in function.\n",
    "                                  # Using it as a variable will mask the function\n",
    "    z.append(next)\n",
    "print(z)\n",
    "```\n"
   ]
  },
  {
   "cell_type": "code",
   "execution_count": null,
   "metadata": {
    "collapsed": true
   },
   "outputs": [],
   "source": []
  },
  {
   "cell_type": "markdown",
   "metadata": {},
   "source": [
    "# Use built-in functionality as much as possible\n",
    "+ Less code\n",
    "+ More efficient\n",
    "\n",
    "\n",
    "```python\n",
    "# DIY\n",
    "num_list = [1,2,3,4]\n",
    "sum_ = 0\n",
    "for num in num_list:\n",
    "\tsum_ = sum_ + num\n",
    "print(“avg: ”, sum_/len(num_list))\n",
    "\n",
    "# built-in tools\n",
    "avg = sum(num_list)/len(num_list)\n",
    "```"
   ]
  },
  {
   "cell_type": "code",
   "execution_count": null,
   "metadata": {
    "collapsed": true
   },
   "outputs": [],
   "source": []
  },
  {
   "cell_type": "markdown",
   "metadata": {},
   "source": [
    "# Next class:\n",
    "+ Multidimensional lists\n",
    "+ Dictionaries\n",
    "+ sets, tuples\n",
    "+ while loops\n",
    "+ break and continue statements"
   ]
  },
  {
   "cell_type": "code",
   "execution_count": null,
   "metadata": {
    "collapsed": true
   },
   "outputs": [],
   "source": []
  }
 ],
 "metadata": {
  "anaconda-cloud": {},
  "kernelspec": {
   "display_name": "Python 3",
   "language": "python",
   "name": "python3"
  },
  "language_info": {
   "codemirror_mode": {
    "name": "ipython",
    "version": 3
   },
   "file_extension": ".py",
   "mimetype": "text/x-python",
   "name": "python",
   "nbconvert_exporter": "python",
   "pygments_lexer": "ipython3",
   "version": "3.6.2"
  }
 },
 "nbformat": 4,
 "nbformat_minor": 1
}
