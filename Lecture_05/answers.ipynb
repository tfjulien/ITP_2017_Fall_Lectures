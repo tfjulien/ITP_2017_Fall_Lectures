{
 "cells": [
  {
   "cell_type": "markdown",
   "metadata": {
    "collapsed": true
   },
   "source": [
    "Question: 1\n",
    "\n",
    "Write a program which will prompt the user for 4 integers, i, j, m, n\n",
    "\n",
    "The program should find all such numbers which are divisible by 'i' but are not a multiple of 'j',\n",
    "between 'm' and 'n' (both included).\n",
    "\n",
    "The numbers obtained should be printed in a comma-separated sequence on a single line.\n",
    "\n",
    "input: i: 2 j: 3 m: 1 n: 7\n",
    "\n",
    "2, 4"
   ]
  },
  {
   "cell_type": "code",
   "execution_count": null,
   "metadata": {
    "collapsed": true
   },
   "outputs": [],
   "source": [
    "# pseudo code\n",
    "# 1.    get input\n",
    "# 2.    iterate -for number in range(m, n+1)\n",
    "#   3.1   check the conditions number % i == 0 and number % j != 0\n",
    "#   3.2   add number to a list\n",
    "# 4     output list of numbers\n",
    "\n",
    "i = int(input(\"enter 'i'\"))\n",
    "j = int(input(\"enter 'j'\"))\n",
    "m = int(input(\"enter 'm'\"))\n",
    "n = int(input(\"enter 'n'\"))\n",
    "\n",
    "valid_numbers = []\n",
    "\n",
    "for number in range(m, n+1):\n",
    "    if number % i == 0 and number % j != 0:\n",
    "        valid_numbers.append(str(number))\n",
    "print(', '.join(valid_numbers))\n"
   ]
  },
  {
   "cell_type": "markdown",
   "metadata": {},
   "source": [
    "Question: 2\n",
    "\n",
    "Write a program which prompts the user for a single integer n. Calculate the square of each number between 1 and n.\n",
    "Store the results in a dictionary with the number as the key and the square as the value.\n",
    "Output the complete dictionary\n",
    "\n",
    "input n: 5\n",
    "\n",
    "output:\n",
    "{1: 1, 2: 4, 3: 9, 4: 16, 5: 25}"
   ]
  },
  {
   "cell_type": "code",
   "execution_count": 4,
   "metadata": {},
   "outputs": [
    {
     "name": "stdout",
     "output_type": "stream",
     "text": [
      "enter 'n'5\n",
      "{1: 1, 2: 4, 3: 9, 4: 16, 5: 25}\n"
     ]
    }
   ],
   "source": [
    "# pseudo code\n",
    "# 1.     get input\n",
    "# 2.     create empty dictionary\n",
    "# 3.     iterate over range\n",
    "#   4.       dict[i] = i**2\n",
    "# 5.     ouput results\n",
    "\n",
    "\n",
    "n = int(input(\"enter 'n'\"))\n",
    "results_dict = {}\n",
    "for number in range(1, n+1):\n",
    "    results_dict[number] = number**2\n",
    "print(results_dict)"
   ]
  },
  {
   "cell_type": "markdown",
   "metadata": {},
   "source": [
    "Question: 3\n",
    "\n",
    "Write a program which prompts the user to enter a string.\n",
    "\n",
    "Calculate the number of characters and digits in the string and output the results.\n",
    "\n",
    "input: 'these are characters! abcd and these are integers! 1 2 3 4'\n",
    "\n",
    "output:\n",
    "\n",
    "characters: 41\n",
    "\n",
    "digits: 4\n"
   ]
  },
  {
   "cell_type": "code",
   "execution_count": 7,
   "metadata": {},
   "outputs": [
    {
     "name": "stdout",
     "output_type": "stream",
     "text": [
      "digits:\t 4\n",
      "characters:\t 41\n",
      "special characters:\t 13\n"
     ]
    }
   ],
   "source": [
    "# pseudo code\n",
    "# 1.     get input\n",
    "# 2.     assign two varaible chars and digits\n",
    "# 3.     iterate over all of the characters\n",
    "    # 4.    check if the character is a character\n",
    "    # 5.        incriment character count\n",
    "    # 6.    check if the chacter is a digit\n",
    "    # 7.        incriment digit count\n",
    "# 8. output character count\n",
    "# 9. output digit count\n",
    "\n",
    "inp = 'these are characters! abcd and these are integers! 1 2 3 4'\n",
    "\n",
    "char_count, digit_count, other_count = 0, 0, 0\n",
    "for character in inp:\n",
    "    if character.isalpha():\n",
    "        char_count = char_count + 1\n",
    "    elif character.isdigit():\n",
    "        digit_count = digit_count + 1\n",
    "    else:\n",
    "        other_count = other_count + 1\n",
    "print('digits:\\t', digit_count)\n",
    "print('characters:\\t', char_count)\n",
    "print('special characters:\\t', other_count)"
   ]
  },
  {
   "cell_type": "markdown",
   "metadata": {},
   "source": [
    "Question: 4\n",
    "\n",
    "Write a program which prompts the user for two integers i, j. Calculate all prime numbers between the two integers.\n",
    "\n",
    "input: i: 10 j: 20\n",
    "\n",
    "output: 11, 13, 17, 19\n"
   ]
  },
  {
   "cell_type": "code",
   "execution_count": 20,
   "metadata": {},
   "outputs": [
    {
     "name": "stdout",
     "output_type": "stream",
     "text": [
      "[1, 2, 3, 5, 7, 11]\n"
     ]
    }
   ],
   "source": [
    "# pseudo code\n",
    "# 1.    get input\n",
    "# 2.    create list to hold out numbers\n",
    "# 3.    for number in range i -> j + 1\n",
    "         # - check if i < 1\n",
    "#        4. for number_2 in range(2, number // 2)\n",
    "#            5.\n",
    "#                  6.\n",
    "# 7.\n",
    "\n",
    "i = int(input('enter i: '))\n",
    "j = int(input('enter j: '))\n",
    "\n",
    "list_of_primes = []\n",
    "for number in range(i, j + 1):\n",
    "    if number < 2:\n",
    "        continue\n",
    "#     print('checking for: ', number, number // 2)\n",
    "    is_prime = True\n",
    "    for divisor in range(2, (number // 2) + 1):\n",
    "#         print('\\tdivisor :', divisor)\n",
    "#         print('\\tnumber: {} divisor: {} remainder: {}'.format(number, divisor, number % divisor))\n",
    "        if number % divisor == 0:\n",
    "#             print('\\tbreak')\n",
    "            is_prime = False\n",
    "            break\n",
    "    if is_prime:\n",
    "        list_of_primes.append(number)\n",
    "print(list_of_primes)"
   ]
  },
  {
   "cell_type": "markdown",
   "metadata": {},
   "source": [
    "### 1D\n",
    "Write a program which reproduces the following patterns for any integer n\n",
    "\n",
    "---------\n",
    "\n",
    "Question: 5\n",
    "\n",
    "input: 3\n",
    "\n",
    "output:\n",
    "\n",
    "\\* \\* \\*\n",
    "\n",
    "--------\n",
    "\n",
    "input: 5\n",
    "\n",
    "output:\n",
    "\n",
    "\\* \\* \\* \\* *"
   ]
  },
  {
   "cell_type": "code",
   "execution_count": 21,
   "metadata": {},
   "outputs": [
    {
     "name": "stdout",
     "output_type": "stream",
     "text": [
      "enter n: 5\n",
      "* * * * * \n"
     ]
    }
   ],
   "source": [
    "# pseudo code\n",
    "# 1.    get input\n",
    "# 2.    init ''\n",
    "# 3.    for loop\n",
    "#     4.    add characters\n",
    "# 5.    ouput\n",
    "\n",
    "n = int(input('enter n: '))\n",
    "output_string = ''\n",
    "for i in range(n): # range(1, n) -> 0, 1, 2, 3, 4\n",
    "    output_string += '* '\n",
    "print(output_string)"
   ]
  },
  {
   "cell_type": "markdown",
   "metadata": {},
   "source": [
    "Question: 6\n",
    "\n",
    "input: 3\n",
    "\n",
    "output:\n",
    "0 1 2\n",
    "\n",
    "--------\n",
    "input: 5\n",
    "\n",
    "output:\n",
    "0 1 2 3 4"
   ]
  },
  {
   "cell_type": "code",
   "execution_count": 23,
   "metadata": {},
   "outputs": [
    {
     "name": "stdout",
     "output_type": "stream",
     "text": [
      "enter n: 5\n",
      "0 1 2 3 4 \n"
     ]
    }
   ],
   "source": [
    "# pseudo code\n",
    "# 1.    get input\n",
    "# 2.    init ''\n",
    "# 3.    for loop\n",
    "#     4.    add characters\n",
    "# 5.    ouput\n",
    "\n",
    "n = int(input('enter n: '))\n",
    "output_string = ''\n",
    "for i in range(n):\n",
    "    output_string += '{} '.format(i)\n",
    "print(output_string)"
   ]
  },
  {
   "cell_type": "markdown",
   "metadata": {},
   "source": [
    "Question: 7\n",
    "\n",
    "input: 3\n",
    "\n",
    "output:\n",
    "x o x\n",
    "\n",
    "--------\n",
    "input: 5\n",
    "\n",
    "output:\n",
    "x o x o x"
   ]
  },
  {
   "cell_type": "code",
   "execution_count": 25,
   "metadata": {},
   "outputs": [
    {
     "name": "stdout",
     "output_type": "stream",
     "text": [
      "enter n: 5\n",
      "x o x o x \n"
     ]
    }
   ],
   "source": [
    "# pseudo code\n",
    "# 1.    get input\n",
    "# 2.    init ''\n",
    "# 3.    for loop\n",
    "#     4.    add characters\n",
    "# 5.    ouput\n",
    "\n",
    "n = int(input('enter n: '))\n",
    "output_string = ''\n",
    "for i in range(n):\n",
    "    if i % 2 == 0:\n",
    "        output_string += 'x '\n",
    "    else:\n",
    "        output_string += 'o '\n",
    "print(output_string)"
   ]
  },
  {
   "cell_type": "markdown",
   "metadata": {},
   "source": [
    "Question: 8\n",
    "\n",
    "input: 4\n",
    "\n",
    "output:\n",
    "x o o x\n",
    "\n",
    "--------\n",
    "input: 5\n",
    "\n",
    "output:\n",
    "x o o o x"
   ]
  },
  {
   "cell_type": "code",
   "execution_count": 27,
   "metadata": {},
   "outputs": [
    {
     "name": "stdout",
     "output_type": "stream",
     "text": [
      "enter n: 5\n",
      "x o o o x \n"
     ]
    }
   ],
   "source": [
    "# pseudo code\n",
    "# 1.    get input\n",
    "# 2.    init ''\n",
    "# 3.    for loop\n",
    "#     4.    add characters\n",
    "# 5.    ouput\n",
    "\n",
    "n = int(input('enter n: '))\n",
    "output_string = ''\n",
    "for i in range(n):\n",
    "    if i == 0 or i == n - 1:\n",
    "        output_string += 'x '\n",
    "    else:\n",
    "        output_string += 'o '\n",
    "print(output_string)"
   ]
  },
  {
   "cell_type": "markdown",
   "metadata": {},
   "source": [
    "2D Squares\n",
    "Write a program which reproduces the following patterns for any integer n\n"
   ]
  },
  {
   "cell_type": "markdown",
   "metadata": {},
   "source": [
    "Question: 9\n",
    "\n",
    "input: 3\n",
    "\n",
    "```\n",
    "# * * *\n",
    "# * * *\n",
    "# * * *\n",
    "```"
   ]
  },
  {
   "cell_type": "code",
   "execution_count": 60,
   "metadata": {},
   "outputs": [
    {
     "name": "stdout",
     "output_type": "stream",
     "text": [
      "enter n: 4\n",
      "* * * * \n",
      "* * * * \n",
      "* * * * \n",
      "* * * * \n"
     ]
    }
   ],
   "source": [
    "n = int(input('enter n: '))\n",
    "for j in range(n):\n",
    "    output_string = ''\n",
    "    for i in range(n): # range(1, n) -> 0, 1, 2, 3, 4\n",
    "        output_string += '* '\n",
    "    print(output_string)"
   ]
  },
  {
   "cell_type": "markdown",
   "metadata": {},
   "source": [
    "Question: 10\n",
    "\n",
    "input: 3\n",
    "\n",
    "```\n",
    "0 1 2\n",
    "0 1 2\n",
    "0 1 2\n",
    "```"
   ]
  },
  {
   "cell_type": "code",
   "execution_count": 3,
   "metadata": {},
   "outputs": [
    {
     "name": "stdout",
     "output_type": "stream",
     "text": [
      "enter n: 5\n",
      "0 1 2 3 4 \n",
      "0 1 2 3 4 \n",
      "0 1 2 3 4 \n",
      "0 1 2 3 4 \n",
      "0 1 2 3 4 \n"
     ]
    }
   ],
   "source": [
    "n = int(input('enter n: '))\n",
    "for j in range(n):\n",
    "    output_string = ''\n",
    "    for i in range(n): # range(1, n) -> 0, 1, 2, 3, 4\n",
    "        output_string += '{} '.format(i)\n",
    "    print(output_string)"
   ]
  },
  {
   "cell_type": "markdown",
   "metadata": {},
   "source": [
    "Question: 11\n",
    "\n",
    "input: 3\n",
    "\n",
    "```\n",
    "0 1 2\n",
    "3 4 5\n",
    "6 7 8\n",
    "```\n",
    "\n",
    "input: 5\n",
    "\n",
    "```\n",
    "0 1 2 3 4\n",
    "5 6 7 8 9\n",
    "0 1 2 3 4\n",
    "5 6 7 8 9\n",
    "```"
   ]
  },
  {
   "cell_type": "code",
   "execution_count": 5,
   "metadata": {},
   "outputs": [
    {
     "name": "stdout",
     "output_type": "stream",
     "text": [
      "enter n: 5\n",
      "0 1 2 3 4 \n",
      "5 6 7 8 9 \n",
      "0 1 2 3 4 \n",
      "5 6 7 8 9 \n",
      "0 1 2 3 4 \n"
     ]
    }
   ],
   "source": [
    "n = int(input('enter n: '))\n",
    "for j in range(n):\n",
    "    output_string = ''\n",
    "    for i in range(n): # range(1, n) -> 0, 1, 2, 3, 4\n",
    "        # j * n will move the count forward in rows\n",
    "        # + i will move the count forward in the columns of the current row\n",
    "        # (j * n + i) % 10 will cause the numbers to wrap, so they remain between 0-9\n",
    "        # eg: \n",
    "        # 0 % 10 = 0\n",
    "        # 1 % 10 = 1\n",
    "        # 2 % 10 = 2\n",
    "        # ...\n",
    "        # 9 % 10 = 9\n",
    "        # 10 % 10 = 0\n",
    "        # 11 % 10 = 1\n",
    "        output_string += '{} '.format((j * n + i) % 10)\n",
    "    print(output_string)"
   ]
  },
  {
   "cell_type": "markdown",
   "metadata": {},
   "source": [
    "Question 12\n",
    "\n",
    "input: 3\n",
    "\n",
    "```\n",
    "x o x\n",
    "o x o\n",
    "x o x\n",
    "```\n",
    "input: 5\n",
    "\n",
    "```\n",
    "x o x o x\n",
    "o x o x o\n",
    "x o x o x\n",
    "o x o x o\n",
    "x o x o x\n",
    "```"
   ]
  },
  {
   "cell_type": "code",
   "execution_count": 48,
   "metadata": {},
   "outputs": [
    {
     "name": "stdout",
     "output_type": "stream",
     "text": [
      "enter n: 4\n",
      "o x o x \n",
      "x o x o \n",
      "o x o x \n",
      "x o x o \n"
     ]
    }
   ],
   "source": [
    "n = int(input('enter n: '))\n",
    "for j in range(n):\n",
    "    # start each row as even or odd depending on whether the row index is even or odd\n",
    "    even = j % 2 == 0\n",
    "    output_string = ''\n",
    "    for i in range(n): # range(1, n) -> 0, 1, 2, 3, 4\n",
    "        # this is called an inline if\n",
    "        character = 'o' if even else 'x'\n",
    "        \n",
    "        # it is the same as this\n",
    "        # if even:\n",
    "            # character = 'o'\n",
    "        # else:\n",
    "            # character = 'x'\n",
    "        # but it is shorter and neater for simple if statements\n",
    "        output_string += '{} '.format(character)\n",
    "        # alternate between even and odd for the row\n",
    "        even = not even\n",
    "    print(output_string)"
   ]
  },
  {
   "cell_type": "markdown",
   "metadata": {},
   "source": [
    "Question: 13\n",
    "\n",
    "input: 3\n",
    "\n",
    "```\n",
    "x x x\n",
    "x o x\n",
    "x x x\n",
    "```\n",
    "\n",
    "input: 5\n",
    "\n",
    "```\n",
    "x x x x x\n",
    "x o o o x\n",
    "x o o o x\n",
    "x o o o x\n",
    "x x x x x\n",
    "```"
   ]
  },
  {
   "cell_type": "code",
   "execution_count": 17,
   "metadata": {},
   "outputs": [
    {
     "name": "stdout",
     "output_type": "stream",
     "text": [
      "enter n: 3\n",
      "x x x \n",
      "x o x \n",
      "x x x \n"
     ]
    }
   ],
   "source": [
    "n = int(input('enter n: '))\n",
    "for j in range(n):\n",
    "    row_string = ''\n",
    "    for i in range(n):\n",
    "        character = ''\n",
    "        if j == 0 or j == n - 1 or i == 0 or i == n - 1:\n",
    "            character = 'x '\n",
    "        else:\n",
    "            character = 'o '\n",
    "        row_string += character\n",
    "    print(row_string)"
   ]
  },
  {
   "cell_type": "markdown",
   "metadata": {},
   "source": [
    "Question: 14\n",
    "\n",
    "input: 4\n",
    "\n",
    "```\n",
    "x o o x\n",
    "o x x o\n",
    "o x x o\n",
    "x o o x\n",
    "```\n",
    "\n",
    "input: 5\n",
    "\n",
    "```\n",
    "x o o o x\n",
    "o x o x o\n",
    "o o x o o\n",
    "o x o x o\n",
    "x o o o x\n",
    "```"
   ]
  },
  {
   "cell_type": "code",
   "execution_count": 22,
   "metadata": {},
   "outputs": [
    {
     "name": "stdout",
     "output_type": "stream",
     "text": [
      "enter n: 4\n",
      "x o o x \n",
      "o x x o \n",
      "o x x o \n",
      "x o o x \n"
     ]
    }
   ],
   "source": [
    "n = int(input('enter n: '))\n",
    "for j in range(n):\n",
    "    row_string = ''\n",
    "    for i in range(n):\n",
    "        character = ''\n",
    "        # see below for explanation\n",
    "        if j == i or j == n - 1 - i:\n",
    "            character = 'x '\n",
    "        else:\n",
    "            character = 'o '\n",
    "        row_string += character\n",
    "    print(row_string)\n",
    "    \n",
    "# if the row and the column match it is the diagonal from left to right\n",
    "# j == i\n",
    "# the other condition is for the right to left diagonal\n",
    "# eg : n = 5\n",
    "    # j == n - 1 - i\n",
    "    # 4 is the maximum row/column index\n",
    "    # this will count bacwards as i increases\n",
    "    # Row 1\n",
    "    # i | 4 - i     | j | j == 4 - i\n",
    "    # ----------------------------------\n",
    "    # 0 | 4 - 0 = 4 | 0 | 0 == 4 | False \n",
    "    # 1 | 4 - 1 = 3 | 0 | 0 == 3 | False \n",
    "    # 2 | 4 - 2 = 2 | 0 | 0 == 2 | False \n",
    "    # 3 | 4 - 3 = 1 | 0 | 0 == 1 | False \n",
    "    # 4 | 4 - 4 = 0 | 0 | 0 == 0 | True  \n",
    "    # Row 2\n",
    "    # i | 4 - i     | j | j == 4 - i\n",
    "    # ----------------------------------\n",
    "    # 0 | 4 - 0 = 4 | 1 | 0 == 4 | False \n",
    "    # 1 | 4 - 1 = 3 | 1 | 0 == 3 | False \n",
    "    # 2 | 4 - 2 = 2 | 1 | 0 == 2 | False \n",
    "    # 3 | 4 - 3 = 1 | 1 | 0 == 1 | True \n",
    "    # 4 | 4 - 4 = 0 | 1 | 0 == 0 | False  \n",
    "    # Row 3\n",
    "    # i | 4 - i     | j | j == 4 - i\n",
    "    # ----------------------------------\n",
    "    # 0 | 4 - 0 = 4 | 2 | 0 == 4 | False \n",
    "    # 1 | 4 - 1 = 3 | 2 | 0 == 3 | False \n",
    "    # 2 | 4 - 2 = 2 | 2 | 0 == 2 | True \n",
    "    # 3 | 4 - 3 = 1 | 2 | 0 == 1 | False \n",
    "    # 4 | 4 - 4 = 0 | 2 | 0 == 0 | False \n",
    "    # Row 4\n",
    "    # i | 4 - i     | j | j == 4 - i\n",
    "    # ----------------------------------\n",
    "    # 0 | 4 - 0 = 4 | 3 | 0 == 4 | False \n",
    "    # 1 | 4 - 1 = 3 | 3 | 0 == 3 | True \n",
    "    # 2 | 4 - 2 = 2 | 3 | 0 == 2 | False \n",
    "    # 3 | 4 - 3 = 1 | 3 | 0 == 1 | False \n",
    "    # 4 | 4 - 4 = 0 | 3 | 0 == 0 | False \n",
    "    # Row 5\n",
    "    # i | 4 - i     | j | j == 4 - i\n",
    "    # ----------------------------------\n",
    "    # 0 | 4 - 0 = 4 | 4 | 0 == 4 | True \n",
    "    # 1 | 4 - 1 = 3 | 4 | 0 == 3 | False \n",
    "    # 2 | 4 - 2 = 2 | 4 | 0 == 2 | False \n",
    "    # 3 | 4 - 3 = 1 | 4 | 0 == 1 | False \n",
    "    # 4 | 4 - 4 = 0 | 4 | 0 == 0 | False "
   ]
  },
  {
   "cell_type": "markdown",
   "metadata": {},
   "source": [
    "2D Rectangles\n",
    "\n",
    "Write a program which reproduces the following patterns for any integer n, m\n",
    "\n",
    "These are exactly the same as the squares, the outer for loop just uses range m"
   ]
  },
  {
   "cell_type": "markdown",
   "metadata": {},
   "source": [
    "Question: 15\n",
    "\n",
    "input: 2, 3\n",
    "\n",
    "```\n",
    "* * *\n",
    "* * *\n",
    "```"
   ]
  },
  {
   "cell_type": "code",
   "execution_count": 62,
   "metadata": {},
   "outputs": [
    {
     "name": "stdout",
     "output_type": "stream",
     "text": [
      "enter m: 5\n",
      "enter n: 3\n",
      "* * * \n",
      "* * * \n",
      "* * * \n",
      "* * * \n",
      "* * * \n"
     ]
    }
   ],
   "source": [
    "m = int(input('enter m: '))\n",
    "n = int(input('enter n: '))\n",
    "for j in range(m):\n",
    "    output_string = ''\n",
    "    for i in range(n): # range(1, n) -> 0, 1, 2, 3, 4\n",
    "        output_string += '* '\n",
    "    print(output_string)"
   ]
  },
  {
   "cell_type": "markdown",
   "metadata": {},
   "source": [
    "Question: 16\n",
    "\n",
    "input: 2, 3\n",
    "\n",
    "```\n",
    "0 1 2\n",
    "0 1 2\n",
    "```"
   ]
  },
  {
   "cell_type": "code",
   "execution_count": 25,
   "metadata": {},
   "outputs": [
    {
     "name": "stdout",
     "output_type": "stream",
     "text": [
      "enter m: 2\n",
      "enter n: 3\n",
      "0 1 2 \n",
      "0 1 2 \n"
     ]
    }
   ],
   "source": [
    "m = int(input('enter m: '))\n",
    "n = int(input('enter n: '))\n",
    "for j in range(m):\n",
    "    output_string = ''\n",
    "    for i in range(n): # range(1, n) -> 0, 1, 2, 3, 4\n",
    "        output_string += '{} '.format(i)\n",
    "    print(output_string)"
   ]
  },
  {
   "cell_type": "markdown",
   "metadata": {},
   "source": [
    "Question: 17\n",
    "\n",
    "input: 2, 3\n",
    "\n",
    "```\n",
    "0 1 2\n",
    "3 4 5\n",
    "```\n",
    "\n",
    "input: 3, 5\n",
    "\n",
    "```\n",
    "0 1 2 3 4\n",
    "5 6 7 8 9\n",
    "0 1 2 3 4\n",
    "```"
   ]
  },
  {
   "cell_type": "code",
   "execution_count": 39,
   "metadata": {},
   "outputs": [
    {
     "name": "stdout",
     "output_type": "stream",
     "text": [
      "enter m: 3\n",
      "enter n: 4\n",
      "0 1 2 3 \n",
      "4 5 6 7 \n",
      "8 9 0 1 \n"
     ]
    }
   ],
   "source": [
    "m = int(input('enter m: '))\n",
    "n = int(input('enter n: '))\n",
    "for j in range(m):\n",
    "    output_string = ''\n",
    "    for i in range(n): # range(1, n) -> 0, 1, 2, 3, 4\n",
    "        output_string += '{} '.format((j * n + i) % 10)\n",
    "    print(output_string)"
   ]
  },
  {
   "cell_type": "markdown",
   "metadata": {},
   "source": [
    "Question: 18\n",
    "\n",
    "input: 3, 4\n",
    "\n",
    "```\n",
    "x o x o\n",
    "o x o x\n",
    "x o x o\n",
    "```\n",
    "\n",
    "input: 3, 5\n",
    "\n",
    "```\n",
    "x o x o x\n",
    "o x o x o\n",
    "x o x o x\n",
    "```"
   ]
  },
  {
   "cell_type": "code",
   "execution_count": 56,
   "metadata": {},
   "outputs": [
    {
     "name": "stdout",
     "output_type": "stream",
     "text": [
      "enter m: 4\n",
      "enter n: 3\n",
      "o x o \n",
      "x o x \n",
      "o x o \n",
      "x o x \n"
     ]
    }
   ],
   "source": [
    "m = int(input('enter m: '))\n",
    "n = int(input('enter n: '))\n",
    "for j in range(m):\n",
    "    # start each row as even or odd depending on whether the row index is even or odd\n",
    "    even = j % 2 == 0\n",
    "    output_string = ''\n",
    "    for i in range(n): # range(1, n) -> 0, 1, 2, 3, 4\n",
    "        # this is called an inline if\n",
    "        character = 'o' if even else 'x'\n",
    "        output_string += '{} '.format(character)\n",
    "        # alternate between even and odd for the row\n",
    "        even = not even\n",
    "    print(output_string)"
   ]
  },
  {
   "cell_type": "markdown",
   "metadata": {},
   "source": [
    "Question: 19\n",
    "\n",
    "input: 4, 3\n",
    "\n",
    "```\n",
    "x x x\n",
    "x o x\n",
    "x o x\n",
    "x x x\n",
    "```\n",
    "\n",
    "input: 6, 5\n",
    "\n",
    "```\n",
    "x x x x x\n",
    "x o o o x\n",
    "x o o o x\n",
    "x o o o x\n",
    "x o o o x\n",
    "x x x x x\n",
    "```"
   ]
  },
  {
   "cell_type": "code",
   "execution_count": 59,
   "metadata": {},
   "outputs": [
    {
     "name": "stdout",
     "output_type": "stream",
     "text": [
      "enter m: 4\n",
      "enter n: 3\n",
      "x x x \n",
      "x o x \n",
      "x o x \n",
      "x x x \n"
     ]
    }
   ],
   "source": [
    "m = int(input('enter m: '))\n",
    "n = int(input('enter n: '))\n",
    "for j in range(m):\n",
    "    row_string = ''\n",
    "    for i in range(n):\n",
    "        character = ''\n",
    "        # j == m - 1 for the last row\n",
    "        if j == 0 or j == m - 1 or i == 0 or i == n - 1:\n",
    "            character = 'x '\n",
    "        else:\n",
    "            character = 'o '\n",
    "        row_string += character\n",
    "    print(row_string)"
   ]
  }
 ],
 "metadata": {
  "kernelspec": {
   "display_name": "Python 3",
   "language": "python",
   "name": "python3"
  },
  "language_info": {
   "codemirror_mode": {
    "name": "ipython",
    "version": 3
   },
   "file_extension": ".py",
   "mimetype": "text/x-python",
   "name": "python",
   "nbconvert_exporter": "python",
   "pygments_lexer": "ipython3",
   "version": "3.6.2"
  }
 },
 "nbformat": 4,
 "nbformat_minor": 1
}
