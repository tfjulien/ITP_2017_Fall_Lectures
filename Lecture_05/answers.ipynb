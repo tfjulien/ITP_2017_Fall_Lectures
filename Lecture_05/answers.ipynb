{
 "cells": [
  {
   "cell_type": "markdown",
   "metadata": {
    "collapsed": true
   },
   "source": [
    "Question: 1\n",
    "\n",
    "Write a program which will prompt the user for 4 integers, i, j, m, n\n",
    "\n",
    "The program should find all such numbers which are divisible by 'i' but are not a multiple of 'j',\n",
    "between 'm' and 'n' (both included).\n",
    "\n",
    "The numbers obtained should be printed in a comma-separated sequence on a single line.\n",
    "\n",
    "input: i: 2 j: 3 m: 1 n: 7\n",
    "\n",
    "2, 4"
   ]
  },
  {
   "cell_type": "code",
   "execution_count": null,
   "metadata": {
    "collapsed": true
   },
   "outputs": [],
   "source": [
    "# pseudo code\n",
    "# 1.    get input\n",
    "# 2.    iterate -for number in range(m, n+1)\n",
    "#   3.1   check the conditions number % i == 0 and number % j != 0\n",
    "#   3.2   add number to a list\n",
    "# 4     output list of numbers\n",
    "\n",
    "i = int(input(\"enter 'i'\"))\n",
    "j = int(input(\"enter 'j'\"))\n",
    "m = int(input(\"enter 'm'\"))\n",
    "n = int(input(\"enter 'n'\"))\n",
    "\n",
    "valid_numbers = []\n",
    "\n",
    "for number in range(m, n+1):\n",
    "    if number % i == 0 and number % j != 0:\n",
    "        valid_numbers.append(str(number))\n",
    "print(', '.join(valid_numbers))\n"
   ]
  },
  {
   "cell_type": "markdown",
   "metadata": {},
   "source": [
    "Question: 2\n",
    "\n",
    "Write a program which prompts the user for a single integer n. Calculate the square of each number between 1 and n.\n",
    "Store the results in a dictionary with the number as the key and the square as the value.\n",
    "Output the complete dictionary\n",
    "\n",
    "input n: 5\n",
    "\n",
    "output:\n",
    "{1: 1, 2: 4, 3: 9, 4: 16, 5: 25}"
   ]
  },
  {
   "cell_type": "code",
   "execution_count": 4,
   "metadata": {},
   "outputs": [
    {
     "name": "stdout",
     "output_type": "stream",
     "text": [
      "enter 'n'5\n",
      "{1: 1, 2: 4, 3: 9, 4: 16, 5: 25}\n"
     ]
    }
   ],
   "source": [
    "# pseudo code\n",
    "# 1.     get input\n",
    "# 2.     create empty dictionary\n",
    "# 3.     iterate over range\n",
    "#   4.       dict[i] = i**2\n",
    "# 5.     ouput results\n",
    "\n",
    "\n",
    "n = int(input(\"enter 'n'\"))\n",
    "results_dict = {}\n",
    "for number in range(1, n+1):\n",
    "    results_dict[number] = number**2\n",
    "print(results_dict)"
   ]
  },
  {
   "cell_type": "markdown",
   "metadata": {},
   "source": [
    "Question: 3\n",
    "\n",
    "Write a program which prompts the user to enter a string.\n",
    "\n",
    "Calculate the number of characters and digits in the string and output the results.\n",
    "\n",
    "input: 'these are characters! abcd and these are integers! 1 2 3 4'\n",
    "\n",
    "output:\n",
    "\n",
    "characters: 41\n",
    "\n",
    "digits: 4\n"
   ]
  },
  {
   "cell_type": "code",
   "execution_count": 7,
   "metadata": {},
   "outputs": [
    {
     "name": "stdout",
     "output_type": "stream",
     "text": [
      "digits:\t 4\n",
      "characters:\t 41\n",
      "special characters:\t 13\n"
     ]
    }
   ],
   "source": [
    "# pseudo code\n",
    "# 1.     get input\n",
    "# 2.     assign two varaible chars and digits\n",
    "# 3.     iterate over all of the characters\n",
    "    # 4.    check if the character is a character\n",
    "    # 5.        incriment character count\n",
    "    # 6.    check if the chacter is a digit\n",
    "    # 7.        incriment digit count\n",
    "# 8. output character count\n",
    "# 9. output digit count\n",
    "\n",
    "inp = 'these are characters! abcd and these are integers! 1 2 3 4'\n",
    "\n",
    "char_count, digit_count, other_count = 0, 0, 0\n",
    "for character in inp:\n",
    "    if character.isalpha():\n",
    "        char_count = char_count + 1\n",
    "    elif character.isdigit():\n",
    "        digit_count = digit_count + 1\n",
    "    else:\n",
    "        other_count = other_count + 1\n",
    "print('digits:\\t', digit_count)\n",
    "print('characters:\\t', char_count)\n",
    "print('special characters:\\t', other_count)"
   ]
  },
  {
   "cell_type": "markdown",
   "metadata": {},
   "source": [
    "Question: 4\n",
    "\n",
    "Write a program which prompts the user for two integers i, j. Calculate all prime numbers between the two integers.\n",
    "\n",
    "input: i: 10 j: 20\n",
    "\n",
    "output: 11, 13, 17, 19\n"
   ]
  },
  {
   "cell_type": "code",
   "execution_count": 20,
   "metadata": {},
   "outputs": [
    {
     "name": "stdout",
     "output_type": "stream",
     "text": [
      "[1, 2, 3, 5, 7, 11]\n"
     ]
    }
   ],
   "source": [
    "# pseudo code\n",
    "# 1.    get input\n",
    "# 2.    create list to hold out numbers\n",
    "# 3.    for number in range i -> j + 1\n",
    "         # - check if i < 1\n",
    "#        4. for number_2 in range(2, number // 2)\n",
    "#            5.\n",
    "#                  6.\n",
    "# 7.\n",
    "\n",
    "i = int(input('enter i: '))\n",
    "j = int(input('enter j: '))\n",
    "\n",
    "list_of_primes = []\n",
    "for number in range(i, j + 1):\n",
    "    if number < 2:\n",
    "        continue\n",
    "#     print('checking for: ', number, number // 2)\n",
    "    is_prime = True\n",
    "    for divisor in range(2, (number // 2) + 1):\n",
    "#         print('\\tdivisor :', divisor)\n",
    "#         print('\\tnumber: {} divisor: {} remainder: {}'.format(number, divisor, number % divisor))\n",
    "        if number % divisor == 0:\n",
    "#             print('\\tbreak')\n",
    "            is_prime = False\n",
    "            break\n",
    "    if is_prime:\n",
    "        list_of_primes.append(number)\n",
    "print(list_of_primes)"
   ]
  },
  {
   "cell_type": "markdown",
   "metadata": {},
   "source": [
    "### 1D\n",
    "Write a program which reproduces the following patterns for any integer n\n",
    "\n",
    "---------\n",
    "\n",
    "Question: 5\n",
    "\n",
    "input: 3\n",
    "\n",
    "output:\n",
    "\n",
    "\\* \\* \\*\n",
    "\n",
    "--------\n",
    "\n",
    "input: 5\n",
    "\n",
    "output:\n",
    "\n",
    "\\* \\* \\* \\* *"
   ]
  },
  {
   "cell_type": "code",
   "execution_count": 21,
   "metadata": {},
   "outputs": [
    {
     "name": "stdout",
     "output_type": "stream",
     "text": [
      "enter n: 5\n",
      "* * * * * \n"
     ]
    }
   ],
   "source": [
    "# pseudo code\n",
    "# 1.    get input\n",
    "# 2.    init ''\n",
    "# 3.    for loop\n",
    "#     4.    add characters\n",
    "# 5.    ouput\n",
    "\n",
    "n = int(input('enter n: '))\n",
    "output_string = ''\n",
    "for i in range(n):\n",
    "    output_string += '* '\n",
    "print(output_string)"
   ]
  },
  {
   "cell_type": "markdown",
   "metadata": {},
   "source": [
    "Question: 6\n",
    "\n",
    "input: 3\n",
    "\n",
    "output:\n",
    "0 1 2\n",
    "\n",
    "--------\n",
    "input: 5\n",
    "\n",
    "output:\n",
    "0 1 2 3 4"
   ]
  },
  {
   "cell_type": "code",
   "execution_count": 23,
   "metadata": {},
   "outputs": [
    {
     "name": "stdout",
     "output_type": "stream",
     "text": [
      "enter n: 5\n",
      "0 1 2 3 4 \n"
     ]
    }
   ],
   "source": [
    "# pseudo code\n",
    "# 1.    get input\n",
    "# 2.    init ''\n",
    "# 3.    for loop\n",
    "#     4.    add characters\n",
    "# 5.    ouput\n",
    "\n",
    "n = int(input('enter n: '))\n",
    "output_string = ''\n",
    "for i in range(n):\n",
    "    output_string += '{} '.format(i)\n",
    "print(output_string)"
   ]
  },
  {
   "cell_type": "markdown",
   "metadata": {},
   "source": [
    "Question: 7\n",
    "\n",
    "input: 3\n",
    "\n",
    "output:\n",
    "x o x\n",
    "\n",
    "--------\n",
    "input: 5\n",
    "\n",
    "output:\n",
    "x o x o x"
   ]
  },
  {
   "cell_type": "code",
   "execution_count": 25,
   "metadata": {},
   "outputs": [
    {
     "name": "stdout",
     "output_type": "stream",
     "text": [
      "enter n: 5\n",
      "x o x o x \n"
     ]
    }
   ],
   "source": [
    "# pseudo code\n",
    "# 1.    get input\n",
    "# 2.    init ''\n",
    "# 3.    for loop\n",
    "#     4.    add characters\n",
    "# 5.    ouput\n",
    "\n",
    "n = int(input('enter n: '))\n",
    "output_string = ''\n",
    "for i in range(n):\n",
    "    if i % 2 == 0:\n",
    "        output_string += 'x '\n",
    "    else:\n",
    "        output_string += 'o '\n",
    "print(output_string)"
   ]
  },
  {
   "cell_type": "markdown",
   "metadata": {},
   "source": [
    "Question: 8\n",
    "\n",
    "input: 4\n",
    "\n",
    "output:\n",
    "x o o x\n",
    "\n",
    "--------\n",
    "input: 5\n",
    "\n",
    "output:\n",
    "x o o o x"
   ]
  },
  {
   "cell_type": "code",
   "execution_count": 27,
   "metadata": {},
   "outputs": [
    {
     "name": "stdout",
     "output_type": "stream",
     "text": [
      "enter n: 5\n",
      "x o o o x \n"
     ]
    }
   ],
   "source": [
    "# pseudo code\n",
    "# 1.    get input\n",
    "# 2.    init ''\n",
    "# 3.    for loop\n",
    "#     4.    add characters\n",
    "# 5.    ouput\n",
    "\n",
    "n = int(input('enter n: '))\n",
    "output_string = ''\n",
    "for i in range(n):\n",
    "    if i == 0 or i == n - 1:\n",
    "        output_string += 'x '\n",
    "    else:\n",
    "        output_string += 'o '\n",
    "print(output_string)"
   ]
  }
 ],
 "metadata": {
  "kernelspec": {
   "display_name": "Python 3",
   "language": "python",
   "name": "python3"
  },
  "language_info": {
   "codemirror_mode": {
    "name": "ipython",
    "version": 3
   },
   "file_extension": ".py",
   "mimetype": "text/x-python",
   "name": "python",
   "nbconvert_exporter": "python",
   "pygments_lexer": "ipython3",
   "version": "3.6.2"
  }
 },
 "nbformat": 4,
 "nbformat_minor": 1
}
