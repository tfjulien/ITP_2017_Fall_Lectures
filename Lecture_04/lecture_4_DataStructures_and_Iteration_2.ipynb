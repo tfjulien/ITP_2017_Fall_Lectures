{
 "cells": [
  {
   "cell_type": "markdown",
   "metadata": {},
   "source": [
    "# Introduction to Python - Day 04 (22 Sept 2017)\n",
    "\n",
    "### Recap\n",
    "\n",
    "+ Introduction to composite data types, a.k.a data structures (lists)\n",
    "+ Iteration (repetitive execution) - another form of program control flow (for-loop patterns)\n",
    "+ Running programs in debug mode (for debugging and exploring dynamic code execution environment)"
   ]
  },
  {
   "cell_type": "markdown",
   "metadata": {},
   "source": [
    "---\n",
    "# Dictionaries (a.k.a. HashMap/HashTable)\n",
    "\n",
    "+ Consist of a **set of mappings** between _**<font color='blue'>unique</font>**_ **keys** and their **values**.\n",
    "\n",
    "#### Basic syntax:\n",
    "{key1: value1, key2: value2, ...}\n",
    "   \n",
    "```python\n",
    "# Example:\n",
    "genetic_code = {'uuu': 'phe', 'uua': 'leu', 'aug': 'met', 'uaa': 'stop'}\n",
    "```\n",
    "\n",
    "**Comparison with Lists**\n",
    "+ Lists are ordered: the order in which elements are added is the order in which they are stored\n",
    "    + Access by position/index\n",
    "        + Ex. letters = ['a', 'b', 'c', 'd', 'e', 'f']\n",
    "        + letters[0] is 'a' etc.\n",
    "+ Dictionaries are unordered\n",
    "    + Access by key\n",
    "        + Ex. dict_ = {'key1': 'a', 'key2': 'b', 'key3': 'c'}\n",
    "        + dict_['key1'] is 'a'\n",
    "\n",
    "The association between a **key** and a **value** is often refered to as a **key**-**value** pair or sometimes an **item**.\n",
    "\n",
    "\n",
    "#### Keys\n",
    "\n",
    "+ must be immutable (string, integer, float, tuple)\n",
    "+ must be unique\n",
    "\n",
    "\n",
    "#### Values\n",
    "+ Can be of any type, mutable or immutable, simple or composite (arbitrarily complex, heterogeneous)\n",
    "    + primitives (character: 'a', integer: 0, float: 3.4)\n",
    "    + sequential Types (string: 'asd', list: [0, 1, 2], another dictionary: {'key':'value'}, tuple: (0, 1, 2)\n",
    "    + user Defined Types (discussed later) (functions, classes, objects etc.)\n",
    "\n",
    "\n",
    "### Some Real World Examples\n",
    "\n",
    "+ {**&lt;gene_id&gt;**: **&lt;**gene sequence**&gt;**, ...}\n",
    "+ {**&lt;email&gt;**: **&lt;**user data**&gt;**, ...}\n",
    "+ {**&lt;soc security&gt;**: **&lt;**individual**&gt;**, ...}\n",
    "+ {**&lt;emp id&gt;**: **&lt;**emp data**&gt;**, ...}"
   ]
  },
  {
   "cell_type": "markdown",
   "metadata": {},
   "source": [
    "## Operations\n",
    "\n",
    "```python\n",
    "help(dict)\n",
    "```\n",
    "\n",
    "+ Create\n",
    "+ Access keys, values or (key, value) pairs / items\n",
    "+ Modify items\n",
    "+ Check membership of a key\n",
    "+ Traverse through the dictionary and do something\n",
    "+ Make it bigger / smaller (add and remove items)\n",
    "+ …\n"
   ]
  },
  {
   "cell_type": "code",
   "execution_count": null,
   "metadata": {
    "collapsed": true
   },
   "outputs": [],
   "source": []
  },
  {
   "cell_type": "markdown",
   "metadata": {},
   "source": [
    "## Creating a dictionary\n",
    "Several ways to create a dictionary\n",
    "\n",
    "```python\n",
    "dict_x = {'a': 1, 'b': 2}      # initialize by assignment\n",
    "dict_y = dict(a=1, b=2)        # use dict built-in function\n",
    "print(dict_x, dict_y)\n",
    "```\n",
    "+ **keys** = 'a', 'b'\n",
    "+ **values** = 1, 2\n",
    "+ **items** = ('a', 1), ('b', 2)\n",
    "\n",
    "+ Access by key:\n",
    "```python\n",
    "print(\"The value for key '{}' is {}\".format('a', dict_x['a']))\n",
    "```\n",
    "\n",
    "#### Dictionaries can also be built incrementally - see example later"
   ]
  },
  {
   "cell_type": "code",
   "execution_count": 2,
   "metadata": {},
   "outputs": [
    {
     "name": "stdout",
     "output_type": "stream",
     "text": [
      "{'a': 1, 'b': 2} {'a': 1, 'b': 2}\n",
      "The value for key 'a' is 1\n"
     ]
    }
   ],
   "source": [
    "dict_x = {'a': 1, 'b': 2}      # initialize by assignment\n",
    "dict_y = dict(a=1, b=2)        # use dict built-in function\n",
    "print(dict_x, dict_y)\n",
    "print(\"The value for key '{}' is {}\".format('a', dict_x['a']))"
   ]
  },
  {
   "cell_type": "markdown",
   "metadata": {},
   "source": [
    "### Example - Lookup Table\n",
    "\n",
    "```python\n",
    "elements = {'H': 'hydrogen',   'He': 'helium', \n",
    "            'Li': 'lithium',  'C': 'carbon', \n",
    "            'O': 'oxygen',  'N': 'nitrogen'}\n",
    "complement = {'A': 'T', 'T': 'A', 'C': 'G', 'G': 'C'}\n",
    "print('H', '->', elements['H'])\n",
    "print('A', '->', complement['A'])\n",
    "```"
   ]
  },
  {
   "cell_type": "code",
   "execution_count": null,
   "metadata": {
    "collapsed": true
   },
   "outputs": [],
   "source": []
  },
  {
   "cell_type": "markdown",
   "metadata": {},
   "source": [
    "### Example - Database Records\n",
    "```python\n",
    "person = {'name': 'John', \n",
    "          'surname': 'Grisham', \n",
    "          'contact': \n",
    "              {\n",
    "              'phone': {'office': '123-456-7890',\n",
    "                        'cell': '456-789-0123'\n",
    "                       },\n",
    "              'email': ['johnny@gmail.com', 'john.grisham@writers.com']\n",
    "              }\n",
    "          }\n",
    "print(person['name'])\n",
    "print(person['contact'])\n",
    "print(person['contact']['phone'])\n",
    "print(person['contact']['email'])\n",
    "```"
   ]
  },
  {
   "cell_type": "code",
   "execution_count": null,
   "metadata": {},
   "outputs": [],
   "source": [
    "{\"1\": {fn: , ln: ..}, \"2\": {fn: , ln: }}"
   ]
  },
  {
   "cell_type": "markdown",
   "metadata": {},
   "source": [
    "# Iterating over a dictionary\n",
    "\n",
    "### Pattern 1: &lt;dict&gt;.keys()\n",
    "<font color='blue'>**Note:**</font> &lt;dict&gt; is a placeholder for a dictionary object\n",
    "\n",
    "```python\n",
    "my_dict = {0: 'a', 1:'b', 2: 'c', 3: 'd'}\n",
    "print('dict_keys lazy obj: ', my_dict.keys())                       # lazy object\n",
    "print('dict_keys unpacked: ', list(my_dict.keys()))                 # forceful typecast\n",
    "print('Inside for loop:')\n",
    "for key in my_dict.keys():               # for loop unpacks the lazy object internally\n",
    "    print('key: ', key)\n",
    "```"
   ]
  },
  {
   "cell_type": "code",
   "execution_count": 12,
   "metadata": {},
   "outputs": [
    {
     "name": "stdout",
     "output_type": "stream",
     "text": [
      "{0: 'a', 1: 'b', 2: 'c', 3: 'd'}\n",
      "dict_keys lazy obj:  dict_keys([0, 1, 2, 3])\n",
      "dict_keys unpacked:  [0, 1, 2, 3]\n",
      "Inside for loop:\n",
      "key:  0\n",
      "key:  1\n",
      "key:  2\n",
      "key:  3\n"
     ]
    }
   ],
   "source": [
    "my_dict = {0: 'a', 1:'b', 2: 'c', 3: 'd'}\n",
    "print(my_dict)\n",
    "print('dict_keys lazy obj: ', my_dict.keys())\n",
    "print('dict_keys unpacked: ', list(my_dict.keys()))\n",
    "\n",
    "print('Inside for loop:')\n",
    "for key in my_dict.keys():               # for loop unpacks the lazy object internally\n",
    "    print('key: ', key)"
   ]
  },
  {
   "cell_type": "markdown",
   "metadata": {},
   "source": [
    "### Pattern 2: &lt;dict&gt;.values()\n",
    "\n",
    "\n",
    "```python\n",
    "my_dict = {0: 'a', 1:'b', 2: 'c', 3: 'd'}\n",
    "print('dict_values lazy obj: ', my_dict.values())                    # lazy object\n",
    "print('dict_values unpacked: ', list(my_dict.values()))\n",
    "print('Inside for loop')\n",
    "for value in my_dict.values():\n",
    "    print('value: ', value)\n",
    "```"
   ]
  },
  {
   "cell_type": "code",
   "execution_count": 13,
   "metadata": {},
   "outputs": [
    {
     "name": "stdout",
     "output_type": "stream",
     "text": [
      "dict_values lazy obj:  dict_values(['a', 'b', 'c', 'd'])\n",
      "dict_values unpacked:  ['a', 'b', 'c', 'd']\n",
      "Inside for loop\n",
      "value:  a\n",
      "value:  b\n",
      "value:  c\n",
      "value:  d\n"
     ]
    }
   ],
   "source": [
    "my_dict = {0: 'a', 1:'b', 2: 'c', 3: 'd'}\n",
    "print('dict_values lazy obj: ', my_dict.values())                    # lazy object\n",
    "print('dict_values unpacked: ', list(my_dict.values()))\n",
    "print('Inside for loop')\n",
    "for value in my_dict.values():\n",
    "    print('value: ', value)"
   ]
  },
  {
   "cell_type": "markdown",
   "metadata": {},
   "source": [
    "### Pattern 3: &lt;dict&gt;.items()\n",
    "\n",
    "```python\n",
    "my_dict = {0: 'a', 1:'b', 2: 'c', 3: 'd'}\n",
    "print('dict_items lazy obj: ', my_dict.items())                     # lazy object\n",
    "print('dict_items unpacked: ', list(my_dict.items()))\n",
    "print('Inside for loop: ')\n",
    "for item in my_dict.items():\n",
    "    print(item)\n",
    "    # print('item: {}, key: {}, value: {}'.format(item, item[0], item[1]))\n",
    "```"
   ]
  },
  {
   "cell_type": "code",
   "execution_count": 15,
   "metadata": {},
   "outputs": [
    {
     "name": "stdout",
     "output_type": "stream",
     "text": [
      "dict_items lazy obj:  dict_items([(0, 'a'), (1, 'b'), (2, 'c'), (3, 'd')])\n",
      "dict_items unpacked:  [(0, 'a'), (1, 'b'), (2, 'c'), (3, 'd')]\n",
      "Inside for loop: \n",
      "item: (0, 'a'), key: 0, value: a\n",
      "item: (1, 'b'), key: 1, value: b\n",
      "item: (2, 'c'), key: 2, value: c\n",
      "item: (3, 'd'), key: 3, value: d\n"
     ]
    }
   ],
   "source": [
    "my_dict = {0: 'a', 1:'b', 2: 'c', 3: 'd'}\n",
    "print('dict_items lazy obj: ', my_dict.items())                     # lazy object\n",
    "print('dict_items unpacked: ', list(my_dict.items()))\n",
    "print('Inside for loop: ')\n",
    "for item in my_dict.items():\n",
    "    print('item: {}, key: {}, value: {}'.format(item, item[0], item[1]))"
   ]
  },
  {
   "cell_type": "markdown",
   "metadata": {},
   "source": [
    "#### <font color='blue' size=3>Sidebar: List/Tuple unpacking</font> \n",
    "If there are the same number of variables as elements in a sequence, python will assign each element to a variable\n",
    "```python\n",
    "val1, val2 = [1, 2]\n",
    "print(val1, val2)\n",
    "```\n",
    "If there are more or less elements, python will throw a ValueError\n",
    "```python\n",
    "val1, val2 = [1]\n",
    "val1, val2 = [1, 2, 3]\n",
    "```"
   ]
  },
  {
   "cell_type": "code",
   "execution_count": 18,
   "metadata": {},
   "outputs": [
    {
     "ename": "ValueError",
     "evalue": "not enough values to unpack (expected 2, got 1)",
     "output_type": "error",
     "traceback": [
      "\u001b[0;31m---------------------------------------------------------------------------\u001b[0m",
      "\u001b[0;31mValueError\u001b[0m                                Traceback (most recent call last)",
      "\u001b[0;32m<ipython-input-18-778ecbba2f54>\u001b[0m in \u001b[0;36m<module>\u001b[0;34m()\u001b[0m\n\u001b[0;32m----> 1\u001b[0;31m \u001b[0mval1\u001b[0m\u001b[0;34m,\u001b[0m \u001b[0mval2\u001b[0m \u001b[0;34m=\u001b[0m \u001b[0;34m[\u001b[0m\u001b[0;36m1\u001b[0m\u001b[0;34m]\u001b[0m\u001b[0;34m\u001b[0m\u001b[0m\n\u001b[0m\u001b[1;32m      2\u001b[0m \u001b[0mval1\u001b[0m\u001b[0;34m,\u001b[0m \u001b[0mval2\u001b[0m \u001b[0;34m=\u001b[0m \u001b[0;34m[\u001b[0m\u001b[0;36m1\u001b[0m\u001b[0;34m,\u001b[0m \u001b[0;36m2\u001b[0m\u001b[0;34m,\u001b[0m \u001b[0;36m3\u001b[0m\u001b[0;34m]\u001b[0m\u001b[0;34m\u001b[0m\u001b[0m\n",
      "\u001b[0;31mValueError\u001b[0m: not enough values to unpack (expected 2, got 1)"
     ]
    }
   ],
   "source": [
    "val1, val2 = [1]\n",
    "val1, val2 = [1, 2, 3]"
   ]
  },
  {
   "cell_type": "markdown",
   "metadata": {},
   "source": [
    "### Pattern 4: Item split into key/value\n",
    "```python\n",
    "my_dict = {0: 'a', 1:'b', 2: 'c', 3: 'd'}\n",
    "print('dict_items lazy obj:', my_dict.items())\n",
    "print('Inside for loop:')\n",
    "for key, value in my_dict.items():\n",
    "    print(\"key: {}, value: {}\".format(key, value))\n",
    "```"
   ]
  },
  {
   "cell_type": "code",
   "execution_count": 22,
   "metadata": {},
   "outputs": [
    {
     "name": "stdout",
     "output_type": "stream",
     "text": [
      "dict_items lazy obj: dict_items([(0, 'a'), (1, 'b'), (2, 'c'), (3, 'd')])\n",
      "Inside for loop:\n",
      "key: 0, value: a\n",
      "key: 1, value: b\n",
      "key: 2, value: c\n",
      "key: 3, value: d\n"
     ]
    }
   ],
   "source": [
    "my_dict = {0: 'a', 1:'b', 2: 'c', 3: 'd'}\n",
    "print('dict_items lazy obj:', my_dict.items())\n",
    "print('Inside for loop:')\n",
    "for key, value in my_dict.items():\n",
    "    print(\"key: {}, value: {}\".format(key, value))"
   ]
  },
  {
   "cell_type": "markdown",
   "metadata": {},
   "source": [
    "### Membership - check if a key exists in a dictionary\n",
    "\n",
    "```python\n",
    "some_dict = {'a': 0, 'b': 1, 'c': 2}\n",
    "print(\"our dict: \", some_dict)\n",
    "print(\"a in our dict: \", 'a' in some_dict)\n",
    "```"
   ]
  },
  {
   "cell_type": "code",
   "execution_count": 23,
   "metadata": {},
   "outputs": [
    {
     "name": "stdout",
     "output_type": "stream",
     "text": [
      "our dict:  {'a': 0, 'b': 1, 'c': 2}\n",
      "a in our dict:  True\n"
     ]
    }
   ],
   "source": [
    "some_dict = {'a': 0, 'b': 1, 'c': 2}\n",
    "print(\"our dict: \", some_dict)\n",
    "print(\"a in our dict: \", 'a' in some_dict)"
   ]
  },
  {
   "cell_type": "markdown",
   "metadata": {},
   "source": [
    "\n",
    "### Modifications\n",
    "\n",
    "+ Changing the value for a key\n",
    "\n",
    "```python\n",
    "some_dict['a'] = 10\n",
    "print(\"our dict (now): \", some_dict)\n",
    "```\n",
    "\n",
    "+ Adding individual key-value pair to a dictionary\n",
    "\n",
    "```python\n",
    "some_dict['d'] = 3\n",
    "print(\"our dict (now): \", some_dict)\n",
    "```\n",
    "\n",
    "+ Updating a dictionary with another dictionary (updates existing values; adds new key-value pairs)\n",
    "```python\n",
    "some_other_dict = {'a': 99, 'e': 999}\n",
    "some_dict.update(some_other_dict)\n",
    "print(\"our dict (now): \", some_dict)\n",
    "```"
   ]
  },
  {
   "cell_type": "code",
   "execution_count": 26,
   "metadata": {},
   "outputs": [
    {
     "name": "stdout",
     "output_type": "stream",
     "text": [
      "our dict (now):  {'a': 10, 'b': 1, 'c': 2, 'd': 3}\n",
      "our dict (now):  {'a': 10, 'b': 1, 'c': 2, 'd': 3}\n",
      "our dict (now):  {'a': 99, 'b': 1, 'c': 2, 'd': 3, 'e': 999}\n"
     ]
    }
   ],
   "source": [
    "some_dict['a'] = 10\n",
    "print(\"our dict (now): \", some_dict)\n",
    "some_dict['d'] = 3\n",
    "print(\"our dict (now): \", some_dict)\n",
    "\n",
    "some_other_dict = {'a': 99, 'e': 999}\n",
    "some_dict.update(some_other_dict)\n",
    "print(\"our dict (now): \", some_dict)"
   ]
  },
  {
   "cell_type": "markdown",
   "metadata": {},
   "source": [
    "### Extra - pretty Printing\n",
    "\n",
    "+ Complicated dictionaries do not print nicely.\n",
    "+ pprint is a library that prints dictionaries in a more structured manner\n",
    "    + external library that needs to be imported\n",
    "    + it comes standard with python installation\n",
    "+ If you want to configure the output, create a pretty printer object first before using it (ow default config is used)\n",
    "\n",
    "```python\n",
    "import pprint\n",
    "dict_ = {'name': 'Joe', 'Surname': 'van Niekerk', 'email': 'jvn@c.m', \n",
    "        'friends': [{'name': 'Sally'}, {'name': 'Dave'}, {'name': 'Rick'}, {'name': 'James'}]}\n",
    "print('\\n' +'-'*50)\n",
    "print(\"No pretty printing\")\n",
    "print('-'*50)\n",
    "print(dict_)\n",
    "print('\\n' + '-'*50)\n",
    "print(\"Default pretty printing\")\n",
    "print('-'*50)\n",
    "pprint.pprint(dict_)\n",
    "print('\\n' + '-'*50)\n",
    "print(\"Custom pretty printing\")\n",
    "print('-'*50)\n",
    "pp = pprint.PrettyPrinter(indent=4)   # create a pprint object with desired attributes (more on this later)\n",
    "pp.pprint(dict_)\n",
    "```"
   ]
  },
  {
   "cell_type": "code",
   "execution_count": 29,
   "metadata": {},
   "outputs": [
    {
     "name": "stdout",
     "output_type": "stream",
     "text": [
      "\n",
      "--------------------------------------------------\n",
      "No pretty printing\n",
      "--------------------------------------------------\n",
      "{'name': 'Joe', 'Surname': 'van Niekerk', 'email': 'jvn@c.m', 'friends': [{'name': 'Sally'}, {'name': 'Dave'}, {'name': 'Rick'}, {'name': 'James'}]}\n",
      "\n",
      "--------------------------------------------------\n",
      "Default pretty printing\n",
      "--------------------------------------------------\n",
      "{'Surname': 'van Niekerk',\n",
      " 'email': 'jvn@c.m',\n",
      " 'friends': [{'name': 'Sally'},\n",
      "             {'name': 'Dave'},\n",
      "             {'name': 'Rick'},\n",
      "             {'name': 'James'}],\n",
      " 'name': 'Joe'}\n",
      "\n",
      "--------------------------------------------------\n",
      "Custom pretty printing\n",
      "--------------------------------------------------\n",
      "{   'Surname': 'van Niekerk',\n",
      "    'email': 'jvn@c.m',\n",
      "    'friends': [   {'name': 'Sally'},\n",
      "                   {'name': 'Dave'},\n",
      "                   {'name': 'Rick'},\n",
      "                   {'name': 'James'}],\n",
      "    'name': 'Joe'}\n"
     ]
    }
   ],
   "source": [
    "import pprint\n",
    "dict_ = {'name': 'Joe', 'Surname': 'van Niekerk', 'email': 'jvn@c.m', \n",
    "        'friends': [{'name': 'Sally'}, {'name': 'Dave'}, {'name': 'Rick'}, {'name': 'James'}]}\n",
    "print('\\n' +'-'*50)\n",
    "print(\"No pretty printing\")\n",
    "print('-'*50)\n",
    "print(dict_)\n",
    "\n",
    "print('\\n' + '-'*50)\n",
    "print(\"Default pretty printing\")\n",
    "print('-'*50)\n",
    "pprint.pprint(dict_)\n",
    "\n",
    "print('\\n' + '-'*50)\n",
    "print(\"Custom pretty printing\")\n",
    "print('-'*50)\n",
    "pp = pprint.PrettyPrinter(indent=4)   # create a pprint object with desired attributes (more on this later)\n",
    "pp.pprint(dict_)"
   ]
  },
  {
   "cell_type": "markdown",
   "metadata": {},
   "source": [
    "## Example (PyCharm)\n",
    "Common pattern: **Aggregate** and **summarize**\n",
    "+ Say, we have a long list of numbers\n",
    "+ [0,1,1,3,1,3,6,1,8,2,8,7,5,0,2,2,1,5,4,7,0,0,3,1,2,9,9,4,3,2,5,3,1,2,1,3,3,2,2,4,5,1,6,7,9,8,1,4,2,5,6,8,0,0,0,1,1,2,6,1,3,2,4,2,5,7,3,1,3,4,6]\n",
    "+ Count the number of times each number appears (and may be rank-order them according to frequency)\n",
    "+ Thought Process?"
   ]
  },
  {
   "cell_type": "code",
   "execution_count": 32,
   "metadata": {},
   "outputs": [
    {
     "name": "stdout",
     "output_type": "stream",
     "text": [
      "{0: 7,\n",
      " 1: 14,\n",
      " 2: 12,\n",
      " 3: 10,\n",
      " 4: 6,\n",
      " 5: 6,\n",
      " 6: 5,\n",
      " 7: 4,\n",
      " 8: 4,\n",
      " 9: 3}\n"
     ]
    }
   ],
   "source": [
    "import pprint\n",
    "numbers = [0,1,1,3,1,3,6,1,8,2,8,7,5,0,2,2,1,5,4,7,0,0,3,1,2,9,9,4,\n",
    "           3,2,5,3,1,2,1,3,3,2,2,4,5,1,6,7,9,8,1,4,2,5,6,8,0,0,0,1,\n",
    "           1,2,6,1,3,2,4,2,5,7,3,1,3,4,6]\n",
    "counts = {}\n",
    "for num in numbers:\n",
    "    if num in counts:\n",
    "        counts[num] = counts[num] + 1\n",
    "    else:\n",
    "        counts[num] = 1\n",
    "pp = pprint.PrettyPrinter(width=10)\n",
    "pp.pprint(counts)"
   ]
  },
  {
   "cell_type": "code",
   "execution_count": 34,
   "metadata": {},
   "outputs": [
    {
     "name": "stdout",
     "output_type": "stream",
     "text": [
      "{0: 7,\n",
      " 1: 14,\n",
      " 2: 12,\n",
      " 3: 10,\n",
      " 4: 6,\n",
      " 5: 6,\n",
      " 6: 5,\n",
      " 7: 4,\n",
      " 8: 4,\n",
      " 9: 3}\n"
     ]
    }
   ],
   "source": [
    "import pprint\n",
    "numbers = [0,1,1,3,1,3,6,1,8,2,8,7,5,0,2,2,1,5,4,7,0,0,3,1,2,9,9,4,\n",
    "           3,2,5,3,1,2,1,3,3,2,2,4,5,1,6,7,9,8,1,4,2,5,6,8,0,0,0,1,\n",
    "           1,2,6,1,3,2,4,2,5,7,3,1,3,4,6]\n",
    "counts = {}\n",
    "for num in numbers:\n",
    "    counts[num] = counts.get(num, 0) + 1\n",
    "#     if num in counts:\n",
    "#         counts[num] = counts[num] + 1\n",
    "#     else:\n",
    "#         counts[num] = 1\n",
    "pp = pprint.PrettyPrinter(width=10)\n",
    "pp.pprint(counts)\n",
    "\n",
    "# help(dict.get)"
   ]
  },
  {
   "cell_type": "markdown",
   "metadata": {},
   "source": [
    "## Example (PyCharm)\n",
    "Common pattern: **Aggregate**\n",
    "+ Genetic code gives us mapping from nucleotide triplets (64 in number) to amino acids (20 in number). So some redundancy.\n",
    "```python\n",
    "import pprint\n",
    "gen_code = {'uuu': 'Phe', 'uuc': 'Phe', 'uua': 'Leu', 'uug': 'Leu', \n",
    "            'ucu': 'Ser', 'ucc': 'Ser', 'uca': 'Ser', 'ucg': 'Ser', \n",
    "            'uau': 'Tyr', 'uac': 'Tyr', 'uaa': 'Stop', 'uag': 'Stop',\n",
    "            'ugu': 'Cys', 'ugc': 'Cys', 'uga': 'Stop', 'ugg': 'Trp',\n",
    "            'cuu': 'Leu', 'cuc': 'Leu', 'cua': 'Leu', 'cug': 'Leu', \n",
    "            'ccu': 'Pro', 'ccc': 'Pro', 'cca': 'Pro', 'ccg': 'Pro',\n",
    "            'cau': 'His', 'cac': 'His', 'caa': 'Gln', 'cag': 'Gln', \n",
    "            'cgu': 'Arg', 'cgc': 'Arg', 'cga': 'Arg', 'cgg': 'Arg}\n",
    "pprint.pprint(gen_code)\n",
    "```\n",
    "\n",
    "+ What if we want to know what triplets code for phe?\n",
    "    - one solution: iterate through genetic code dict for each query and assemble results\n",
    "    - better solution: pre-compute the desired results (mapping from amino acid to nucleotide triplets)\n",
    "+ Thought Process?"
   ]
  },
  {
   "cell_type": "code",
   "execution_count": 39,
   "metadata": {},
   "outputs": [
    {
     "ename": "AttributeError",
     "evalue": "'NoneType' object has no attribute 'append'",
     "output_type": "error",
     "traceback": [
      "\u001b[0;31m---------------------------------------------------------------------------\u001b[0m",
      "\u001b[0;31mAttributeError\u001b[0m                            Traceback (most recent call last)",
      "\u001b[0;32m<ipython-input-39-928308451342>\u001b[0m in \u001b[0;36m<module>\u001b[0;34m()\u001b[0m\n\u001b[1;32m     19\u001b[0m \u001b[0maa_codon_map\u001b[0m \u001b[0;34m=\u001b[0m \u001b[0;34m{\u001b[0m\u001b[0;34m}\u001b[0m\u001b[0;34m\u001b[0m\u001b[0m\n\u001b[1;32m     20\u001b[0m \u001b[0;32mfor\u001b[0m \u001b[0mkey\u001b[0m\u001b[0;34m,\u001b[0m \u001b[0mvalue\u001b[0m \u001b[0;32min\u001b[0m \u001b[0mgen_code\u001b[0m\u001b[0;34m.\u001b[0m\u001b[0mitems\u001b[0m\u001b[0;34m(\u001b[0m\u001b[0;34m)\u001b[0m\u001b[0;34m:\u001b[0m\u001b[0;34m\u001b[0m\u001b[0m\n\u001b[0;32m---> 21\u001b[0;31m     \u001b[0maa_codon_map\u001b[0m\u001b[0;34m[\u001b[0m\u001b[0mvalue\u001b[0m\u001b[0;34m]\u001b[0m \u001b[0;34m=\u001b[0m \u001b[0maa_codon_map\u001b[0m\u001b[0;34m.\u001b[0m\u001b[0mget\u001b[0m\u001b[0;34m(\u001b[0m\u001b[0mvalue\u001b[0m\u001b[0;34m,\u001b[0m \u001b[0;34m[\u001b[0m\u001b[0;34m]\u001b[0m\u001b[0;34m)\u001b[0m\u001b[0;34m.\u001b[0m\u001b[0mappend\u001b[0m\u001b[0;34m(\u001b[0m\u001b[0mkey\u001b[0m\u001b[0;34m)\u001b[0m\u001b[0;34m\u001b[0m\u001b[0m\n\u001b[0m\u001b[1;32m     22\u001b[0m \u001b[0;34m\u001b[0m\u001b[0m\n\u001b[1;32m     23\u001b[0m \u001b[0mpprint\u001b[0m\u001b[0;34m.\u001b[0m\u001b[0mpprint\u001b[0m\u001b[0;34m(\u001b[0m\u001b[0maa_codon_map\u001b[0m\u001b[0;34m)\u001b[0m\u001b[0;34m\u001b[0m\u001b[0m\n",
      "\u001b[0;31mAttributeError\u001b[0m: 'NoneType' object has no attribute 'append'"
     ]
    }
   ],
   "source": [
    "import pprint\n",
    "gen_code = {'uuu': 'Phe', 'uuc': 'Phe', 'uua': 'Leu', 'uug': 'Leu', \n",
    "          'ucu': 'Ser', 'ucc': 'Ser', 'uca': 'Ser', 'ucg': 'Ser', \n",
    "          'uau': 'Tyr', 'uac': 'Tyr', 'uaa': 'Stop', 'uag': 'Stop',\n",
    "          'ugu': 'Cys', 'ugc': 'Cys', 'uga': 'Stop', 'ugg': 'Trp',\n",
    "          'cuu': 'Leu', 'cuc': 'Leu', 'cua': 'Leu', 'cug': 'Leu', \n",
    "          'ccu': 'Pro', 'ccc': 'Pro', 'cca': 'Pro', 'ccg': 'Pro',\n",
    "          'cau': 'His', 'cac': 'His', 'caa': 'Gln', 'cag': 'Gln', \n",
    "          'cgu': 'Arg', 'cgc': 'Arg', 'cga': 'Arg', 'cgg': 'Arg'}\n",
    "# pprint.pprint(gen_code)\n",
    "\n",
    "# aa_codon_map = {}\n",
    "# for key, value in gen_code.items():\n",
    "#     if value in aa_codon_map:\n",
    "#         aa_codon_map[value].append(key)\n",
    "#     else:\n",
    "#         aa_codon_map[value] = [key]\n",
    "\n",
    "aa_codon_map = {}\n",
    "for key, value in gen_code.items():\n",
    "    aa_codon_map[value] = aa_codon_map.get(value, []).append(key)\n",
    "\n",
    "pprint.pprint(aa_codon_map)"
   ]
  },
  {
   "cell_type": "markdown",
   "metadata": {},
   "source": [
    "## Control Flow (Demonstrate in PyCharm - debug mode)\n",
    "### *<font color='blue'>break</font>* keyword\n",
    "+ to **stop** the current loop from running any further (**break out of the loop**)\n",
    "\n",
    "```python\n",
    "print('\\nbreak statement')\n",
    "numbers = [1, 3, 5, 6, 9, 10]\n",
    "for number in numbers:\n",
    "    if number % 2 == 0:\n",
    "        break\n",
    "    print(number)\n",
    "```\n",
    "\n",
    "### *<font color='blue'>continue</font>* keyword\n",
    "+ to **skip** over the current iteration in current loop (**continue without completing current iteration**)\n",
    "\n",
    "```python\n",
    "print('\\ncontinue statement')\n",
    "numbers = [1, 3, 5, 6, 9, 10]\n",
    "for number in numbers:\n",
    "    if number % 2 == 0:\n",
    "        continue\n",
    "    print(number)\n",
    "```"
   ]
  },
  {
   "cell_type": "code",
   "execution_count": null,
   "metadata": {
    "collapsed": true
   },
   "outputs": [],
   "source": []
  },
  {
   "cell_type": "markdown",
   "metadata": {},
   "source": [
    "### *<font color='blue'>break</font>* keyword and *<font color='blue'>continue</font>* keyword statements operate on the immediate enclosing for loop\n",
    "\n",
    "```python\n",
    "print('\\nbreak statement')\n",
    "letters = ['a', 'b', 'c']\n",
    "numbers = [5, 7, 9, 10, 15]\n",
    "for char in letters:                         # outer loop\n",
    "   for number in numbers:  # inner loop; enumerate gives (index, value) tuples (see help)\n",
    "       if number % 2 == 0:\n",
    "           break\n",
    "       print(char, number)\n",
    "\n",
    "###########################\n",
    "\n",
    "print('\\ncontinue statement')\n",
    "letters = ['a', 'b', 'c']\n",
    "numbers = [5, 7, 9, 10, 15]\n",
    "for char in letters:\n",
    "   for number in numbers:\n",
    "       if number % 2 == 0:\n",
    "           continue\n",
    "       print(char, number)\n",
    "```"
   ]
  },
  {
   "cell_type": "code",
   "execution_count": null,
   "metadata": {
    "collapsed": true
   },
   "outputs": [],
   "source": []
  }
 ],
 "metadata": {
  "anaconda-cloud": {},
  "kernelspec": {
   "display_name": "Python 3",
   "language": "python",
   "name": "python3"
  },
  "language_info": {
   "codemirror_mode": {
    "name": "ipython",
    "version": 3
   },
   "file_extension": ".py",
   "mimetype": "text/x-python",
   "name": "python",
   "nbconvert_exporter": "python",
   "pygments_lexer": "ipython3",
   "version": "3.6.2"
  }
 },
 "nbformat": 4,
 "nbformat_minor": 1
}
