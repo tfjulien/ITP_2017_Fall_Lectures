{
 "cells": [
  {
   "cell_type": "markdown",
   "metadata": {},
   "source": [
    "# Building a Python Snake\n",
    "\n",
    "A Snake clone written in python in only 100 lines of code. Check out the\n",
    "`additional features` branch for more features like Pause and New Game.\n",
    "\n",
    "<img src=\"data:image/png;base64,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\n",
    "\">\n",
    "\n",
    "Tested on Arch Linux, Mac OS Sierra and Windows 10.\n",
    "\n",
    "## Requirements\n",
    "\n",
    "[Python3][python] and [tk-tcl][tk-tcl].\n",
    "\n",
    "### Windows\n",
    "\n",
    "[Download][python] and install Python 3.\n",
    "\n",
    "### Mac OS\n",
    "\n",
    "Read the [requirements][mac-py-tk]. If you are using homebrew,\n",
    "you can just run:\n",
    "\n",
    "```bash\n",
    "brew install tcl-tk\n",
    "brew install python3 --with-tcl-tk\n",
    "```\n",
    "\n",
    "Without homebrew, download and install:\n",
    "\n",
    "- [ActiveTcl][tk-tcl]\n",
    "- [Python 3][python]\n",
    "\n",
    "### Arch Linux\n",
    "\n",
    "```bash\n",
    "sudo pacman -S tk python3\n",
    "```\n",
    "\n",
    "### Ubuntu / Debian\n",
    "\n",
    "```bash\n",
    "sudo apt-get install python3 python3-tk\n",
    "```\n",
    "\n",
    "[python]: https://www.python.org/downloads/\n",
    "[mac-py-tk]: https://www.python.org/download/mac/tcltk/\n",
    "[tk-tcl]: https://www.activestate.com/activetcl/downloads\n",
    "\n",
    "# Verifying the installation\n",
    "\n",
    "The code below verifies that tk-tcl is correctly installed on your system. "
   ]
  },
  {
   "cell_type": "code",
   "execution_count": 1,
   "metadata": {
    "collapsed": true
   },
   "outputs": [],
   "source": [
    "# check if tkinter is installed on your system\n",
    "import tkinter"
   ]
  },
  {
   "cell_type": "markdown",
   "metadata": {},
   "source": [
    "# Drawing a basic window and canvas\n",
    "\n",
    "We will not focus on how tkinter work, but we need to create a basic window\n",
    "to draw the Snake GUI."
   ]
  },
  {
   "cell_type": "code",
   "execution_count": 2,
   "metadata": {
    "collapsed": true
   },
   "outputs": [],
   "source": [
    "from tkinter import Tk, Canvas, Frame, BOTH\n",
    "\n",
    "window = Tk()\n",
    "window.geometry('{}x{}'.format(300,200))\n",
    "window.resizable(False, False)\n",
    "\n",
    "# A frame is rectangular region on the screen. The frame widget is\n",
    "# mainly used as a geometry master for other widgets, or to provide\n",
    "# padding between other widgets.\n",
    "frame = Frame(window)\n",
    "frame.master.title('Snake')\n",
    "frame.pack(fill=BOTH, expand=1)\n",
    "\n",
    "# The Canvas widget provides structured graphics facilities for\n",
    "# Tkinter. This is a highly versatile widget which can be used to\n",
    "# draw graphs and plots, create graphics editors, and implement\n",
    "# various kinds of custom widgets.\n",
    "canvas = Canvas(frame)\n",
    "canvas.pack(fill=BOTH, expand=1)\n",
    "\n",
    "# window.mainloop()"
   ]
  }
 ],
 "metadata": {
  "kernelspec": {
   "display_name": "Python 3",
   "language": "python",
   "name": "python3"
  },
  "language_info": {
   "codemirror_mode": {
    "name": "ipython",
    "version": 3
   },
   "file_extension": ".py",
   "mimetype": "text/x-python",
   "name": "python",
   "nbconvert_exporter": "python",
   "pygments_lexer": "ipython3",
   "version": "3.6.2"
  }
 },
 "nbformat": 4,
 "nbformat_minor": 2
}
