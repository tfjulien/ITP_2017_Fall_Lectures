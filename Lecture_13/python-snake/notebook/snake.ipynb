{
 "cells": [
  {
   "cell_type": "code",
   "execution_count": 1,
   "metadata": {},
   "outputs": [],
   "source": [
    "# Below is a step-by-step guide on how to create a Snake clone in\n",
    "# Python. These examples use Python3 and `tkinter` module. For more\n",
    "# details, please check: https://www.python.org/download/mac/tcltk/\n",
    "# \n",
    "# The main loops blocks the Python process until the window is closed.\n",
    "# Unfortunately when running in Jupyter, it hangs and the only way to\n",
    "# close the window is to click Kernel > Restart (or Shutdown).\n",
    "#\n",
    "# Most cells have a few statements at the end commented out. As you read,\n",
    "# feel free to uncomment and press Cell > Run all Above, and then run the\n",
    "# desired cell.\n",
    "# \n",
    "# Author: Jerko Steiner"
   ]
  },
  {
   "cell_type": "code",
   "execution_count": 2,
   "metadata": {},
   "outputs": [],
   "source": [
    "from tkinter import Tk, Canvas, Frame, BOTH\n",
    "\n",
    "X = 30\n",
    "Y = 20\n",
    "BLOCK_SIZE = 20\n",
    "\n",
    "window = Tk()\n",
    "window.geometry('{}x{}'.format(X * BLOCK_SIZE, Y * BLOCK_SIZE))\n",
    "window.resizable(False, False)\n",
    "\n",
    "frame = Frame(window)\n",
    "frame.master.title('Snake')\n",
    "frame.pack(fill=BOTH, expand=1)\n",
    "\n",
    "canvas = Canvas(frame)\n",
    "canvas.pack(fill=BOTH, expand=1)"
   ]
  },
  {
   "cell_type": "code",
   "execution_count": 3,
   "metadata": {},
   "outputs": [],
   "source": [
    "def draw_rect(x, y, color='#00f'):\n",
    "    x1 = x * BLOCK_SIZE\n",
    "    y1 = y * BLOCK_SIZE\n",
    "    x2 = x1 + BLOCK_SIZE\n",
    "    y2 = y1 + BLOCK_SIZE\n",
    "    return canvas.create_rectangle(x1, y1, x2, y2, outline='', fill=color)\n",
    "\n",
    "# draw_rect(5, 5)\n",
    "# window.mainloop()"
   ]
  },
  {
   "cell_type": "code",
   "execution_count": 4,
   "metadata": {},
   "outputs": [],
   "source": [
    "from collections import deque\n",
    "\n",
    "snake = deque(((5, 5), (5, 6), (6, 6), (7, 6)))\n",
    "food = (7, 8)"
   ]
  },
  {
   "cell_type": "code",
   "execution_count": 5,
   "metadata": {},
   "outputs": [],
   "source": [
    "def render():\n",
    "    canvas.delete('all')\n",
    "    \n",
    "    for x, y in snake:\n",
    "        draw_rect(x, y, color='#00f')\n",
    "    x, y = food\n",
    "    draw_rect(x, y, color='#f00')\n",
    "\n",
    "# render()\n",
    "# window.mainloop()"
   ]
  },
  {
   "cell_type": "code",
   "execution_count": 6,
   "metadata": {},
   "outputs": [
    {
     "name": "stdout",
     "output_type": "stream",
     "text": [
      "deque([(5, 5), (5, 6), (6, 6), (7, 6), (8, 6)])\n",
      "deque([(5, 5), (5, 6), (6, 6), (7, 6), (8, 6), (9, 6)])\n",
      "deque([(5, 5), (5, 6), (6, 6), (7, 6), (8, 6), (9, 6), (10, 6)])\n"
     ]
    }
   ],
   "source": [
    "def move_snake(direction):\n",
    "    x, y = snake[-1]\n",
    "    if direction == 'Left':\n",
    "        next_point = x - 1 ,y\n",
    "    elif direction == 'Right':\n",
    "        next_point = x + 1, y\n",
    "    elif direction == 'Up':\n",
    "        next_point = x, y - 1\n",
    "    elif direction == 'Down':\n",
    "        next_point = x, y + 1\n",
    "\n",
    "    snake.append(next_point)\n",
    "\n",
    "\n",
    "move_snake('Right')\n",
    "print(snake)\n",
    "move_snake('Right')\n",
    "print(snake)\n",
    "move_snake('Right')\n",
    "print(snake)"
   ]
  },
  {
   "cell_type": "code",
   "execution_count": 7,
   "metadata": {},
   "outputs": [],
   "source": [
    "def tick(direction):\n",
    "    move_snake(direction)\n",
    "    render()\n",
    "\n",
    "# for (i, direction) in enumerate(('Right', 'Right', 'Right', 'Up', 'Right')):\n",
    "#     window.after(i * 500, tick, direction)   \n",
    "# window.mainloop()"
   ]
  },
  {
   "cell_type": "code",
   "execution_count": 8,
   "metadata": {},
   "outputs": [],
   "source": [
    "score = 0\n",
    "snake = deque(((5, 5), (5, 6), (6, 6), (7, 6)))\n",
    "food = (7, 8)\n",
    "\n",
    "def increase_score():\n",
    "    global score\n",
    "    score += 1\n",
    "    print('score:', score)\n",
    "\n",
    "def check_food():\n",
    "    s = set(snake)\n",
    "    if food in s:\n",
    "        increase_score()\n",
    "    else:\n",
    "        snake.popleft()\n",
    "\n",
    "def tick(direction):\n",
    "    move_snake(direction)\n",
    "    check_food()\n",
    "    render()\n",
    "\n",
    "# for (i, direction) in enumerate(('Down', 'Down')):\n",
    "#     window.after(i * 500, tick, direction)\n",
    "# window.mainloop()"
   ]
  },
  {
   "cell_type": "code",
   "execution_count": 9,
   "metadata": {},
   "outputs": [],
   "source": [
    "from random import randint\n",
    "\n",
    "def create_food():\n",
    "    s = set(snake)\n",
    "    while True:\n",
    "        food = randint(0, X - 1), randint(0, Y - 1)\n",
    "        if food not in s:\n",
    "            return food\n",
    "\n",
    "def check_food():\n",
    "    global food\n",
    "    s = set(snake)\n",
    "    if food in s:\n",
    "        increase_score()\n",
    "        food = create_food()\n",
    "    else:\n",
    "        snake.popleft()\n",
    "\n",
    "# for (i, direction) in enumerate(('Down', 'Down')):\n",
    "#     window.after(i * 500, tick, direction)\n",
    "# window.mainloop()"
   ]
  },
  {
   "cell_type": "code",
   "execution_count": 10,
   "metadata": {},
   "outputs": [],
   "source": [
    "moves = deque()\n",
    "direction = 'Right'\n",
    "speed = 10\n",
    "\n",
    "VALID_DIRECTIONS = {\n",
    "    'Left': set(('Up', 'Down')),\n",
    "    'Right': set(('Up', 'Down')),\n",
    "    'Up': set(('Left', 'Right')),\n",
    "    'Down': set(('Left', 'Right'))\n",
    "}\n",
    "\n",
    "def on_press(event):\n",
    "    _direction = moves[-1] if moves else direction \n",
    "    key = event.keysym\n",
    "    if key in VALID_DIRECTIONS[_direction]:\n",
    "        moves.append(key)\n",
    "    elif key == 'q':\n",
    "        window.destroy()\n",
    "\n",
    "def tick():\n",
    "    global direction\n",
    "    direction = moves.popleft() if moves else direction\n",
    "    move_snake(direction)\n",
    "    check_food()\n",
    "    render()\n",
    "    window.after(int(1000 / speed), tick)\n",
    "        \n",
    "window.bind('<Key>', on_press)\n",
    "\n",
    "def start():\n",
    "    tick()\n",
    "    window.mainloop()\n",
    "    \n",
    "# start()"
   ]
  },
  {
   "cell_type": "code",
   "execution_count": 11,
   "metadata": {},
   "outputs": [],
   "source": [
    "def move_snake(direction):\n",
    "    x, y = snake[-1]\n",
    "    if direction == 'Left':\n",
    "        next_point = x - 1 ,y\n",
    "    elif direction == 'Right':\n",
    "        next_point = x + 1, y\n",
    "    elif direction == 'Up':\n",
    "        next_point = x, y - 1\n",
    "    elif direction == 'Down':\n",
    "        next_point = x, y + 1\n",
    "        \n",
    "    s = set(snake)\n",
    "    if next_point in s:\n",
    "        raise ValueError('You just ate yourself')\n",
    "    if x < 0 or x >= X or y < 0 or y >= Y:\n",
    "        raise ValueError('You crashed into a wall')\n",
    "\n",
    "    snake.append(next_point)\n",
    "\n",
    "def increase_score():\n",
    "    global score\n",
    "    global speed\n",
    "    score += 1\n",
    "    if not score % 5:\n",
    "        # increase speed after the snake eats 5 times\n",
    "        speed += 2\n",
    "    print('score:', score, 'speed:', speed)\n",
    "\n",
    "# start()"
   ]
  },
  {
   "cell_type": "code",
   "execution_count": 12,
   "metadata": {},
   "outputs": [
    {
     "name": "stderr",
     "output_type": "stream",
     "text": [
      "Exception in Tkinter callback\n",
      "Traceback (most recent call last):\n",
      "  File \"/usr/local/Cellar/python3/3.6.3/Frameworks/Python.framework/Versions/3.6/lib/python3.6/tkinter/__init__.py\", line 1699, in __call__\n",
      "    return self.func(*args)\n",
      "  File \"/usr/local/Cellar/python3/3.6.3/Frameworks/Python.framework/Versions/3.6/lib/python3.6/tkinter/__init__.py\", line 745, in callit\n",
      "    func(*args)\n",
      "  File \"<ipython-input-10-bfc39bec6562>\", line 23, in tick\n",
      "    move_snake(direction)\n",
      "  File \"<ipython-input-12-62269f28e9a5>\", line 16, in move_snake\n",
      "    raise ValueError('You crashed into a wall')\n",
      "ValueError: You crashed into a wall\n"
     ]
    }
   ],
   "source": [
    "MOVEMENTS = {\n",
    "    'Left': lambda x, y: (x - 1, y),\n",
    "    'Right': lambda x, y: (x + 1, y),\n",
    "    'Up': lambda x, y: (x, y - 1),\n",
    "    'Down': lambda x, y: (x, y + 1)\n",
    "}\n",
    "\n",
    "def move_snake(direction):\n",
    "    x, y = snake[-1]\n",
    "    next_point = MOVEMENTS[direction](x, y)\n",
    "        \n",
    "    s = set(snake)\n",
    "    if next_point in s:\n",
    "        raise ValueError('You just ate yourself')\n",
    "    if x < 0 or x >= X or y < 0 or y >= Y:\n",
    "        raise ValueError('You crashed into a wall')\n",
    "\n",
    "    snake.append(next_point)\n",
    "\n",
    "start()"
   ]
  }
 ],
 "metadata": {
  "kernelspec": {
   "display_name": "Python 3",
   "language": "python",
   "name": "python3"
  },
  "language_info": {
   "codemirror_mode": {
    "name": "ipython",
    "version": 3
   },
   "file_extension": ".py",
   "mimetype": "text/x-python",
   "name": "python",
   "nbconvert_exporter": "python",
   "pygments_lexer": "ipython3",
   "version": "3.6.3"
  }
 },
 "nbformat": 4,
 "nbformat_minor": 2
}
