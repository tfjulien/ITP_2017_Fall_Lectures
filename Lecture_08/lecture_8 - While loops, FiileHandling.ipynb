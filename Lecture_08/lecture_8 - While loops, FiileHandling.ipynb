{
 "cells": [
  {
   "cell_type": "markdown",
   "metadata": {
    "slideshow": {
     "slide_type": "notes"
    }
   },
   "source": [
    "# Introduction to Python - Lecture 8 (6th October 2017)\n",
    "### Agenda for today:\n",
    "+ While loops\n",
    "+ Basic File handling\n",
    "+ Basic Exception Handling\n",
    "+ a useful package, module: os, os.path"
   ]
  },
  {
   "cell_type": "markdown",
   "metadata": {},
   "source": [
    "# While loops\n",
    "\n",
    "+ Basic format:\n",
    "```python\n",
    "while BOOLEAN_EXPRESSION:\n",
    "    STATEMENTS\n",
    "```\n",
    "\n",
    "+ The loop will continue while the boolean expression remains true.\n",
    "+ Once the boolean expression is false the loop will exit\n",
    "\n",
    "```python\n",
    "count = 0\n",
    "while count < 5:\n",
    "    print('current count: {}'.format(count))\n",
    "    count += 1\n",
    "print('final count: {}'.format(count))\n",
    "```"
   ]
  },
  {
   "cell_type": "code",
   "execution_count": 4,
   "metadata": {},
   "outputs": [
    {
     "name": "stdout",
     "output_type": "stream",
     "text": [
      "current count: 0\n",
      "current count: 1\n",
      "current count: 2\n",
      "current count: 3\n",
      "current count: 4\n",
      "final count: 5\n"
     ]
    }
   ],
   "source": [
    "count = 0\n",
    "while count < 5:\n",
    "    print('current count: {}'.format(count))\n",
    "    count += 1\n",
    "print('final count: {}'.format(count))"
   ]
  },
  {
   "cell_type": "markdown",
   "metadata": {},
   "source": [
    "## Why have two kinds of looping?\n",
    "\n",
    "+ for loops\n",
    "    + require knowledge on the number of iterations when declaring the loop\n",
    "+ while loops\n",
    "    + Will loop until a condition is met\n",
    "    \n",
    "Example:\n",
    "\n",
    "+ Find the largest number in a list of numbers?\n",
    "    + for loop\n",
    "+ Run a simulation until a certain mean squared error is achieved\n",
    "    + while loop"
   ]
  },
  {
   "cell_type": "markdown",
   "metadata": {},
   "source": [
    "## Infinite loops\n",
    "\n",
    "+ It is possible to create while loops that will never stop.\n",
    "     + These types of loops are known as infinite loops\n",
    "+ In order for this to happen the loop condition will always remain true\n",
    "\n",
    "```python\n",
    "i = 0\n",
    "while i < 5:\n",
    "    print(i)\n",
    "```"
   ]
  },
  {
   "cell_type": "code",
   "execution_count": 6,
   "metadata": {},
   "outputs": [
    {
     "name": "stdout",
     "output_type": "stream",
     "text": [
      "0\n",
      "1\n",
      "2\n",
      "3\n",
      "4\n"
     ]
    }
   ],
   "source": [
    "i = 0\n",
    "while i < 5:\n",
    "    print(i)\n",
    "    i += 1"
   ]
  },
  {
   "cell_type": "markdown",
   "metadata": {},
   "source": [
    "## While True\n",
    "\n",
    "+ This pattern is useful as it will ensure that the code in the while loop is run at least once\n",
    "+ There will always need to be a condition to break out of the loop\n",
    "\n",
    "Patten:\n",
    "\n",
    "```python\n",
    "while True:\n",
    "    statements\n",
    "    if condition:\n",
    "        break\n",
    "```\n",
    "\n",
    "+ This is useful for getting user input when you do not know how many elements the user is going to add\n",
    "\n",
    "```python\n",
    "points = []\n",
    "while True:\n",
    "    user_input = input('enter a point (x, y)')\n",
    "    points.append(user_input)\n",
    "    if not user_input:\n",
    "        break\n",
    "print(points)\n",
    "```"
   ]
  },
  {
   "cell_type": "code",
   "execution_count": 8,
   "metadata": {},
   "outputs": [
    {
     "name": "stdout",
     "output_type": "stream",
     "text": [
      "enter a point (x, y)1, 5\n",
      "enter a point (x, y)2, 4\n",
      "enter a point (x, y)\n",
      "['1, 5', '2, 4']\n"
     ]
    }
   ],
   "source": [
    "points = []\n",
    "while True:\n",
    "    user_input = input('enter a point (x, y)')\n",
    "    if not user_input:\n",
    "        break\n",
    "    points.append(user_input)\n",
    "print(points)"
   ]
  },
  {
   "cell_type": "markdown",
   "metadata": {
    "collapsed": true
   },
   "source": [
    "# Data Persistence\n",
    "\n",
    "+ Files\n",
    "    + **<font color='blue'>\\*.txt**</font>, \\*.xml, *.json\n",
    "    + \\*.csv, \\*.tab, *.xlsx (covered later, with pandas)\n",
    "+ Databases (not covered in this course)"
   ]
  },
  {
   "cell_type": "markdown",
   "metadata": {},
   "source": [
    "# Built-in *<font color='blue'>file</font>* object\n",
    "\n",
    "+ Basic format:\n",
    "```python\n",
    "fh = open('<filename>', '<mode>')   # Creates a file object fh\n",
    "```\n",
    "+ *filename* can be _**absolute**_ or _**relative**_\n",
    "+ *mode*: {'r', 'w', 'a'}; Default='r'\n",
    "+ 'r': open file for reading if exists, else **<font color='blue'>FileNotFoundError</font>**\n",
    "+ 'w': open new file for writing; overwrite if exists; use 'a' to avoid overwriting\n",
    "\n",
    "```python\n",
    "fh = open('data/data.txt')\n",
    "type(fh)\n",
    "dir(fh)\n",
    "```\n",
    "\n",
    "+ If the file does not exist, open will raise a **FileNotFound** error with traceback\n",
    "\n",
    "**Notes**:\n",
    "+ *fh* is not the file itself, but a handle/reference to it. Use it to do desired operations (read/write).\n",
    "<br />\n",
    "![alt text](filehandle.svg)\n",
    "<br />\n",
    "+ <font color='blue'>Some additional mode options: 'rb', 'wb' for reading and writing binary files; '+' to open the file for both reading and writing."
   ]
  },
  {
   "cell_type": "code",
   "execution_count": 11,
   "metadata": {},
   "outputs": [
    {
     "data": {
      "text/plain": [
       "['_CHUNK_SIZE',\n",
       " '__class__',\n",
       " '__del__',\n",
       " '__delattr__',\n",
       " '__dict__',\n",
       " '__dir__',\n",
       " '__doc__',\n",
       " '__enter__',\n",
       " '__eq__',\n",
       " '__exit__',\n",
       " '__format__',\n",
       " '__ge__',\n",
       " '__getattribute__',\n",
       " '__getstate__',\n",
       " '__gt__',\n",
       " '__hash__',\n",
       " '__init__',\n",
       " '__init_subclass__',\n",
       " '__iter__',\n",
       " '__le__',\n",
       " '__lt__',\n",
       " '__ne__',\n",
       " '__new__',\n",
       " '__next__',\n",
       " '__reduce__',\n",
       " '__reduce_ex__',\n",
       " '__repr__',\n",
       " '__setattr__',\n",
       " '__sizeof__',\n",
       " '__str__',\n",
       " '__subclasshook__',\n",
       " '_checkClosed',\n",
       " '_checkReadable',\n",
       " '_checkSeekable',\n",
       " '_checkWritable',\n",
       " '_finalizing',\n",
       " 'buffer',\n",
       " 'close',\n",
       " 'closed',\n",
       " 'detach',\n",
       " 'encoding',\n",
       " 'errors',\n",
       " 'fileno',\n",
       " 'flush',\n",
       " 'isatty',\n",
       " 'line_buffering',\n",
       " 'mode',\n",
       " 'name',\n",
       " 'newlines',\n",
       " 'read',\n",
       " 'readable',\n",
       " 'readline',\n",
       " 'readlines',\n",
       " 'seek',\n",
       " 'seekable',\n",
       " 'tell',\n",
       " 'truncate',\n",
       " 'writable',\n",
       " 'write',\n",
       " 'writelines']"
      ]
     },
     "execution_count": 11,
     "metadata": {},
     "output_type": "execute_result"
    }
   ],
   "source": [
    "fh = open('data/data.txt')\n",
    "type(fh)\n",
    "dir(fh)"
   ]
  },
  {
   "cell_type": "markdown",
   "metadata": {},
   "source": [
    "# Reading from Files in \"text mode\"\n",
    "+ File content is always read in as strings  \n",
    "<br />\n",
    "+ Here are the **most common approaches**:\n",
    "\n",
    "    - **Read all data at once as a string**\n",
    "\n",
    "    ```python\n",
    "    import pprint\n",
    "    fh = open('data/data.txt', 'r')\n",
    "    data = fh.read()              # to read in all data as one big string\n",
    "    print(type(data), '\\n\\n'\n",
    "    pprint.pprint(data)\n",
    "\n",
    "    pprint.pprint(data.split('\\n'))   # split the big string on new line character (\\n)\n",
    "    ```"
   ]
  },
  {
   "cell_type": "code",
   "execution_count": 23,
   "metadata": {},
   "outputs": [
    {
     "name": "stdout",
     "output_type": "stream",
     "text": [
      "['Writing programs or programming is a very creative',\n",
      " 'and rewarding activity  You can write programs for',\n",
      " 'many reasons ranging from making your living to solving',\n",
      " 'a difficult data analysis problem to having fun to helping',\n",
      " 'someone else solve a problem  This book assumes that',\n",
      " '{\\\\em everyone} needs to know how to program and that once',\n",
      " 'you know how to program, you will figure out what you want',\n",
      " 'to do with your newfound skills',\n",
      " '',\n",
      " 'We are surrounded in our daily lives with computers ranging',\n",
      " 'from laptops to cell phones  We can think of these computers',\n",
      " 'as our personal assistants who can take care of many things',\n",
      " 'on our behalf  The hardware in our current-day computers',\n",
      " 'is essentially built to continuously ask us the question',\n",
      " 'What would you like me to do next',\n",
      " '',\n",
      " 'Our computers are fast and have vasts amounts of memory and ',\n",
      " 'could be very helpful to us if we only knew the language to ',\n",
      " 'speak to explain to the computer what we would like it to ',\n",
      " 'do next If we knew this language we could tell the ',\n",
      " 'computer to do tasks on our behalf that were reptitive  ',\n",
      " 'Interestingly, the kinds of things computers can do best',\n",
      " 'are often the kinds of things that we humans find boring',\n",
      " 'and mind-numbing']\n"
     ]
    }
   ],
   "source": [
    "import pprint\n",
    "fh = open('data/data.txt', 'r')\n",
    "data = fh.read()\n",
    "pprint.pprint(data.split('\\n'))"
   ]
  },
  {
   "cell_type": "markdown",
   "metadata": {},
   "source": [
    "+ **file pointers and *<font color='blue'>seek</font>* operation**\n",
    "\n",
    "    ```python\n",
    "    data_empty = fh.read()        # can't read more without resetting the read pointer\n",
    "    print(\"length of empty_data is: \", len(data_empty))\n",
    "    help(fh.seek)\n",
    "    fh.seek(0, 0)          # reset the pointer to beginning of the file\n",
    "    data_now = fh.read()\n",
    "    ```"
   ]
  },
  {
   "cell_type": "code",
   "execution_count": 19,
   "metadata": {},
   "outputs": [
    {
     "name": "stdout",
     "output_type": "stream",
     "text": [
      "length of empty_data is:  1170\n"
     ]
    }
   ],
   "source": [
    "fh.seek(0, 0)\n",
    "data_empty = fh.read()        # can't read more without resetting the read pointer\n",
    "print(\"length of empty_data is: \", len(data_empty))\n"
   ]
  },
  {
   "cell_type": "markdown",
   "metadata": {},
   "source": [
    "+ **Read individual lines as strings**\n",
    "```python\n",
    "fh.seek(0, 0)\n",
    "data = fh.readlines()       # returns list of strings\n",
    "print(type(data), \"\\n\\n\")   # check out the \\n newline character at the end of lines\n",
    "pprint.pprint(data)         # (\\r\\n on windows machines)\n",
    "```"
   ]
  },
  {
   "cell_type": "code",
   "execution_count": 20,
   "metadata": {},
   "outputs": [
    {
     "name": "stdout",
     "output_type": "stream",
     "text": [
      "<class 'list'> \n",
      "\n",
      "\n",
      "['Writing programs or programming is a very creative\\n',\n",
      " 'and rewarding activity  You can write programs for\\n',\n",
      " 'many reasons ranging from making your living to solving\\n',\n",
      " 'a difficult data analysis problem to having fun to helping\\n',\n",
      " 'someone else solve a problem  This book assumes that\\n',\n",
      " '{\\\\em everyone} needs to know how to program and that once\\n',\n",
      " 'you know how to program, you will figure out what you want\\n',\n",
      " 'to do with your newfound skills\\n',\n",
      " '\\n',\n",
      " 'We are surrounded in our daily lives with computers ranging\\n',\n",
      " 'from laptops to cell phones  We can think of these computers\\n',\n",
      " 'as our personal assistants who can take care of many things\\n',\n",
      " 'on our behalf  The hardware in our current-day computers\\n',\n",
      " 'is essentially built to continuously ask us the question\\n',\n",
      " 'What would you like me to do next\\n',\n",
      " '\\n',\n",
      " 'Our computers are fast and have vasts amounts of memory and \\n',\n",
      " 'could be very helpful to us if we only knew the language to \\n',\n",
      " 'speak to explain to the computer what we would like it to \\n',\n",
      " 'do next If we knew this language we could tell the \\n',\n",
      " 'computer to do tasks on our behalf that were reptitive  \\n',\n",
      " 'Interestingly, the kinds of things computers can do best\\n',\n",
      " 'are often the kinds of things that we humans find boring\\n',\n",
      " 'and mind-numbing']\n"
     ]
    }
   ],
   "source": [
    "fh.seek(0, 0)\n",
    "data = fh.readlines()       # returns list of strings\n",
    "print(type(data), \"\\n\\n\")   # check out the \\n newline character at the end of lines\n",
    "pprint.pprint(data)  "
   ]
  },
  {
   "cell_type": "markdown",
   "metadata": {},
   "source": [
    "+ **Iterate over large files**\n",
    "```python\n",
    "fh.seek(0, 0)\n",
    "for line in fh:           # 'fh' is iterable; use in iteration context for efficient\n",
    "    print(len(line), line)  # reading of large files\n",
    "fh.close()                # close file; good practice (esp. when writing files)\n",
    "```"
   ]
  },
  {
   "cell_type": "code",
   "execution_count": 24,
   "metadata": {},
   "outputs": [
    {
     "name": "stdout",
     "output_type": "stream",
     "text": [
      "51 Writing programs or programming is a very creative\n",
      "51 and rewarding activity  You can write programs for\n",
      "56 many reasons ranging from making your living to solving\n",
      "59 a difficult data analysis problem to having fun to helping\n",
      "53 someone else solve a problem  This book assumes that\n",
      "58 {\\em everyone} needs to know how to program and that once\n",
      "59 you know how to program, you will figure out what you want\n",
      "32 to do with your newfound skills\n",
      "1 \n",
      "60 We are surrounded in our daily lives with computers ranging\n",
      "61 from laptops to cell phones  We can think of these computers\n",
      "60 as our personal assistants who can take care of many things\n",
      "57 on our behalf  The hardware in our current-day computers\n",
      "57 is essentially built to continuously ask us the question\n",
      "34 What would you like me to do next\n",
      "1 \n",
      "61 Our computers are fast and have vasts amounts of memory and\n",
      "61 could be very helpful to us if we only knew the language to\n",
      "59 speak to explain to the computer what we would like it to\n",
      "52 do next If we knew this language we could tell the\n",
      "57 computer to do tasks on our behalf that were reptitive\n",
      "57 Interestingly, the kinds of things computers can do best\n",
      "57 are often the kinds of things that we humans find boring\n",
      "16 and mind-numbing\n"
     ]
    }
   ],
   "source": [
    "fh.seek(0, 0)\n",
    "for line in fh:           # 'fh' is iterable; use in iteration context for efficient\n",
    "  print(len(line), line.strip())  # reading of large files\n",
    "fh.close() "
   ]
  },
  {
   "cell_type": "markdown",
   "metadata": {},
   "source": [
    "+ **Context manager**\n",
    "```python\n",
    "with open('data/data.txt', 'r') as fh:  # Context-manager; automatically closes the file\n",
    "    for line in fh:\n",
    "        print(line)\n",
    "print('\\nfh status: ', fh.closed)\n",
    "```"
   ]
  },
  {
   "cell_type": "code",
   "execution_count": 26,
   "metadata": {},
   "outputs": [
    {
     "name": "stdout",
     "output_type": "stream",
     "text": [
      "Writing programs or programming is a very creative\n",
      "\n",
      "\n",
      "fh status:  False\n",
      "and rewarding activity  You can write programs for\n",
      "\n",
      "\n",
      "fh status:  False\n",
      "many reasons ranging from making your living to solving\n",
      "\n",
      "\n",
      "fh status:  False\n",
      "a difficult data analysis problem to having fun to helping\n",
      "\n",
      "\n",
      "fh status:  False\n",
      "someone else solve a problem  This book assumes that\n",
      "\n",
      "\n",
      "fh status:  False\n",
      "{\\em everyone} needs to know how to program and that once\n",
      "\n",
      "\n",
      "fh status:  False\n",
      "you know how to program, you will figure out what you want\n",
      "\n",
      "\n",
      "fh status:  False\n",
      "to do with your newfound skills\n",
      "\n",
      "\n",
      "fh status:  False\n",
      "\n",
      "\n",
      "\n",
      "fh status:  False\n",
      "We are surrounded in our daily lives with computers ranging\n",
      "\n",
      "\n",
      "fh status:  False\n",
      "from laptops to cell phones  We can think of these computers\n",
      "\n",
      "\n",
      "fh status:  False\n",
      "as our personal assistants who can take care of many things\n",
      "\n",
      "\n",
      "fh status:  False\n",
      "on our behalf  The hardware in our current-day computers\n",
      "\n",
      "\n",
      "fh status:  False\n",
      "is essentially built to continuously ask us the question\n",
      "\n",
      "\n",
      "fh status:  False\n",
      "What would you like me to do next\n",
      "\n",
      "\n",
      "fh status:  False\n",
      "\n",
      "\n",
      "\n",
      "fh status:  False\n",
      "Our computers are fast and have vasts amounts of memory and \n",
      "\n",
      "\n",
      "fh status:  False\n",
      "could be very helpful to us if we only knew the language to \n",
      "\n",
      "\n",
      "fh status:  False\n",
      "speak to explain to the computer what we would like it to \n",
      "\n",
      "\n",
      "fh status:  False\n",
      "do next If we knew this language we could tell the \n",
      "\n",
      "\n",
      "fh status:  False\n",
      "computer to do tasks on our behalf that were reptitive  \n",
      "\n",
      "\n",
      "fh status:  False\n",
      "Interestingly, the kinds of things computers can do best\n",
      "\n",
      "\n",
      "fh status:  False\n",
      "are often the kinds of things that we humans find boring\n",
      "\n",
      "\n",
      "fh status:  False\n",
      "and mind-numbing\n",
      "\n",
      "fh status:  False\n",
      "\n",
      "fh status:  True\n"
     ]
    }
   ],
   "source": [
    "with open('data/data.txt', 'r') as fh:  # Context-manager; automatically closes the file\n",
    "  for line in fh:\n",
    "      print(line)\n",
    "      print('\\nfh status: ', fh.closed)\n",
    "print('\\nfh status: ', fh.closed)"
   ]
  },
  {
   "cell_type": "markdown",
   "metadata": {},
   "source": [
    "## Very Brief Introduction to Exception Handling\n",
    "+ In programs, everything doesn't always happen as it is supposed to (KeyError, IndexError, FileNotFoundError, ZeroDivisionError etc.)\n",
    "+ Events that are triggered on errors (or manually, for signalling)\n",
    "+ Python machinery allows jumping out of an arbitrary code-block when exceptions occur\n",
    "+ Errors need not always terminate the script execution\n",
    "    - could be handled appropriately\n",
    "    - recover gracefully from it if possible\n",
    "        * maybe we want to ignore errors\n",
    "        * maybe we want to handle errors in a specific way (for ex, using a default response, or closing all resources - files, database connections etc - before we exit)\n",
    "        * maybe we want to provide a user some informative message and carry on\n",
    "        \n",
    "```python\n",
    "while True:\n",
    "    x = input('Enter a number')\n",
    "    if x:\n",
    "        print(int(x)*2)\n",
    "    else:\n",
    "        break\n",
    "```\n",
    "<br />\n",
    "```python\n",
    "while True:\n",
    "    x = input('Enter a number')\n",
    "    if x:\n",
    "        try:    \n",
    "            print(int(x)*2)\n",
    "        except ValueError:\n",
    "            print('Please enter a valid number')\n",
    "    else:\n",
    "        break\n",
    "```\n",
    "<br />\n",
    "```python\n",
    "import pprint\n",
    "try:\n",
    "    fh = open('wrong_filename.txt', 'r')\n",
    "    data = fh.read()              # to read in all data as one big string\n",
    "    print(type(data), '\\n\\n')\n",
    "    pprint.pprint(data)\n",
    "except FileNotFoundError:\n",
    "    print('Please enter a valid filename')\n",
    "```"
   ]
  },
  {
   "cell_type": "code",
   "execution_count": 30,
   "metadata": {},
   "outputs": [
    {
     "name": "stdout",
     "output_type": "stream",
     "text": [
      "Enter a numbera\n"
     ]
    },
    {
     "ename": "KeyboardInterrupt",
     "evalue": "",
     "output_type": "error",
     "traceback": [
      "\u001b[0;31m---------------------------------------------------------------------------\u001b[0m",
      "\u001b[0;31mKeyboardInterrupt\u001b[0m                         Traceback (most recent call last)",
      "\u001b[0;32m~/anaconda/envs/ITP_2017_Fall/lib/python3.6/site-packages/ipykernel/kernelbase.py\u001b[0m in \u001b[0;36m_input_request\u001b[0;34m(self, prompt, ident, parent, password)\u001b[0m\n\u001b[1;32m    729\u001b[0m             \u001b[0;32mtry\u001b[0m\u001b[0;34m:\u001b[0m\u001b[0;34m\u001b[0m\u001b[0m\n\u001b[0;32m--> 730\u001b[0;31m                 \u001b[0mident\u001b[0m\u001b[0;34m,\u001b[0m \u001b[0mreply\u001b[0m \u001b[0;34m=\u001b[0m \u001b[0mself\u001b[0m\u001b[0;34m.\u001b[0m\u001b[0msession\u001b[0m\u001b[0;34m.\u001b[0m\u001b[0mrecv\u001b[0m\u001b[0;34m(\u001b[0m\u001b[0mself\u001b[0m\u001b[0;34m.\u001b[0m\u001b[0mstdin_socket\u001b[0m\u001b[0;34m,\u001b[0m \u001b[0;36m0\u001b[0m\u001b[0;34m)\u001b[0m\u001b[0;34m\u001b[0m\u001b[0m\n\u001b[0m\u001b[1;32m    731\u001b[0m             \u001b[0;32mexcept\u001b[0m \u001b[0mException\u001b[0m\u001b[0;34m:\u001b[0m\u001b[0;34m\u001b[0m\u001b[0m\n",
      "\u001b[0;32m~/anaconda/envs/ITP_2017_Fall/lib/python3.6/site-packages/jupyter_client/session.py\u001b[0m in \u001b[0;36mrecv\u001b[0;34m(self, socket, mode, content, copy)\u001b[0m\n\u001b[1;32m    795\u001b[0m         \u001b[0;32mtry\u001b[0m\u001b[0;34m:\u001b[0m\u001b[0;34m\u001b[0m\u001b[0m\n\u001b[0;32m--> 796\u001b[0;31m             \u001b[0mmsg_list\u001b[0m \u001b[0;34m=\u001b[0m \u001b[0msocket\u001b[0m\u001b[0;34m.\u001b[0m\u001b[0mrecv_multipart\u001b[0m\u001b[0;34m(\u001b[0m\u001b[0mmode\u001b[0m\u001b[0;34m,\u001b[0m \u001b[0mcopy\u001b[0m\u001b[0;34m=\u001b[0m\u001b[0mcopy\u001b[0m\u001b[0;34m)\u001b[0m\u001b[0;34m\u001b[0m\u001b[0m\n\u001b[0m\u001b[1;32m    797\u001b[0m         \u001b[0;32mexcept\u001b[0m \u001b[0mzmq\u001b[0m\u001b[0;34m.\u001b[0m\u001b[0mZMQError\u001b[0m \u001b[0;32mas\u001b[0m \u001b[0me\u001b[0m\u001b[0;34m:\u001b[0m\u001b[0;34m\u001b[0m\u001b[0m\n",
      "\u001b[0;32m~/anaconda/envs/ITP_2017_Fall/lib/python3.6/site-packages/zmq/sugar/socket.py\u001b[0m in \u001b[0;36mrecv_multipart\u001b[0;34m(self, flags, copy, track)\u001b[0m\n\u001b[1;32m    394\u001b[0m         \"\"\"\n\u001b[0;32m--> 395\u001b[0;31m         \u001b[0mparts\u001b[0m \u001b[0;34m=\u001b[0m \u001b[0;34m[\u001b[0m\u001b[0mself\u001b[0m\u001b[0;34m.\u001b[0m\u001b[0mrecv\u001b[0m\u001b[0;34m(\u001b[0m\u001b[0mflags\u001b[0m\u001b[0;34m,\u001b[0m \u001b[0mcopy\u001b[0m\u001b[0;34m=\u001b[0m\u001b[0mcopy\u001b[0m\u001b[0;34m,\u001b[0m \u001b[0mtrack\u001b[0m\u001b[0;34m=\u001b[0m\u001b[0mtrack\u001b[0m\u001b[0;34m)\u001b[0m\u001b[0;34m]\u001b[0m\u001b[0;34m\u001b[0m\u001b[0m\n\u001b[0m\u001b[1;32m    396\u001b[0m         \u001b[0;31m# have first part already, only loop while more to receive\u001b[0m\u001b[0;34m\u001b[0m\u001b[0;34m\u001b[0m\u001b[0m\n",
      "\u001b[0;32mzmq/backend/cython/socket.pyx\u001b[0m in \u001b[0;36mzmq.backend.cython.socket.Socket.recv (zmq/backend/cython/socket.c:7683)\u001b[0;34m()\u001b[0m\n",
      "\u001b[0;32mzmq/backend/cython/socket.pyx\u001b[0m in \u001b[0;36mzmq.backend.cython.socket.Socket.recv (zmq/backend/cython/socket.c:7460)\u001b[0;34m()\u001b[0m\n",
      "\u001b[0;32mzmq/backend/cython/socket.pyx\u001b[0m in \u001b[0;36mzmq.backend.cython.socket._recv_copy (zmq/backend/cython/socket.c:2344)\u001b[0;34m()\u001b[0m\n",
      "\u001b[0;32m~/anaconda/envs/ITP_2017_Fall/lib/python3.6/site-packages/zmq/backend/cython/checkrc.pxd\u001b[0m in \u001b[0;36mzmq.backend.cython.checkrc._check_rc (zmq/backend/cython/socket.c:9621)\u001b[0;34m()\u001b[0m\n",
      "\u001b[0;31mKeyboardInterrupt\u001b[0m: ",
      "\nDuring handling of the above exception, another exception occurred:\n",
      "\u001b[0;31mKeyboardInterrupt\u001b[0m                         Traceback (most recent call last)",
      "\u001b[0;32m<ipython-input-30-d89b294f9b4d>\u001b[0m in \u001b[0;36m<module>\u001b[0;34m()\u001b[0m\n\u001b[1;32m      1\u001b[0m \u001b[0;32mwhile\u001b[0m \u001b[0;32mTrue\u001b[0m\u001b[0;34m:\u001b[0m\u001b[0;34m\u001b[0m\u001b[0m\n\u001b[0;32m----> 2\u001b[0;31m     \u001b[0mx\u001b[0m \u001b[0;34m=\u001b[0m \u001b[0minput\u001b[0m\u001b[0;34m(\u001b[0m\u001b[0;34m'Enter a number'\u001b[0m\u001b[0;34m)\u001b[0m\u001b[0;34m\u001b[0m\u001b[0m\n\u001b[0m\u001b[1;32m      3\u001b[0m     \u001b[0;32mif\u001b[0m \u001b[0mx\u001b[0m\u001b[0;34m:\u001b[0m\u001b[0;34m\u001b[0m\u001b[0m\n\u001b[1;32m      4\u001b[0m         \u001b[0;32mtry\u001b[0m\u001b[0;34m:\u001b[0m\u001b[0;34m\u001b[0m\u001b[0m\n\u001b[1;32m      5\u001b[0m             \u001b[0mprint\u001b[0m\u001b[0;34m(\u001b[0m\u001b[0mint\u001b[0m\u001b[0;34m(\u001b[0m\u001b[0mx\u001b[0m\u001b[0;34m)\u001b[0m\u001b[0;34m*\u001b[0m\u001b[0;36m2\u001b[0m\u001b[0;34m)\u001b[0m\u001b[0;34m\u001b[0m\u001b[0m\n",
      "\u001b[0;32m~/anaconda/envs/ITP_2017_Fall/lib/python3.6/site-packages/ipykernel/kernelbase.py\u001b[0m in \u001b[0;36mraw_input\u001b[0;34m(self, prompt)\u001b[0m\n\u001b[1;32m    703\u001b[0m             \u001b[0mself\u001b[0m\u001b[0;34m.\u001b[0m\u001b[0m_parent_ident\u001b[0m\u001b[0;34m,\u001b[0m\u001b[0;34m\u001b[0m\u001b[0m\n\u001b[1;32m    704\u001b[0m             \u001b[0mself\u001b[0m\u001b[0;34m.\u001b[0m\u001b[0m_parent_header\u001b[0m\u001b[0;34m,\u001b[0m\u001b[0;34m\u001b[0m\u001b[0m\n\u001b[0;32m--> 705\u001b[0;31m             \u001b[0mpassword\u001b[0m\u001b[0;34m=\u001b[0m\u001b[0;32mFalse\u001b[0m\u001b[0;34m,\u001b[0m\u001b[0;34m\u001b[0m\u001b[0m\n\u001b[0m\u001b[1;32m    706\u001b[0m         )\n\u001b[1;32m    707\u001b[0m \u001b[0;34m\u001b[0m\u001b[0m\n",
      "\u001b[0;32m~/anaconda/envs/ITP_2017_Fall/lib/python3.6/site-packages/ipykernel/kernelbase.py\u001b[0m in \u001b[0;36m_input_request\u001b[0;34m(self, prompt, ident, parent, password)\u001b[0m\n\u001b[1;32m    733\u001b[0m             \u001b[0;32mexcept\u001b[0m \u001b[0mKeyboardInterrupt\u001b[0m\u001b[0;34m:\u001b[0m\u001b[0;34m\u001b[0m\u001b[0m\n\u001b[1;32m    734\u001b[0m                 \u001b[0;31m# re-raise KeyboardInterrupt, to truncate traceback\u001b[0m\u001b[0;34m\u001b[0m\u001b[0;34m\u001b[0m\u001b[0m\n\u001b[0;32m--> 735\u001b[0;31m                 \u001b[0;32mraise\u001b[0m \u001b[0mKeyboardInterrupt\u001b[0m\u001b[0;34m\u001b[0m\u001b[0m\n\u001b[0m\u001b[1;32m    736\u001b[0m             \u001b[0;32melse\u001b[0m\u001b[0;34m:\u001b[0m\u001b[0;34m\u001b[0m\u001b[0m\n\u001b[1;32m    737\u001b[0m                 \u001b[0;32mbreak\u001b[0m\u001b[0;34m\u001b[0m\u001b[0m\n",
      "\u001b[0;31mKeyboardInterrupt\u001b[0m: "
     ]
    }
   ],
   "source": [
    "while True:\n",
    "    x = input('Enter a number')\n",
    "    if x:\n",
    "        try:    \n",
    "            print(int(x)*2)\n",
    "        except ValueError:\n",
    "            pass\n",
    "#             print('Please enter a valid number')\n",
    "    else:\n",
    "        break"
   ]
  },
  {
   "cell_type": "markdown",
   "metadata": {},
   "source": [
    "# Writing to Files in \"text mode\"\n",
    "+ Like reading, writing is also done as strings\n",
    "<br />\n",
    "+ Here are the **most common approaches**:\n",
    "\n",
    "```python\n",
    "fh = open('data/fresh.txt', 'w')           # Open a new file in write mode\n",
    "fh.write('This is the 1st line\\n')    # Write a line; \n",
    "                                      # Note that newline chars must be explicitly added\n",
    "fh.close()\n",
    "```\n",
    "\n"
   ]
  },
  {
   "cell_type": "code",
   "execution_count": 34,
   "metadata": {
    "collapsed": true
   },
   "outputs": [],
   "source": [
    "fh = open('data/fresh.txt', 'w')           # Open a new file in write mode\n",
    "fh.write('This is the 1st line\\n')    # Write a line;                                       # Note that newline chars must be explicitly added\n",
    "fh.close()"
   ]
  },
  {
   "cell_type": "markdown",
   "metadata": {},
   "source": [
    "+ **Flushing buffers**\n",
    "\n",
    "```python\n",
    "fh = open('data/fresh.txt', 'a')           # Open the earlier file in 'append' mode\n",
    "                                      #    to avoid overwriting\n",
    "fh.write('This is the 2nd line\\n')    # Write a line; \n",
    "                                      # Note that newline chars must be explicitly added\n",
    "fh.flush()                            # Clears the buffer\n",
    "```"
   ]
  },
  {
   "cell_type": "code",
   "execution_count": 36,
   "metadata": {},
   "outputs": [],
   "source": [
    "fh = open('data/fresh.txt', 'a')           # Open the earlier file in 'append' mode\n",
    "                                      #    to avoid overwriting\n",
    "fh.write('This is the 2nd line\\n')\n",
    "fh.flush()"
   ]
  },
  {
   "cell_type": "markdown",
   "metadata": {},
   "source": [
    "+ **Write multiple lines at once**\n",
    "\n",
    "```python\n",
    "fh.writelines(['This is the 3rd line\\n', 'This is the 4th line\\n'])   # Note the newline\n",
    "fh.flush()\n",
    "```"
   ]
  },
  {
   "cell_type": "code",
   "execution_count": 37,
   "metadata": {
    "collapsed": true
   },
   "outputs": [],
   "source": [
    "fh.writelines(['This is the 3rd line\\n', 'This is the 4th line\\n'])   # Note the newline\n",
    "fh.flush()"
   ]
  },
  {
   "cell_type": "markdown",
   "metadata": {},
   "source": [
    "+ **Write iteratively**\n",
    "\n",
    "```python\n",
    "more_lines = ['5th line', '6th line', '7th line']\n",
    "\n",
    "for line in more_lines:                   # iteration context\n",
    "    fh.write(line + '\\n')\n",
    "    fh.flush()\n",
    "fh.close()\n",
    "```\n",
    "\n"
   ]
  },
  {
   "cell_type": "code",
   "execution_count": 40,
   "metadata": {},
   "outputs": [
    {
     "ename": "ValueError",
     "evalue": "I/O operation on closed file.",
     "output_type": "error",
     "traceback": [
      "\u001b[0;31m---------------------------------------------------------------------------\u001b[0m",
      "\u001b[0;31mValueError\u001b[0m                                Traceback (most recent call last)",
      "\u001b[0;32m<ipython-input-40-1b6904f8366b>\u001b[0m in \u001b[0;36m<module>\u001b[0;34m()\u001b[0m\n\u001b[1;32m      2\u001b[0m \u001b[0;34m\u001b[0m\u001b[0m\n\u001b[1;32m      3\u001b[0m \u001b[0;32mfor\u001b[0m \u001b[0mline\u001b[0m \u001b[0;32min\u001b[0m \u001b[0mmore_lines\u001b[0m\u001b[0;34m:\u001b[0m                   \u001b[0;31m# iteration context\u001b[0m\u001b[0;34m\u001b[0m\u001b[0m\n\u001b[0;32m----> 4\u001b[0;31m     \u001b[0mfh\u001b[0m\u001b[0;34m.\u001b[0m\u001b[0mwrite\u001b[0m\u001b[0;34m(\u001b[0m\u001b[0mline\u001b[0m \u001b[0;34m+\u001b[0m \u001b[0;34m'\\n'\u001b[0m\u001b[0;34m)\u001b[0m\u001b[0;34m\u001b[0m\u001b[0m\n\u001b[0m\u001b[1;32m      5\u001b[0m \u001b[0mfh\u001b[0m\u001b[0;34m.\u001b[0m\u001b[0mclose\u001b[0m\u001b[0;34m(\u001b[0m\u001b[0;34m)\u001b[0m\u001b[0;34m\u001b[0m\u001b[0m\n",
      "\u001b[0;31mValueError\u001b[0m: I/O operation on closed file."
     ]
    }
   ],
   "source": [
    "more_lines = ['5th line', '6th line', '7th line']\n",
    "\n",
    "for line in more_lines:                   # iteration context\n",
    "    fh.write(line + '\\n')\n",
    "fh.close()"
   ]
  },
  {
   "cell_type": "code",
   "execution_count": 42,
   "metadata": {},
   "outputs": [
    {
     "name": "stdout",
     "output_type": "stream",
     "text": [
      "['This is the 1st line\\n', 'This is the 2nd line\\n', 'This is the 2nd line\\n', 'This is the 3rd line\\n', 'This is the 4th line\\n', '5th line\\n', '6th line\\n', '7th line\\n']\n"
     ]
    }
   ],
   "source": [
    "with open('data/fresh.txt', 'r') as fh:\n",
    "    contents = fh.readlines()\n",
    "print(contents)\n",
    " "
   ]
  },
  {
   "cell_type": "markdown",
   "metadata": {},
   "source": [
    "## os.path module\n",
    "```python\n",
    "import os\n",
    "dir(os.path)\n",
    "```\n",
    "+ **path parsing:**\n",
    "    - os.path.split(<path_str>):\n",
    "    - os.path.splitext(<path_str>) \n",
    "```python\n",
    "# Ex.\n",
    "print(os.path.split('/Users/markgrivanis/Desktop/worksheet_01.txt'))\n",
    "print(os.path.splitext('my_data.txt'))\n",
    "```\n",
    "+ **path building:**\n",
    "    - os.path.join(<path_components>)\n",
    "```python\n",
    "# Ex.\n",
    "print(os.path.join('/Users', 'markgrivainis', 'Desktop'))\n",
    "```\n",
    "+ **common tests:**\n",
    "    - os.path.<test>, where test = {isdir(), isfile(), exists(), ...}\n",
    "```python\n",
    "# Ex.\n",
    "print(os.path.isdir('data/data.txt'))\n",
    "print(os.path.isfile('data/data.txt'))\n",
    "print(os.path.exists('data'))\n",
    "print(os.path.exists('data.txt'))\n",
    "print(os.path.exists('/Users/markgrivainis'))\n",
    "```\n",
    "+ **listing contents of a dir:**\n",
    "    - os.listdir\n",
    "```python\n",
    "# Ex.\n",
    "import pprint\n",
    "pprint.pprint(os.listdir('/Users/markgrivainis'))\n",
    "pprint.pprint(os.listdir('.'))\n",
    "pprint.pprint(os.listdir('..'))\n",
    "```"
   ]
  },
  {
   "cell_type": "code",
   "execution_count": 66,
   "metadata": {},
   "outputs": [
    {
     "name": "stdout",
     "output_type": "stream",
     "text": [
      "['.DS_Store',\n",
      " '.git',\n",
      " '.idea',\n",
      " 'Assignments',\n",
      " 'Lecture_01',\n",
      " 'Lecture_02',\n",
      " 'Lecture_03',\n",
      " 'Lecture_04',\n",
      " 'Lecture_05',\n",
      " 'Lecture_06',\n",
      " 'Lecture_07',\n",
      " 'Lecture_08',\n",
      " 'Readme.md']\n"
     ]
    }
   ],
   "source": [
    "pprint.pprint(os.listdir('..'))"
   ]
  }
 ],
 "metadata": {
  "anaconda-cloud": {},
  "kernelspec": {
   "display_name": "Python 3",
   "language": "python",
   "name": "python3"
  },
  "language_info": {
   "codemirror_mode": {
    "name": "ipython",
    "version": 3
   },
   "file_extension": ".py",
   "mimetype": "text/x-python",
   "name": "python",
   "nbconvert_exporter": "python",
   "pygments_lexer": "ipython3",
   "version": "3.6.2"
  }
 },
 "nbformat": 4,
 "nbformat_minor": 1
}
