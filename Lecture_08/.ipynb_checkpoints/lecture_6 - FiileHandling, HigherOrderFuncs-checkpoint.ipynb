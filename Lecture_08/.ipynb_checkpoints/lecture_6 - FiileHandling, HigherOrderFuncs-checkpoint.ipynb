{
 "cells": [
  {
   "cell_type": "markdown",
   "metadata": {
    "slideshow": {
     "slide_type": "notes"
    }
   },
   "source": [
    "# Introduction to Python - Day 06 (25 July 2017)\n",
    "### Agenda for today:\n",
    "+ Basic File handling\n",
    "+ Basic Exception Handling\n",
    "+ a useful package, module: os, os.path\n",
    "+ higher order functions, lambda functions, sorting complex objects"
   ]
  },
  {
   "cell_type": "markdown",
   "metadata": {
    "collapsed": true
   },
   "source": [
    "# Data Persistence\n",
    "\n",
    "+ Files\n",
    "    + **<font color='blue'>\\*.txt**</font>, \\*.xml, *.json\n",
    "    + \\*.csv, \\*.tab, *.xlsx (covered later, with pandas)\n",
    "+ Databases (not covered in this course)"
   ]
  },
  {
   "cell_type": "markdown",
   "metadata": {},
   "source": [
    "# Built-in *<font color='blue'>file</font>* object\n",
    "\n",
    "+ Basic format:\n",
    "```python\n",
    "fh = open('<filename>', '<mode>')   # Creates a file object fh\n",
    "```\n",
    "+ *filename* can be _**absolute**_ or _**relative**_\n",
    "+ *mode*: {'r', 'w', 'a'}; Default='r'\n",
    "+ 'r': open file for reading if exists, else **<font color='blue'>FileNotFoundError</font>**\n",
    "+ 'w': open new file for writing; overwrite if exists; use 'a' to avoid overwriting\n",
    "\n",
    "```python\n",
    "fh = open('data/data.txt')\n",
    "type(fh)\n",
    "dir(fh)\n",
    "```\n",
    "\n",
    "+ If the file does not exist, open will raise a **FileNotFound** error with traceback\n",
    "\n",
    "**Notes**:\n",
    "+ *fh* is not the file itself, but a handle/reference to it. Use it to do desired operations (read/write).\n",
    "<br />\n",
    "![alt text](filehandle.svg)\n",
    "<br />\n",
    "+ <font color='blue'>Some additional mode options: 'rb', 'wb' for reading and writing binary files; '+' to open the file for both reading and writing."
   ]
  },
  {
   "cell_type": "code",
   "execution_count": 2,
   "metadata": {},
   "outputs": [
    {
     "data": {
      "text/plain": [
       "['_CHUNK_SIZE',\n",
       " '__class__',\n",
       " '__del__',\n",
       " '__delattr__',\n",
       " '__dict__',\n",
       " '__dir__',\n",
       " '__doc__',\n",
       " '__enter__',\n",
       " '__eq__',\n",
       " '__exit__',\n",
       " '__format__',\n",
       " '__ge__',\n",
       " '__getattribute__',\n",
       " '__getstate__',\n",
       " '__gt__',\n",
       " '__hash__',\n",
       " '__init__',\n",
       " '__init_subclass__',\n",
       " '__iter__',\n",
       " '__le__',\n",
       " '__lt__',\n",
       " '__ne__',\n",
       " '__new__',\n",
       " '__next__',\n",
       " '__reduce__',\n",
       " '__reduce_ex__',\n",
       " '__repr__',\n",
       " '__setattr__',\n",
       " '__sizeof__',\n",
       " '__str__',\n",
       " '__subclasshook__',\n",
       " '_checkClosed',\n",
       " '_checkReadable',\n",
       " '_checkSeekable',\n",
       " '_checkWritable',\n",
       " '_finalizing',\n",
       " 'buffer',\n",
       " 'close',\n",
       " 'closed',\n",
       " 'detach',\n",
       " 'encoding',\n",
       " 'errors',\n",
       " 'fileno',\n",
       " 'flush',\n",
       " 'isatty',\n",
       " 'line_buffering',\n",
       " 'mode',\n",
       " 'name',\n",
       " 'newlines',\n",
       " 'read',\n",
       " 'readable',\n",
       " 'readline',\n",
       " 'readlines',\n",
       " 'seek',\n",
       " 'seekable',\n",
       " 'tell',\n",
       " 'truncate',\n",
       " 'writable',\n",
       " 'write',\n",
       " 'writelines']"
      ]
     },
     "execution_count": 2,
     "metadata": {},
     "output_type": "execute_result"
    }
   ],
   "source": [
    "fh = open('data/data.txt')\n",
    "type(fh)\n",
    "dir(fh)"
   ]
  },
  {
   "cell_type": "markdown",
   "metadata": {},
   "source": [
    "# Reading from Files in \"text mode\"\n",
    "+ File content is always read in as strings  \n",
    "<br />\n",
    "+ Here are the **most common approaches**:\n",
    "\n",
    "    - **Read all data at once as a string**\n",
    "\n",
    "    ```python\n",
    "    import pprint\n",
    "    fh = open('data/data.txt', 'r')\n",
    "    data = fh.read()              # to read in all data as one big string\n",
    "    print(type(data), '\\n\\n'\n",
    "    pprint.pprint(data)\n",
    "\n",
    "    pprint.pprint(data.split('\\n'))   # split the big string on new line character (\\n)\n",
    "    ```"
   ]
  },
  {
   "cell_type": "code",
   "execution_count": null,
   "metadata": {
    "collapsed": true
   },
   "outputs": [],
   "source": []
  },
  {
   "cell_type": "markdown",
   "metadata": {},
   "source": [
    "+ **file pointers and *<font color='blue'>seek</font>* operation**\n",
    "\n",
    "    ```python\n",
    "    data_empty = fh.read()        # can't read more without resetting the read pointer\n",
    "    print(\"length of empty_data is: \", len(data_empty))\n",
    "    help(fh.seek)\n",
    "    fh.seek(0, 0)          # reset the pointer to beginning of the file\n",
    "    data_now = fh.read()\n",
    "    ```"
   ]
  },
  {
   "cell_type": "code",
   "execution_count": null,
   "metadata": {
    "collapsed": true
   },
   "outputs": [],
   "source": []
  },
  {
   "cell_type": "markdown",
   "metadata": {},
   "source": [
    "+ **Read individual lines as strings**\n",
    "```python\n",
    "fh.seek(0, 0)\n",
    "data = fh.readlines()       # returns list of strings\n",
    "print(type(data), \"\\n\\n\")   # check out the \\n newline character at the end of lines\n",
    "pprint.pprint(data)         # (\\r\\n on windows machines)\n",
    "```"
   ]
  },
  {
   "cell_type": "code",
   "execution_count": null,
   "metadata": {
    "collapsed": true
   },
   "outputs": [],
   "source": []
  },
  {
   "cell_type": "markdown",
   "metadata": {},
   "source": [
    "+ **Iterate over large files**\n",
    "```python\n",
    "fh.seek(0, 0)\n",
    "for line in fh:           # 'fh' is iterable; use in iteration context for efficient\n",
    "    print(len(line), line)  # reading of large files\n",
    "fh.close()                # close file; good practice (esp. when writing files)\n",
    "```"
   ]
  },
  {
   "cell_type": "code",
   "execution_count": null,
   "metadata": {
    "collapsed": true
   },
   "outputs": [],
   "source": []
  },
  {
   "cell_type": "markdown",
   "metadata": {},
   "source": [
    "+ **Context manager**\n",
    "```python\n",
    "with open('data/data.txt', 'r') as fh:  # Context-manager; automatically closes the file\n",
    "    for line in fh:\n",
    "        print(line)\n",
    "print('\\nfh status: ', fh.closed)\n",
    "```"
   ]
  },
  {
   "cell_type": "code",
   "execution_count": null,
   "metadata": {
    "collapsed": true
   },
   "outputs": [],
   "source": []
  },
  {
   "cell_type": "markdown",
   "metadata": {},
   "source": [
    "## Very Brief Introduction to Exception Handling\n",
    "+ In programs, everything doesn't always happen as it is supposed to (KeyError, IndexError, FileNotFoundError, ZeroDivisionError etc.)\n",
    "+ Events that are triggered on errors (or manually, for signalling)\n",
    "+ Python machinery allows jumping out of an arbitrary code-block when exceptions occur\n",
    "+ Errors need not always terminate the script execution\n",
    "    - could be handled appropriately\n",
    "    - recover gracefully from it if possible\n",
    "        * may be we want to ignore errors\n",
    "        * may be we want to handle errors in a specific way (for ex, using a default response, or closing all resources - files, database connections etc - before we exit)\n",
    "        * may be we want to provide a user some informative message and carry on\n",
    "        \n",
    "```python\n",
    "while True:\n",
    "    x = input('Enter a number')\n",
    "    print(int(x)*2)\n",
    "```\n",
    "<br />\n",
    "```python\n",
    "while True:\n",
    "    x = input('Enter a number')\n",
    "    try:    \n",
    "        print(int(x)*2)\n",
    "    except ValueError:\n",
    "        print('Please enter a valid number')\n",
    "```\n",
    "<br />\n",
    "```python\n",
    "import pprint\n",
    "try:\n",
    "    fh = open('wrong_filename.txt', 'r')\n",
    "    data = fh.read()              # to read in all data as one big string\n",
    "    print(type(data), '\\n\\n')\n",
    "    pprint.pprint(data)\n",
    "except FileNotFoundError:\n",
    "    print('Please enter a valid filename')\n",
    "```"
   ]
  },
  {
   "cell_type": "code",
   "execution_count": null,
   "metadata": {
    "collapsed": true
   },
   "outputs": [],
   "source": []
  },
  {
   "cell_type": "markdown",
   "metadata": {},
   "source": [
    "# Writing to Files in \"text mode\"\n",
    "+ Like reading, writing is also done as strings\n",
    "<br />\n",
    "+ Here are the **most common approaches**:\n",
    "\n",
    "```python\n",
    "fh = open('data/fresh.txt', 'w')           # Open a new file in write mode\n",
    "fh.write('This is the 1st line\\n')    # Write a line; \n",
    "                                      # Note that newline chars must be explicitly added\n",
    "fh.close()\n",
    "```\n",
    "\n"
   ]
  },
  {
   "cell_type": "code",
   "execution_count": null,
   "metadata": {
    "collapsed": true
   },
   "outputs": [],
   "source": []
  },
  {
   "cell_type": "markdown",
   "metadata": {},
   "source": [
    "+ **Flushing buffers**\n",
    "\n",
    "```python\n",
    "fh = open('data/fresh.txt', 'a')           # Open the earlier file in 'append' mode\n",
    "                                      #    to avoid overwriting\n",
    "fh.write('This is the 2nd line\\n')    # Write a line; \n",
    "                                      # Note that newline chars must be explicitly added\n",
    "fh.flush()                            # Clears the buffer\n",
    "```"
   ]
  },
  {
   "cell_type": "code",
   "execution_count": null,
   "metadata": {
    "collapsed": true
   },
   "outputs": [],
   "source": []
  },
  {
   "cell_type": "markdown",
   "metadata": {},
   "source": [
    "+ **Write multiple lines at once**\n",
    "\n",
    "```python\n",
    "fh.writelines(['This is the 3rd line\\n', 'This is the 4th line\\n'])   # Note the newline\n",
    "fh.flush()\n",
    "```"
   ]
  },
  {
   "cell_type": "code",
   "execution_count": null,
   "metadata": {
    "collapsed": true
   },
   "outputs": [],
   "source": []
  },
  {
   "cell_type": "markdown",
   "metadata": {},
   "source": [
    "+ **Write iteratively**\n",
    "\n",
    "```python\n",
    "more_lines = ['5th line', '6th line', '7th line']\n",
    "\n",
    "for line in more_lines:                   # iteration context\n",
    "    fh.write(line + '\\n')\n",
    "    fh.flush()\n",
    "fh.close()\n",
    "```\n",
    "\n"
   ]
  },
  {
   "cell_type": "code",
   "execution_count": null,
   "metadata": {
    "collapsed": true
   },
   "outputs": [],
   "source": []
  },
  {
   "cell_type": "markdown",
   "metadata": {},
   "source": [
    "## os.path module\n",
    "```python\n",
    "import os\n",
    "dir(os.path)\n",
    "```\n",
    "+ **path parsing:**\n",
    "    - os.path.split(<path_str>):\n",
    "    - os.path.splitext(<path_str>) \n",
    "```python\n",
    "# Ex.\n",
    "print(os.path.split('/Users/groveh01/Documents/my_data.txt'))\n",
    "print(os.path.splitext('my_data.txt'))\n",
    "```\n",
    "+ **path building:**\n",
    "    - os.path.join(<path_components>)\n",
    "```python\n",
    "# Ex.\n",
    "print(os.path.join('/Users', 'groveh01', 'Documents', 'Teaching'))\n",
    "```\n",
    "+ **common tests:**\n",
    "    - os.path.<test>, where test = {isdir(), isfile(), exists(), ...}\n",
    "```python\n",
    "# Ex.\n",
    "print(os.path.isdir('data/data.txt'))\n",
    "print(os.path.isfile('data/data.txt')\n",
    "print(os.path.exists('data')\n",
    "print(os.path.exists('data.txt')\n",
    "print(os.path.exists('/Users/groveh01')\n",
    "```\n",
    "+ **listing contents of a dir:**\n",
    "    - os.listdir\n",
    "```python\n",
    "# Ex.\n",
    "import pprint\n",
    "pprint.pprint(os.listdir('/Users/groveh01'))\n",
    "pprint.pprint(os.listdir('.'))\n",
    "pprint.pprint(os.listdir('..'))\n",
    "```"
   ]
  },
  {
   "cell_type": "code",
   "execution_count": null,
   "metadata": {
    "collapsed": true
   },
   "outputs": [],
   "source": []
  },
  {
   "cell_type": "markdown",
   "metadata": {
    "collapsed": true
   },
   "source": [
    "# Some useful higher-order functions\n",
    "+ Take other functions as input\n",
    "+ <font color='blue'>**map**</font>: Apply a function to each element of an iterable\n",
    "```python\n",
    "Syntax: map(<some fn>, <some iterable>)      # returns a lazy object\n",
    "          help(map)\n",
    "```\n",
    "\n",
    "```python\n",
    "# Ex. 1\n",
    "from math import sqrt\n",
    "x = [1,2,3,4]\n",
    "z = map(sqrt, x)\n",
    "print(type(z), z)      # lazy map object; great for working with large iterables\n",
    "print(list(z))\n",
    "```\n",
    "```python\n",
    "# Ex. 2\n",
    "def fn(a, b):\n",
    "    return a+b\n",
    "x = [1,2,3,4]\n",
    "y = [10,11,12,13]\n",
    "z = map(fn, x, y)\n",
    "print(list(z))\n",
    "```"
   ]
  },
  {
   "cell_type": "code",
   "execution_count": null,
   "metadata": {
    "collapsed": true
   },
   "outputs": [],
   "source": []
  },
  {
   "cell_type": "markdown",
   "metadata": {},
   "source": [
    "+ <font color='blue'>**reduce**</font>: reduce an iterable to a single value\n",
    "+ **Syntax**:\n",
    "```python\n",
    "from functools import reduce\n",
    "reduce(<some fn>, <some sequence>)\n",
    "help(reduce)\n",
    "```\n",
    "\n",
    "+ Ex:\n",
    "\n",
    "```python\n",
    "from functools import reduce\n",
    "def sum_(a, b):\n",
    "    return a+b\n",
    "    \n",
    "x = [1,2,3,4]\n",
    "z = reduce(sum_, x)\n",
    "print(z)\n",
    "```\n",
    "\n",
    "[1, 2, 3, 4]<br />\n",
    "&nbsp;&nbsp;&nbsp;\\/<br />\n",
    "&nbsp;&nbsp;[3, 3, 4]<br />\n",
    "&nbsp;&nbsp;&nbsp;&nbsp;&nbsp;\\/<br />\n",
    "&nbsp;&nbsp;&nbsp;&nbsp;[6, 4]<br />\n",
    "&nbsp;&nbsp;&nbsp;&nbsp;&nbsp;&nbsp;&nbsp;\\/<br />\n",
    "&nbsp;&nbsp;&nbsp;&nbsp;&nbsp;&nbsp;10<br />\n",
    "     \n",
    "+ <font color='blue'>_**reduce**_</font> can also take an initial value (chk with _**dir(reduce)**_)\n",
    "```python\n",
    "print(reduce(sum_, x, 100)\n",
    "```\n",
    "\n",
    "+ **<font color='blue'>anonymous (lambda functions)</font>**\n",
    "    + useful shortcut for small functions to be created at run-time\n",
    "    + single expression, whose value is returned\n",
    "    + use in places where _**'def'**_ can't be used\n",
    "```python\n",
    "x = [1,2,3,4]\n",
    "z = reduce(lambda a, b: a+b, x)       \n",
    "print(z)\n",
    "```"
   ]
  },
  {
   "cell_type": "code",
   "execution_count": 8,
   "metadata": {},
   "outputs": [
    {
     "name": "stdout",
     "output_type": "stream",
     "text": [
      "10\n",
      "110\n"
     ]
    }
   ],
   "source": []
  },
  {
   "cell_type": "markdown",
   "metadata": {},
   "source": [
    "# Another useful example (sorting complex objects)\n",
    "```python\n",
    "x = [('d', 2), ('a', 4), ('c', 1), ('b', 3)]\n",
    "x.sort()\n",
    "print(x)\n",
    "x.sort(key=lambda z: z[1])      # Sort list objects (tuples) using 2nd item as the key\n",
    "print(x)\n",
    "```\n",
    "\n",
    "\n",
    "```python\n",
    "import pprint\n",
    "x = [{'firstname': 'Frodo', 'lastname': 'Took'}, \n",
    "     {'firstname': 'Samwise', 'lastname': 'Brandybuck'}, \n",
    "     {'firstname': 'Pippin', 'lastname': 'Gamgee'}, \n",
    "     {'firstname': 'Merry', 'lastname': 'Baggins'}]\n",
    "x.sort(key=lambda name: name['firstname'])  # Sort list objects (dicts) using  value for\n",
    "                                            # 'firstname' as the sorting key\n",
    "pprint.pprint(x)\n",
    "x.sort(key=lambda name: name['lastname'])   # Sort list objects by value for 'lastname'\n",
    "pprint.pprint(x)```"
   ]
  },
  {
   "cell_type": "code",
   "execution_count": null,
   "metadata": {
    "collapsed": true
   },
   "outputs": [],
   "source": []
  }
 ],
 "metadata": {
  "anaconda-cloud": {},
  "kernelspec": {
   "display_name": "Python 3",
   "language": "python",
   "name": "python3"
  },
  "language_info": {
   "codemirror_mode": {
    "name": "ipython",
    "version": 3
   },
   "file_extension": ".py",
   "mimetype": "text/x-python",
   "name": "python",
   "nbconvert_exporter": "python",
   "pygments_lexer": "ipython3",
   "version": "3.6.1"
  }
 },
 "nbformat": 4,
 "nbformat_minor": 1
}
