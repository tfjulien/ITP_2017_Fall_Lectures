{
 "cells": [
  {
   "cell_type": "markdown",
   "metadata": {},
   "source": [
    "# Pandas  & Matplotlib 1 "
   ]
  },
  {
   "cell_type": "markdown",
   "metadata": {},
   "source": [
    "#PandasGoals:\n",
    "    1. Understand the basics of the Pandas/Matplotlib library\n",
    "    2. Gain a general understanding of exploring libraries and library subfunctions"
   ]
  },
  {
   "cell_type": "code",
   "execution_count": null,
   "metadata": {
    "collapsed": true
   },
   "outputs": [],
   "source": [
    "#load the libraries\n",
    "import pandas as pd\n",
    "import numpy as np"
   ]
  },
  {
   "cell_type": "markdown",
   "metadata": {},
   "source": [
    "A module can contain executable statements and function definitions. We use these import statements to initialize our script and the libraries we are going to use. They are run only at the first time during the execution of the script. <br>\n",
    "\n",
    "In this case we are gaining access to **all** of the pandas module's functions by assigning it to an object. In many cases (such as Matplotlib below) we specifiy the sub-library we are interested in and only gain acccess to the sub-library's functions."
   ]
  },
  {
   "cell_type": "markdown",
   "metadata": {},
   "source": [
    "<img src='./Images/pandas_logo.png'>"
   ]
  },
  {
   "cell_type": "markdown",
   "metadata": {},
   "source": [
    "**PANDAS** is an open souce Python Library for data analysis.<br>\n",
    "It works using 2 Major Data Structures:\n",
    "1. Series\n",
    "2. DataFrame"
   ]
  },
  {
   "cell_type": "markdown",
   "metadata": {},
   "source": [
    "## Basic Pandas Series Usage "
   ]
  },
  {
   "cell_type": "markdown",
   "metadata": {},
   "source": [
    "**Series**: One dimensional mutable list-like object with index labels;\n",
    "- Can take mixed data types\n",
    "- Follows the python convention of zero first index\n",
    "- Series Object has useful methods (functions);\n",
    "--Can be applied to the Series Object"
   ]
  },
  {
   "cell_type": "code",
   "execution_count": null,
   "metadata": {
    "collapsed": false,
    "scrolled": false
   },
   "outputs": [],
   "source": [
    "#convert a list to a pandas series\n",
    "#note the mixed data types\n",
    "_ser_ = pd.Series(['Moscow Mule','Gin and Tonic','Jameson',3]) \n",
    "\n",
    "_ser_"
   ]
  },
  {
   "cell_type": "markdown",
   "metadata": {},
   "source": [
    "> Notice that in this jupyter notebook (IPython) the code runs interactively. <br> </br> In non-interactive python useage you would have to put a print statement to view the pandas objects contents. For pycharm or when running code from scripts, you must still use the print statement."
   ]
  },
  {
   "cell_type": "code",
   "execution_count": null,
   "metadata": {
    "collapsed": false
   },
   "outputs": [],
   "source": [
    "#inspect the non-explicit index of the series object\n",
    "_ser_.index"
   ]
  },
  {
   "cell_type": "markdown",
   "metadata": {},
   "source": [
    "***Pandas series objects have lots of list like properties: \n",
    "But a major difference is that we can specify the index kind of like a specialized dictionary***"
   ]
  },
  {
   "cell_type": "code",
   "execution_count": null,
   "metadata": {
    "collapsed": false,
    "scrolled": true
   },
   "outputs": [],
   "source": [
    "#inspect the first element in the series object\n",
    "_ser_[0]"
   ]
  },
  {
   "cell_type": "code",
   "execution_count": null,
   "metadata": {
    "collapsed": false
   },
   "outputs": [],
   "source": [
    "# allows for negative index slicing (discuss more in the slicing)\n",
    "_ser_[-1:]"
   ]
  },
  {
   "cell_type": "code",
   "execution_count": null,
   "metadata": {
    "collapsed": false
   },
   "outputs": [],
   "source": [
    "#item reassignment\n",
    "_ser_[3] = 'Pickleback'\n",
    "_ser_"
   ]
  },
  {
   "cell_type": "code",
   "execution_count": null,
   "metadata": {
    "collapsed": false
   },
   "outputs": [],
   "source": [
    "#create a pandas series from a list with explicit index labels\n",
    "s_ix = pd.Series(['sigma','beta','rho','theta'],index=['A','B','C','D'])\n",
    "s_ix"
   ]
  },
  {
   "cell_type": "code",
   "execution_count": null,
   "metadata": {
    "collapsed": false
   },
   "outputs": [],
   "source": [
    "#inspect the value at a explicit index\n",
    "# dictionary style access\n",
    "s_ix['B']"
   ]
  },
  {
   "cell_type": "code",
   "execution_count": null,
   "metadata": {
    "collapsed": false
   },
   "outputs": [],
   "source": [
    "#unlike a dictionary we can preform list style slicing\n",
    "s_ix['A':'C']"
   ]
  },
  {
   "cell_type": "code",
   "execution_count": null,
   "metadata": {
    "collapsed": false
   },
   "outputs": [],
   "source": [
    "#we can also use a boolean \n",
    "s_ix=='theta'"
   ]
  },
  {
   "cell_type": "code",
   "execution_count": null,
   "metadata": {
    "collapsed": false
   },
   "outputs": [],
   "source": [
    "#check for membership\n",
    "print('theta' in s_ix.values);\n",
    "print ('kappa' in s_ix.values);"
   ]
  },
  {
   "cell_type": "code",
   "execution_count": null,
   "metadata": {
    "collapsed": false
   },
   "outputs": [],
   "source": [
    "#apply selection\n",
    "s_ix[s_ix=='theta']"
   ]
  },
  {
   "cell_type": "markdown",
   "metadata": {},
   "source": [
    "> By creating a pandas series object you now have access to the Pandas \n",
    "> series functions; This is highly useful.\n",
    "\n",
    "> inspect these functions by *dir(pandas_obj)*"
   ]
  },
  {
   "cell_type": "code",
   "execution_count": null,
   "metadata": {
    "collapsed": false,
    "scrolled": true
   },
   "outputs": [],
   "source": [
    "#for example\n",
    "dir(s_ix);\n",
    "\n",
    "#Using a Pandas function\n",
    "# For example find counts for the elements in our s_ix example;\n",
    "\n",
    "s_ix.value_counts()"
   ]
  },
  {
   "cell_type": "markdown",
   "metadata": {},
   "source": [
    "** In the Following Example:**  \n",
    "- create a new series object, \n",
    "- create a mask (filter)\n",
    "- look at our results"
   ]
  },
  {
   "cell_type": "code",
   "execution_count": null,
   "metadata": {
    "collapsed": false
   },
   "outputs": [],
   "source": [
    "#create a pandas series object with the indexes being ['T','C','G','A'] \n",
    "# and random probabilities\n",
    "dna_prob = pd.Series([.8,.05,.12,.03],index=['T','C','G','A'])\n",
    "\n",
    "#apply a function from NumPY to our pandas series object\n",
    "print np.max(dna_prob)"
   ]
  },
  {
   "cell_type": "code",
   "execution_count": null,
   "metadata": {
    "collapsed": false
   },
   "outputs": [],
   "source": [
    "#set a selection criteria (filter)\n",
    "low_prob = dna_prob < .2;\n",
    "\n",
    "\n",
    "low_prob"
   ]
  },
  {
   "cell_type": "code",
   "execution_count": null,
   "metadata": {
    "collapsed": false
   },
   "outputs": [],
   "source": [
    "## apply selection filter criteria to the Series \n",
    "dna_prob[low_prob]"
   ]
  },
  {
   "cell_type": "code",
   "execution_count": null,
   "metadata": {
    "collapsed": false
   },
   "outputs": [],
   "source": [
    "#apply np functions to a Pandas Series object\n",
    "np.square(dna_prob)"
   ]
  },
  {
   "cell_type": "markdown",
   "metadata": {},
   "source": [
    "##   Working with Pandas DataFrames"
   ]
  },
  {
   "cell_type": "markdown",
   "metadata": {},
   "source": [
    "**DataFrame** : A group of Series like objects organized as rows and columns; \n",
    "            1. Looks like an Excel Spreadsheet or matrix;\n",
    "            2. Works on a similar level as pandas Series Objects;"
   ]
  },
  {
   "cell_type": "code",
   "execution_count": null,
   "metadata": {
    "collapsed": false,
    "scrolled": true
   },
   "outputs": [],
   "source": [
    "#create a dataframe from dicts\n",
    "df1 = pd.DataFrame({'a':[1,2,3,4,5],'b':[10,20,30,40,50],'c':[100,200,300,400,500],'d':[1000,2000,3000,4000,5000]})\n",
    "\n",
    "#inspect the object you just created\n",
    "type(df1)"
   ]
  },
  {
   "cell_type": "code",
   "execution_count": null,
   "metadata": {
    "collapsed": false
   },
   "outputs": [],
   "source": [
    "#View the DataFrame\n",
    "df1.head()\n",
    "\n",
    "print('\\n')\n",
    "\n",
    "df1.tail()"
   ]
  },
  {
   "cell_type": "markdown",
   "metadata": {},
   "source": [
    ">Passing indices to a dataframe to get a different view is in this general format:\n",
    "- dataframe[column name]\n",
    "- dataframe.ix[rows, columns]"
   ]
  },
  {
   "cell_type": "markdown",
   "metadata": {},
   "source": [
    "***Useful dataframe slicing functions***\n",
    "\n",
    "1. *.loc* works on named indices includes the stop range value.\n",
    "2. *.iloc* works on the **index** position (so it only takes **integers**) EXCLUDES the stop range value.\n",
    "3. *.ix* usually tries to behave like loc but falls back to behaving like iloc if the label is not in the index.\n",
    "    works on mixed input types; includes the stop range value."
   ]
  },
  {
   "cell_type": "markdown",
   "metadata": {},
   "source": [
    "***<font color='blue'> How would we get the value 400 using .iloc? </font>***"
   ]
  },
  {
   "cell_type": "code",
   "execution_count": null,
   "metadata": {
    "collapsed": false
   },
   "outputs": [],
   "source": [
    "#iloc"
   ]
  },
  {
   "cell_type": "markdown",
   "metadata": {},
   "source": [
    "***Slice Notation ***\n",
    "Consider DataFrame (a)\n",
    "\n",
    "1. a[start:end] # items start through end-1\n",
    "2. a[start:]    # items start through the rest of the array\n",
    "3. a[:end]      # items from the beginning through end-1\n",
    "4. a[:]         # a copy of the whole array"
   ]
  },
  {
   "cell_type": "code",
   "execution_count": null,
   "metadata": {
    "collapsed": false
   },
   "outputs": [],
   "source": [
    "# slice and dice the columns and rows\n",
    "# follows df.loc[row_indexer,column_indexer]\n",
    "\n",
    "# by column; example column 'C'\n",
    "df1.loc[:,'c']"
   ]
  },
  {
   "cell_type": "code",
   "execution_count": null,
   "metadata": {
    "collapsed": false
   },
   "outputs": [],
   "source": [
    "#row slice from one column\n",
    "df1.loc[0:3,'a']"
   ]
  },
  {
   "cell_type": "code",
   "execution_count": null,
   "metadata": {
    "collapsed": false
   },
   "outputs": [],
   "source": [
    "#multiple columns\n",
    "df1[['a','b']]"
   ]
  },
  {
   "cell_type": "markdown",
   "metadata": {},
   "source": [
    "***<font color='blue'> How would we view/find rows named 3,4?</font>***"
   ]
  },
  {
   "cell_type": "code",
   "execution_count": null,
   "metadata": {
    "collapsed": false
   },
   "outputs": [],
   "source": []
  },
  {
   "cell_type": "markdown",
   "metadata": {},
   "source": [
    "## Working with DF Row and Column labels"
   ]
  },
  {
   "cell_type": "markdown",
   "metadata": {},
   "source": [
    "As with the series object. DataFrame objects also contain very useful functions to manipulate your data. Here is a short example of something that might be useful when cleaning data, which is usually a major portion of your time in Data Analysis.\n",
    "\n",
    "-- In the following example. We use the dataframe.tolist() function to turn our row indices into a list and then use a list of new keys to rename the dataframe rows."
   ]
  },
  {
   "cell_type": "code",
   "execution_count": null,
   "metadata": {
    "collapsed": false
   },
   "outputs": [],
   "source": [
    "# to get the row names \n",
    "df1.index\n",
    "\n",
    "# convert rownames to a list\n",
    "orig = df1.index.tolist()\n",
    "orig"
   ]
  },
  {
   "cell_type": "code",
   "execution_count": null,
   "metadata": {
    "collapsed": false
   },
   "outputs": [],
   "source": [
    "#rename row.names\n",
    "newkeys = ['ones','twos','threes','fours','fives']\n",
    "\n",
    "#get help on this function\n",
    "help(df1.rename);"
   ]
  },
  {
   "cell_type": "code",
   "execution_count": null,
   "metadata": {
    "collapsed": false
   },
   "outputs": [],
   "source": [
    "# create a dictionary from the original keys and the newkeys\n",
    "new_keys = dict(zip(orig,newkeys))\n",
    "\n",
    "#use the pandas rename function\n",
    "df2 = df1.rename(new_keys)\n",
    "\n",
    "#new row_indices DF\n",
    "df2.index\n",
    "\n",
    "#oneliner?\n",
    "df1.rename(dict(zip(orig,newkeys)))"
   ]
  },
  {
   "cell_type": "code",
   "execution_count": null,
   "metadata": {
    "collapsed": false
   },
   "outputs": [],
   "source": [
    "# rename columns\n",
    "new_cols = ['A','B','C','D']\n",
    "df2.columns = new_cols # much easier\n",
    "df2"
   ]
  },
  {
   "cell_type": "markdown",
   "metadata": {},
   "source": [
    "## <font color='red'> Pandas Functions and Axis </font> <br> </br>\n",
    "\n",
    "\n",
    "As with the Pandas Series. A Pandas DataFrame object has many functions available.\n",
    "1. inspect with dir(pandasobj):"
   ]
  },
  {
   "cell_type": "code",
   "execution_count": null,
   "metadata": {
    "collapsed": false
   },
   "outputs": [],
   "source": [
    "dir(df2);"
   ]
  },
  {
   "cell_type": "markdown",
   "metadata": {},
   "source": [
    "***  axis=0 operates on rows,  axis=1 operates on columns***"
   ]
  },
  {
   "cell_type": "markdown",
   "metadata": {},
   "source": [
    "<img src='./Images/pandasimg1.jpg' >"
   ]
  },
  {
   "cell_type": "code",
   "execution_count": null,
   "metadata": {
    "collapsed": false
   },
   "outputs": [],
   "source": [
    "#Find the sum across the rows\n",
    "df2['new_column']=df2.sum(axis=1)\n",
    "\n",
    "df2.head()"
   ]
  },
  {
   "cell_type": "markdown",
   "metadata": {},
   "source": [
    "***<font color='blue'> How would we find the sum down the columns?</font>***"
   ]
  },
  {
   "cell_type": "code",
   "execution_count": null,
   "metadata": {
    "collapsed": false
   },
   "outputs": [],
   "source": [
    "\n"
   ]
  },
  {
   "cell_type": "markdown",
   "metadata": {},
   "source": [
    "## Working with Files "
   ]
  },
  {
   "cell_type": "markdown",
   "metadata": {},
   "source": [
    "Now that we've gone over the basics of a DataFrame, we can now load data into Pandas and run through some analysis. <br> <br/> \n",
    "- Importing delimited data such as a .csv or .txt .xls file uses:<br> </br>\n",
    "     *pd.read_table  / pd.read_csv etc*\n",
    "     \n",
    "- We specify the delimeter to look for and other options to make uploading files smoother\n",
    "\n",
    "- We specify what we would call the missing values (much more next class)"
   ]
  },
  {
   "cell_type": "code",
   "execution_count": null,
   "metadata": {
    "collapsed": false
   },
   "outputs": [],
   "source": [
    "#Load an excel file into pandas\n",
    "NHL_Goalies = pd.read_excel('NHLGoalies2016_2017.xls',na_values='',sheetname=0)\n",
    "GAA_ = pd.read_excel('NHLGoalies2016_2017.xls',na_values='',sheetname='5vs5')\n",
    "\n",
    "#Check out the column names for the file we just uploaded;\n",
    "NHL_Goalies.columns\n",
    "\n",
    "#Inspect the DataFrame\n",
    "NHL_Goalies.head(); NHL_Goalies.tail();"
   ]
  },
  {
   "cell_type": "code",
   "execution_count": null,
   "metadata": {
    "collapsed": false
   },
   "outputs": [],
   "source": [
    "#Check the dimensions of the dataframe\n",
    "#df.shape returns tuple (n-Rows, n-Cols).\n",
    "NHL_Goalies.shape"
   ]
  },
  {
   "cell_type": "code",
   "execution_count": null,
   "metadata": {
    "collapsed": false
   },
   "outputs": [],
   "source": [
    "#inspect the data types in the columns\n",
    "NHL_Goalies.dtypes\n"
   ]
  },
  {
   "cell_type": "markdown",
   "metadata": {},
   "source": [
    "> The dtype **\"object\"** comes from NumPy, it describes the type of element in a ndarray(*n-dimensional array*). \n",
    "> Every element in a ndarray  must have the same size of bytes. For int64 and float64, they are fixed at 8 bytes. \n",
    "> But for strings, the length is not fixed. \n",
    "> So instead of saving the bytes of strings in the ndarray directly, Pandas uses the object ndarray, which saves pointers to objects, because of this the dtype of this kind ndarray is an object."
   ]
  },
  {
   "cell_type": "markdown",
   "metadata": {},
   "source": [
    "<img src='./Images/NdarrayPointer.png'>"
   ]
  },
  {
   "cell_type": "markdown",
   "metadata": {},
   "source": [
    "***<font color='blue'> In Class Mask Exercise </font> ***\n",
    "\n",
    "1. Subset the GAA DataFrame and subset the goalies from NY/NJ Area:\n",
    "        Use Areas = ['NYR','NJD','NYI','BUF']\n",
    "2. Calculate the Sum of all the Nationalities (from NHL_Goalies DataFrame) within this subset:\n",
    "\n",
    "3. Find the mean Goals Allowed in the entire dataset and the NY/NJ Area"
   ]
  },
  {
   "cell_type": "code",
   "execution_count": null,
   "metadata": {
    "collapsed": false
   },
   "outputs": [],
   "source": [
    "#Question 1\n"
   ]
  },
  {
   "cell_type": "code",
   "execution_count": null,
   "metadata": {
    "collapsed": false
   },
   "outputs": [],
   "source": [
    "#Question 2\n"
   ]
  },
  {
   "cell_type": "code",
   "execution_count": null,
   "metadata": {
    "collapsed": false
   },
   "outputs": [],
   "source": [
    "#Question 3\n"
   ]
  },
  {
   "cell_type": "markdown",
   "metadata": {},
   "source": [
    "# MatplotLib \n",
    "\n",
    "Matplotlib is a 2D plotting library in python that was designed to closely resemble Matlab;\n",
    "\n",
    "1. Allows for access to object properties that can be modified\n",
    "\n",
    "**checkout some examples : [https://matplotlib.org/examples/**\n"
   ]
  },
  {
   "cell_type": "markdown",
   "metadata": {},
   "source": [
    "<img src='./Images/figure_axes_axis_labeled.png'>"
   ]
  },
  {
   "cell_type": "markdown",
   "metadata": {},
   "source": [
    "*Matplotlib* works using a hierarchy of containers that are all adjustable:\n",
    "   1. **Figure** is the topmost container: it is the entire page for your plot\n",
    "      -- it can contain multiple plots and axes\n",
    "   2. Plotting is mostly done on the Axes container via subplot:\n",
    "      -- Each Axes object has access to many other plot controls\n",
    " \n",
    " *So in general we create plots by specifying each of the containers (topmost first) then create the graphs* <br> </br>***(not necessary for basic plots)***"
   ]
  },
  {
   "cell_type": "code",
   "execution_count": null,
   "metadata": {
    "collapsed": false
   },
   "outputs": [],
   "source": [
    "# This code will embed our plots inside this notebook \n",
    "%matplotlib inline\n",
    "\n",
    "#load the specific sub library we are interested in\n",
    "import matplotlib.pyplot as plt"
   ]
  },
  {
   "cell_type": "code",
   "execution_count": null,
   "metadata": {
    "collapsed": false,
    "scrolled": true
   },
   "outputs": [],
   "source": [
    "#Basic plot Example 1\n",
    "#Create values incremented by .25 by using NumPy\n",
    "x2 = np.arange(0,1.25,.25) \n",
    "plt.plot(x2,x2**2)"
   ]
  },
  {
   "cell_type": "markdown",
   "metadata": {},
   "source": [
    "### ***please note that you will need to call plt.show() in non interactive modes ***"
   ]
  },
  {
   "cell_type": "markdown",
   "metadata": {},
   "source": [
    "when plotting we have access to line properties"
   ]
  },
  {
   "cell_type": "code",
   "execution_count": null,
   "metadata": {
    "collapsed": false
   },
   "outputs": [],
   "source": [
    "#Change the properties of the line you are graphing\n",
    "plt.plot(x2,x2**2,color='r',marker='o')"
   ]
  },
  {
   "cell_type": "code",
   "execution_count": null,
   "metadata": {
    "collapsed": false
   },
   "outputs": [],
   "source": [
    "#Clear the axes and the figure\n",
    "plt.cla(); plt.clf();"
   ]
  },
  {
   "cell_type": "code",
   "execution_count": null,
   "metadata": {
    "collapsed": false
   },
   "outputs": [],
   "source": [
    "#Basic plot Example 2 with more than 1 line\n",
    "#Create some new fake data to graph\n",
    "X = np.linspace(-np.pi,np.pi,256,endpoint=True)\n",
    "C = np.cos(X)\n",
    "S = np.sin(X)\n",
    "\n",
    "#Create a basic plot\n",
    "plt.plot(X,S)\n",
    "#plt.show()\n",
    "\n",
    "#Once the plot object is open, you can append a new line\n",
    "plt.plot(X,C)"
   ]
  },
  {
   "cell_type": "code",
   "execution_count": null,
   "metadata": {
    "collapsed": false,
    "scrolled": true
   },
   "outputs": [],
   "source": [
    "# Another Example of Updating the properties of a line object;\n",
    "# With new data!\n",
    "x = np.arange(0,1.0,0.01) # values 0 to 1 in steps of .01\n",
    "y1 = np.sin(2*np.pi*x)\n",
    "y2 = np.sin(4*np.pi*x)\n",
    "\n",
    "# note that the two lines work in one call because of same x\n",
    "lines = plt.plot(x, y1, x, y2)\n",
    "\n",
    "# The setp() function operates on a single instance or a list of instances.\n",
    "# changes the list of the bplot\n",
    "plt.setp(lines,linewidth=2,color='b')"
   ]
  },
  {
   "cell_type": "markdown",
   "metadata": {},
   "source": [
    "### Adjusting the x and y labels\n",
    "> <div style=\"text-align: right\"> *Use  plt.xticks & plt.yticks*</div>"
   ]
  },
  {
   "cell_type": "code",
   "execution_count": null,
   "metadata": {
    "collapsed": false
   },
   "outputs": [],
   "source": [
    "#Example changing the axis values (note equal lengths)\n",
    "x = [1, 2, 3, 4]\n",
    "y = [1, 4, 9, 6]\n",
    "z = [1, 8,16,24]\n",
    "\n",
    "# create a list of labels\n",
    "xlabs = ['Mark','Himanshu','Samson','Danny']\n",
    "ylabs = ['Man','Hombre','Bro','Muchacho']\n",
    "# set the plot up\n",
    "plt.plot(x,y,'go')\n",
    "#add the labels\n",
    "plt.xticks(x,xlabs,rotation='vertical')\n",
    "# ylab adjusted\n",
    "plt.yticks(y,ylabs)"
   ]
  },
  {
   "cell_type": "markdown",
   "metadata": {},
   "source": [
    "## Add sub-plots to a figure"
   ]
  },
  {
   "cell_type": "markdown",
   "metadata": {},
   "source": [
    "To add a subplot we must pass several arguments to the pd.subplot() call:\n",
    "\n",
    "using:\n",
    "<div style=\"text-align: left\">***plt.subplot(row,col,plot_num)***</div>\n",
    "<div style=\"text-align: center\">What does that mean??</div>\n",
    "<div style=\"text-align: center\">\n",
    "1. rows (**1**)\n",
    "2. Number of columns (**1**) \n",
    "3. plot number (**1**)\n",
    "</div> \n",
    "<br>  </br>\n",
    "<br>  </br>\n",
    "<div style=\"text=align: right\">*let's look at this more closely* </div>\n"
   ]
  },
  {
   "cell_type": "markdown",
   "metadata": {},
   "source": [
    "<img src='./Images/plot_subplot-grid_1.png'>"
   ]
  },
  {
   "cell_type": "code",
   "execution_count": null,
   "metadata": {
    "collapsed": false
   },
   "outputs": [],
   "source": [
    "#Adjust the figures and add new plots to a figure\n",
    "\n",
    "# The first figure\n",
    "plt.figure(1) \n",
    "\n",
    "## REMINDER USAGE: plt.subplot(nrows, ncols, plot_number)\n",
    "\n",
    "# The first subplot of figure 1\n",
    "plt.subplot(211)\n",
    "#Our first plot\n",
    "plt.plot(x,y)\n",
    "# The SECOND subplot of figure1\n",
    "plt.subplot(212) # <---\n",
    "# Our SECOND plot\n",
    "plt.plot(x,z,color='r')\n",
    "\n",
    "# Add a title above the first subplot\n",
    "plt.figure(1)\n",
    "plt.subplot(211) #<---\n",
    "plt.title('WOAH 2 seperate graphs!!')"
   ]
  }
 ],
 "metadata": {
  "kernelspec": {
   "display_name": "Python 2",
   "language": "python",
   "name": "python2"
  },
  "language_info": {
   "codemirror_mode": {
    "name": "ipython",
    "version": 2
   },
   "file_extension": ".py",
   "mimetype": "text/x-python",
   "name": "python",
   "nbconvert_exporter": "python",
   "pygments_lexer": "ipython2",
   "version": "2.7.13"
  }
 },
 "nbformat": 4,
 "nbformat_minor": 2
}
