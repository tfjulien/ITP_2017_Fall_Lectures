{
 "cells": [
  {
   "cell_type": "markdown",
   "metadata": {},
   "source": [
    "# DataTypes\n",
    "\n",
    "### Primitive Types\n",
    "+ Numbers\n",
    "  + int - integers which are whole numbers such as **3**\n",
    "  + float - floats which are numbers that have a decimal place such as **-3.4**\n",
    "+ Logical\n",
    "  + bool - booleans are either **True** or **False**\n",
    "+ Text Sequence\n",
    "  + str - strings are a sequence of characters such as **'bananas'**\n",
    "  \n",
    "### More complex Types (These are discussed later in the course)\n",
    "+ Sequence Types\n",
    "  + list\n",
    "  + tuple\n",
    "  + range\n",
    "  + ...\n",
    "+ Sets\n",
    "+ Dictionaries\n",
    "+ Functions\n",
    "+ Classes/User Defined Types\n",
    "+ ..."
   ]
  },
  {
   "cell_type": "markdown",
   "metadata": {
    "nbpresent": {
     "id": "a7b6cb74-6254-4ee8-ad86-a23221bb3937"
    },
    "slideshow": {
     "slide_type": "-"
    }
   },
   "source": [
    "```python\n",
    "print (type(3), 3) # integer\n",
    "print (type(2.5), 2.5) # float\n",
    "print (type('apples'), 'apples') # string\n",
    "print (type(True), True) # boolean\n",
    "print (type('3'), '3') # string\n",
    "print (type('2.5'), '2.5') # string\n",
    "```"
   ]
  },
  {
   "cell_type": "code",
   "execution_count": null,
   "metadata": {
    "nbpresent": {
     "id": "7c8aa30d-5ed6-42c8-8512-410249e15662"
    },
    "slideshow": {
     "slide_type": "-"
    }
   },
   "outputs": [],
   "source": [
    ""
   ]
  },
  {
   "cell_type": "markdown",
   "metadata": {
    "slideshow": {
     "slide_type": "-"
    }
   },
   "source": [
    "### Pound sign (#) Hash to some, number sign to others\n",
    "The **#** symbol allows you to write notes in your program. These are called comments.\n",
    "\n",
    "```python\n",
    "print (3) # this is a comment\n",
    "```"
   ]
  },
  {
   "cell_type": "markdown",
   "metadata": {
    "nbpresent": {
     "id": "73566e1a-b54a-4dad-b4fa-f8f6a79f5fe3"
    }
   },
   "source": [
    "------------------\n",
    "# Operations\n",
    "\n",
    "Each datatype has a number of operations that are valid.\n",
    "\n",
    "Here are some commmon operators, more will be covered as we progress in the course.\n",
    "\n",
    "## Mathematical Operators ( for numeric types)\n",
    "+ **( )** - Parenthesis are used to define the order of operation\n",
    "+ **\\*\\*** - Exponent : x<sup>n</sup> = x\\*\\*n \n",
    "+ **\\*** - Multiplacation : 5 \\* 3\n",
    "+ **/** - Division : 15 / 3\n",
    "+ **//** - Floor/Integer Division (rounds down to the nearest int) : 7 // 3 = 2\n",
    "+ **+** - Addition : 5 + 3\n",
    "+ **\\-** - Subtraction : 3 - 5\n",
    "+ **%** - Modulus (returns the remainder of a division) : 16 % 3"
   ]
  },
  {
   "cell_type": "markdown",
   "metadata": {
    "nbpresent": {
     "id": "9f146ff0-969a-4f1a-8836-b8442c7e6f5a"
    }
   },
   "source": [
    "```python\n",
    "print ('1 + 2 = ', 1 + 2) # Addition\n",
    "print ('2 - 1 = ', 2 - 1) # Subtraction\n",
    "print ('2 * 5 = ', 2 * 5) # Multiplication\n",
    "print ('6 / 2 = ', 6 / 2) # Division\n",
    "print ('7 // 2 = ', 7 // 2) # Floor/Integer division\n",
    "print ('2 ** 3 = ', 2 ** 3) # Exponent\n",
    "print ('16 % 3 = ', 16 % 3) # Division\n",
    "print ('(1 + 3) * (4 + 5) = ', (1 + 3) * (4 + 5)) # parenthesis\n",
    "print ('1 + 3 * 4 + 5 = ', 1 + 3 * 4 + 5) # PEMDAS\n",
    "\n",
    "```\n"
   ]
  },
  {
   "cell_type": "markdown",
   "metadata": {
    "nbpresent": {
     "id": "6ebad520-b306-45cf-afb4-a17fc1675dbd"
    }
   },
   "source": [
    "Parenthesis can help make statements less ambigous, this is a good thing"
   ]
  },
  {
   "cell_type": "code",
   "execution_count": null,
   "metadata": {
    "nbpresent": {
     "id": "915defb3-ddf4-43c8-b6e7-14e621bdd97b"
    }
   },
   "outputs": [],
   "source": [
    ""
   ]
  },
  {
   "cell_type": "markdown",
   "metadata": {
    "nbpresent": {
     "id": "3540760a-1b13-4ba8-ae5e-a1f74d2665fe"
    }
   },
   "source": [
    "## String Operators\n",
    "\n",
    "+ **+** - Addition : 'ban' + 'ana' = 'banana'\n",
    "+ **\\*** - Multiplacation : 'ba' * 5 = 'bababababa'\n",
    "+ **[x:y:z]** - Slicing : 'banana'[0:2] = 'ba'\n"
   ]
  },
  {
   "cell_type": "markdown",
   "metadata": {
    "nbpresent": {
     "id": "2c020eb0-45e7-41af-b461-5d751fd4df91"
    }
   },
   "source": [
    "```python\n",
    "print(\"'Ban' + 'ana' = \", 'Ban' + 'ana')\n",
    "print(\"'Ba' * 5 = \", 'Ba' * 5)\n",
    "```\n",
    "\n",
    "Nesting quotation marks\n",
    "'\"' or \"'\" will treat the quote inside the other quote as being a character"
   ]
  },
  {
   "cell_type": "code",
   "execution_count": null,
   "metadata": {
    "nbpresent": {
     "id": "98c1d132-d48e-46b0-a34d-8ca0c9f92ae7"
    }
   },
   "outputs": [],
   "source": [
    ""
   ]
  },
  {
   "cell_type": "markdown",
   "metadata": {
    "nbpresent": {
     "id": "c800418f-6861-450b-a582-1531570e5fd1"
    }
   },
   "source": [
    "## String Operations\n",
    "\n",
    "Everything in Python is an Object (More on this later)\n",
    "\n",
    "+ Objects generally have attributes and methods ( more on these later).\n",
    "+ Methods are just operations that can be applied to the object\n",
    "+ These methods which are accessed using a '.' character\n",
    "\n",
    "The following code demonstrates a couple of string operators"
   ]
  },
  {
   "cell_type": "markdown",
   "metadata": {
    "nbpresent": {
     "id": "cee19fa3-6f6b-4e08-a178-016f93a346c1"
    }
   },
   "source": [
    "```python\n",
    "print(\"'Banana'.upper() = \", 'Banana'.upper())\n",
    "print(\"'banana'.isupper() = \", 'banana'.isupper())\n",
    "print(\"'BANANA'.isupper() = \", 'BANANA'.isupper())\n",
    "print(\"'124'.isdigit() = \", '124'.isdigit()) # note that this is a string\n",
    "print(\"'Banana'.swapcase() = \", 'Banana'.swapcase())\n",
    "```\n"
   ]
  },
  {
   "cell_type": "code",
   "execution_count": null,
   "metadata": {
    "nbpresent": {
     "id": "712cf592-a000-4776-bb15-29e811504e9f"
    }
   },
   "outputs": [],
   "source": [
    "print(\"'Banana'.upper() = \", 'Banana'.upper())\n",
    "print(\"'banana'.isupper() = \", 'banana'.isupper())\n",
    "print(\"'BANANA'.isupper() = \", 'BANANA'.isupper())\n",
    "print(\"'124'.isdigit() = \", '124'.isdigit()) # note that this is a string\n",
    "print(\"'Banana'.swapcase() = \", 'Banana'.swapcase())"
   ]
  },
  {
   "cell_type": "markdown",
   "metadata": {
    "nbpresent": {
     "id": "1d2b2588-bdd4-4a28-bdd9-e0ff691c9483"
    }
   },
   "source": [
    "Python Documentation on methods - explain documentation - how to read help\n",
    "```python\n",
    "help ('banana'.upper)\n",
    "```"
   ]
  },
  {
   "cell_type": "code",
   "execution_count": null,
   "metadata": {
    "nbpresent": {
     "id": "d7f2f798-3f48-4334-9012-0a65376386ae"
    }
   },
   "outputs": [],
   "source": [
    ""
   ]
  },
  {
   "cell_type": "markdown",
   "metadata": {
    "nbpresent": {
     "id": "5aeb7035-49e6-41dd-9468-afbf88e87d59"
    }
   },
   "source": [
    "-----------\n",
    "\n",
    "# Variables \n",
    "## What are they?\n",
    "\n",
    "Variables allow programs to store data and manipulate it later\n",
    "\n",
    "```python\n",
    "int_one = 5\n",
    "int_two = 10\n",
    "result = int_one + int_two\n",
    "print (result)\n",
    "```"
   ]
  },
  {
   "cell_type": "code",
   "execution_count": null,
   "metadata": {
    "nbpresent": {
     "id": "711f71c4-b7f2-46f1-a190-790fd66f5248"
    }
   },
   "outputs": [],
   "source": [
    ""
   ]
  },
  {
   "cell_type": "markdown",
   "metadata": {
    "nbpresent": {
     "id": "9bfea77f-579b-4436-85ee-c3b0ba8dbca0"
    }
   },
   "source": [
    "### Be aware\n",
    "\n",
    "Assignment happens from right to left\n",
    "```python\n",
    "number = 5 + 1\n",
    "fruit = 'banana'\n",
    "```\n",
    "\n",
    "variable must be assigned before being used\n",
    "```python\n",
    "print (unknown_variable)\n",
    "```\n"
   ]
  },
  {
   "cell_type": "code",
   "execution_count": null,
   "metadata": {},
   "outputs": [],
   "source": [
    ""
   ]
  },
  {
   "cell_type": "markdown",
   "metadata": {},
   "source": [
    "## Valid Variable Names\n",
    "\n",
    "Variables can start with a character or underscore\n",
    "+ variable   &#10003;\n",
    "+ Variable &#10003;\n",
    "+ _variable   &#10003;\n",
    "\n",
    "Variables cannot start with a number or special character\n",
    "+ 1variable   &#10007;\n",
    "+ !variable   &#10007;\n",
    "\n",
    "```python\n",
    "number = 1   # correct\n",
    "_number = 1  # correct\n",
    "!number = 1  # incorrect\n",
    "number 1 = 1 # incorrect\n",
    "1number = 1  # incorrect\n",
    "```"
   ]
  },
  {
   "cell_type": "code",
   "execution_count": null,
   "metadata": {},
   "outputs": [],
   "source": [
    ""
   ]
  },
  {
   "cell_type": "markdown",
   "metadata": {},
   "source": [
    "## Naming Convensions\n",
    "\n",
    "+ b (single lowercase letter)\n",
    "+ B (single uppercase letter)\n",
    "+ lowercase\n",
    "+ UPPERCASE\n",
    "+ lowercase_with_underscores (this is the prefered method for python)\n",
    "+ UPPERCASE_WITH_UNDERSCORES\n",
    "+ CapitalizedWords (also known as CamelCase)\n",
    "+ mixedCase (differs from CapitilizedWords as they always starts with a lowercase character)\n",
    "+ Capitalized_Words_With_Underscores\n",
    "\n",
    "### Be aware\n",
    "capital i (I), lowercase l (L) and the number 1 look the same in some fonts,\n",
    "capital O and 0 also look the same in some fonts"
   ]
  },
  {
   "cell_type": "markdown",
   "metadata": {},
   "source": [
    "## PEP8\n",
    "This is a style guide which dictates how your code should look.\n",
    "\n",
    "This helps programs to look similar, which makes them easier to understand for anyone who also uses the styleguide\n",
    "\n",
    "Here is the link to the PEP8 style guide : https://www.python.org/dev/peps/pep-0008/"
   ]
  },
  {
   "cell_type": "markdown",
   "metadata": {
    "nbpresent": {
     "id": "d01ed972-3953-47af-b669-31d0f4401b58"
    }
   },
   "source": [
    "## Reserved Words\n",
    "\n",
    "These are words that are used by python and cannot be used as variable names\n",
    "\n",
    "|Reserved|Words|\n",
    "|---|---|---|---|---|\n",
    "|and|del|from|not|while|\n",
    "|as|elif|global|or|with|\n",
    "|assert|else|if|pass|yield|\n",
    "|break|except|import|print|class|\n",
    "|exec|in|raise|continue|finally|\n",
    "|is|return|def|for|lambda|\n",
    "|try|\n",
    "\n",
    "This will cause an error\n",
    "\n",
    "```python\n",
    "lambda = 5\n",
    "```"
   ]
  },
  {
   "cell_type": "code",
   "execution_count": null,
   "metadata": {},
   "outputs": [],
   "source": [
    ""
   ]
  },
  {
   "cell_type": "markdown",
   "metadata": {
    "nbpresent": {
     "id": "0c013d66-f037-44c7-baa3-f18a32dbbde7"
    }
   },
   "source": [
    "# Mutability\n",
    "\n",
    "Some types are immutable.\n",
    "\n",
    "some functions change the original object, some return a new object\n",
    "\n",
    "**Immutable types**\n",
    "+ str\n",
    "+ int\n",
    "+ float\n",
    "\n",
    "**mutable types** (more on these later)\n",
    "+ list\n",
    "+ dictionary"
   ]
  },
  {
   "cell_type": "markdown",
   "metadata": {
    "nbpresent": {
     "id": "20b53337-c5a8-473e-93e1-a8e6b777ebb1"
    }
   },
   "source": [
    "Immutable example\n",
    "```python\n",
    "animal = \"dog\"\n",
    "print (id(animal), animal)\n",
    "animal = animal + 'a'\n",
    "print (id(animal), animal) #animal is a new object, previous one is deleted\n",
    "```\n",
    "Mutable example\n",
    "```python\n",
    "numbers = [1,2,3] # this is a list ( more on this later)\n",
    "print (id(numbers), numbers)\n",
    "numbers.append(4)\n",
    "print (id(numbers), numbers) #numbers object is the same\n",
    "```"
   ]
  },
  {
   "cell_type": "code",
   "execution_count": null,
   "metadata": {},
   "outputs": [],
   "source": [
    ""
   ]
  },
  {
   "cell_type": "markdown",
   "metadata": {},
   "source": [
    "String methods do not change the original value. Instead a new string is created by the method\n",
    "```python\n",
    "fruit = 'banana'\n",
    "fruit.upper()\n",
    "print (fruit) # fruit is still lowercase\n",
    "```\n",
    "The return type of a method is shown by the help function.\n",
    "\n",
    "```python\n",
    "help (fruit.upper)\n",
    "```"
   ]
  },
  {
   "cell_type": "code",
   "execution_count": null,
   "metadata": {},
   "outputs": [],
   "source": [
    ""
   ]
  },
  {
   "cell_type": "markdown",
   "metadata": {},
   "source": [
    "In order to use the result of the string operation we need to store it in a variable\n",
    "```python\n",
    "fruit = 'banana'\n",
    "fruit.upper()\n",
    "print (fruit) # fruit is still lowercase\n",
    "```"
   ]
  },
  {
   "cell_type": "code",
   "execution_count": null,
   "metadata": {
    "nbpresent": {
     "id": "c66424ea-edeb-4e56-a332-1d3ec5d30a72"
    }
   },
   "outputs": [],
   "source": [
    ""
   ]
  },
  {
   "cell_type": "markdown",
   "metadata": {
    "nbpresent": {
     "id": "597fa196-bcb0-4d22-9720-3fbcca94e96d"
    }
   },
   "source": [
    "Variables can be reused, simply assign the result of the operation to the original variable\n",
    "```python\n",
    "fruit = 'banana'\n",
    "fruit = fruit.upper() # assign fruit to the result of the upper() method\n",
    "print ('fruit is now', fruit)\n",
    "```"
   ]
  },
  {
   "cell_type": "code",
   "execution_count": null,
   "metadata": {
    "nbpresent": {
     "id": "fd9ada82-366a-4160-9509-eef316684f35"
    }
   },
   "outputs": [],
   "source": [
    ""
   ]
  },
  {
   "cell_type": "markdown",
   "metadata": {},
   "source": [
    "--------\n",
    "\n",
    "# Compound Statements\n",
    "\n",
    "## Control Flow Statements\n",
    "\n",
    "+ if else statements - branching operation\n",
    "+ repeated execution (covered later)"
   ]
  },
  {
   "cell_type": "markdown",
   "metadata": {
    "nbpresent": {
     "id": "de212318-45be-40b4-a1da-10679f3221e7"
    }
   },
   "source": [
    "## Conditional Execution\n",
    "### Boolean expressions\n",
    "\n",
    "A boolean expressions is an expression that will either evaluate to True or False.\n",
    "\n",
    "|Operator|Expression|Comparison|\n",
    "|---|---|---|\n",
    "|==|x **==** y|is x equal to y?|\n",
    "|!=|x **!=** y|is x not equal to y?|\n",
    "|<|x **<** y|is x less than y?|\n",
    "|>|x **>** y|is x greater than y?|\n",
    "|<=|x **<=** y|is x less than or equal to y?|\n",
    "|>=|x **>=** y|is x greater than or equal to y?|\n",
    "|is|x **is** y|is x, y?|"
   ]
  },
  {
   "cell_type": "markdown",
   "metadata": {
    "nbpresent": {
     "id": "c7daedd8-1ce1-4e5f-ba0a-c4e8194dff50"
    }
   },
   "source": [
    "```python\n",
    "x = 5\n",
    "y = 10\n",
    "print (x,'==',y,'\\t:', x == y)\n",
    "print (x,'!=',y,'\\t:', x != y)\n",
    "print (x,'<',y,' \\t:', x < y)\n",
    "print (x,'>',y,' \\t:', x > y)\n",
    "print (x,'<=',y,'\\t:', x <= y)\n",
    "print (x,'>=',y,'\\t:', x >= y)\n",
    "print (x,'is',y,'\\t:', x is y)\n",
    "print ('type(x == y) : \\t', type(x==y))\n",
    "```"
   ]
  },
  {
   "cell_type": "code",
   "execution_count": null,
   "metadata": {},
   "outputs": [],
   "source": [
    ""
   ]
  },
  {
   "cell_type": "markdown",
   "metadata": {},
   "source": [
    "### Logical Operators\n",
    "\n",
    "There are three logical operators **_and_**, **_or_** and **_not_**.\n",
    "\n",
    "+ **and** Operator\n",
    "\n",
    "|x|y|x and y|\n",
    "|---|---|---|\n",
    "|False|False|False|\n",
    "|False|True|False|\n",
    "|True|False|False|\n",
    "|True|True|True|\n",
    "\n",
    "+ **or** Operator\n",
    "\n",
    "|x|y|x or y|\n",
    "|---|---|---|\n",
    "|False|False|False|\n",
    "|False|True|True|\n",
    "|True|False|True|\n",
    "|True|True|True|\n",
    "\n",
    "+ **not** Operator\n",
    "\n",
    "|x|not x|\n",
    "|---|---|\n",
    "|False|True|\n",
    "|True|False|"
   ]
  },
  {
   "cell_type": "markdown",
   "metadata": {
    "nbpresent": {
     "id": "4068ad08-f15b-4151-b90b-1f3ece860aa0"
    }
   },
   "source": [
    "#### Example\n",
    "\n",
    "The following code evaluates 2 boolean expressions\n",
    "\n",
    "+ whether the number is even\n",
    " + n%2 == 0\n",
    "+ whether the number is positive\n",
    " + n > 0\n",
    "\n",
    "Using the 2 boolean expressions 2 logical expressions are evaluated\n",
    "\n",
    "+ whether the number is even and positive\n",
    " + n%2 == 0 and n > 0\n",
    "+ whether the number is even or positive\n",
    " + n%2 == 0 or n > 0"
   ]
  },
  {
   "cell_type": "markdown",
   "metadata": {
    "nbpresent": {
     "id": "f03f841d-c6e6-4b59-aa30-d84e189b9847"
    }
   },
   "source": [
    "```python\n",
    "num = 5\n",
    "\n",
    "print ('positive_even :', num)\n",
    "print ('\\tBoolean Expressions')\n",
    "print ('\\t\\t', num, '% 2 == 0 \\t\\t\\t:', num%2 == 0)\n",
    "print ('\\t\\t', num, '> 0 \\t\\t\\t\\t:', num > 0)\n",
    "print ('\\tLogical Expressions')\n",
    "print ('\\t\\t', num, '% 2 == 0 and',num,'> 0 \\t\\t:', num%2 == 0 and num > 0)\n",
    "print ('\\t\\t', num, '% 2 == 0 or',num,'> 0 \\t\\t:', num%2 == 0 or num > 0)\n",
    "```"
   ]
  },
  {
   "cell_type": "code",
   "execution_count": null,
   "metadata": {
    "nbpresent": {
     "id": "e3df99d2-b145-4907-ab95-27633b2e80df"
    }
   },
   "outputs": [],
   "source": [
    ""
   ]
  },
  {
   "cell_type": "markdown",
   "metadata": {},
   "source": [
    "### Conditional Execution\n",
    "\n",
    "In order to write usefull programs you need to be able to control which statements are executed. This is achieved using **~if~** statements.\n",
    "\n",
    "if statements have the following format\n",
    "\n",
    "```python\n",
    "if <expression>:\n",
    "    <statement block>\n",
    "```\n",
    "\n",
    "![alt text](http://www.openbookproject.net/books/bpp4awd/_images/flowchart_if_only.png)\n",
    "\n",
    "Note that the **statement block** is indented. This is how Python seperates code that should be executed by the if statement and code that is executed regardless of the statement.\n",
    "\n",
    "In the following code **statement1** and **statement2** are only executed if the **expressin** is true. **statement3** will be executed regardless of the if statement.\n",
    "\n",
    "```python\n",
    "if <expression>:\n",
    "    statement1\n",
    "    statement2\n",
    "statement3\n",
    "```\n",
    "\n",
    "A few word on indentation. Python does not mind how your code is indented as long as it is consistant.\n",
    "The accepted convention is to use a single tab or 4 whitespaces. But anything will work as long as you are consistant.\n",
    "```python\n",
    "if True:\n",
    "    print ('Hello') # 4 spaces\n",
    "    print ('Hello') # 1 tab (this is bad. Use one of the other)\n",
    "```\n",
    "\n",
    "The following code will result in an error as the spaces are inconsistant\n",
    "\n",
    "```python\n",
    "if True:\n",
    "    print ('Hello') # 4 spaces\n",
    "     print ('Hello') # 5 spaces\n",
    "```"
   ]
  },
  {
   "cell_type": "code",
   "execution_count": null,
   "metadata": {},
   "outputs": [],
   "source": [
    ""
   ]
  },
  {
   "cell_type": "markdown",
   "metadata": {},
   "source": [
    "## Alternate execution/Branching\n",
    "```python\n",
    "if <expression>:\n",
    "    <statement_1>\n",
    "else:\n",
    "    <statement_2>\n",
    "```\n",
    "![alt text](http://www.openbookproject.net/books/bpp4awd/_images/flowchart_if_else.png)\n",
    "    "
   ]
  },
  {
   "cell_type": "markdown",
   "metadata": {},
   "source": [
    "## Multiple tests (chaining)\n",
    "```python\n",
    "if x < y:\n",
    "    STATEMENTS_A\n",
    "elif x > y:\n",
    "    STATEMENTS_B\n",
    "else:\n",
    "    STATEMENTS_C\n",
    "```\n",
    "\n",
    "![alt text](http://www.openbookproject.net/books/bpp4awd/_images/flowchart_chained_conditional.png)"
   ]
  },
  {
   "cell_type": "markdown",
   "metadata": {
    "nbpresent": {
     "id": "65e800c1-d0b4-4217-8e8e-d3228892f931"
    }
   },
   "source": [
    "## Nested conditionals\n",
    "```python\n",
    "if x < y:\n",
    "    STATEMENTS_A\n",
    "else:\n",
    "    if x > y:\n",
    "        STATEMENTS_B\n",
    "    else:\n",
    "        STATEMENTS_C\n",
    "```\n",
    "\n",
    "![alt text](http://www.openbookproject.net/books/bpp4awd/_images/flowchart_nested_conditional.png)"
   ]
  },
  {
   "cell_type": "markdown",
   "metadata": {
    "nbpresent": {
     "id": "ab936daa-ef2e-4634-86bc-a332cf9948d4"
    }
   },
   "source": [
    "#### Example:\n",
    "```python\n",
    "disease = True\n",
    "x = 3\n",
    "if disease == True:\n",
    "    if x > 0 and x <= 4:\n",
    "        print 'give drug A'\n",
    "    elif x > 7 and x <= 10:\n",
    "        print 'give drug B'\n",
    "    else:\n",
    "        print 'no drug'\n",
    "```"
   ]
  },
  {
   "cell_type": "code",
   "execution_count": null,
   "metadata": {},
   "outputs": [],
   "source": [
    ""
   ]
  },
  {
   "cell_type": "markdown",
   "metadata": {
    "nbpresent": {
     "id": "f09898cd-6bb7-47b6-aee1-c06a7b4399a9"
    }
   },
   "source": [
    "## User Input\n",
    "\n",
    "Allows your programs to be dynamic.\n",
    "\n",
    "**Methods**\n",
    "+ input()\n",
    "+ command line arguments (covered later)\n",
    "+ reading from files (covered later)\n",
    "+ ...\n",
    "\n",
    "### input()\n",
    "+ This method will create a prompt in the console.\n",
    "+ The user can then input their data\n",
    "\n",
    "**Usage**\n",
    "```python\n",
    "variable_to_hold_input = input('message to show user')\n",
    "print (variable_to_hold_input)\n",
    "```"
   ]
  },
  {
   "cell_type": "code",
   "execution_count": null,
   "metadata": {
    "nbpresent": {
     "id": "98a07357-6a39-4721-8dad-c93e3bc671f3"
    }
   },
   "outputs": [],
   "source": [
    ""
   ]
  },
  {
   "cell_type": "markdown",
   "metadata": {
    "nbpresent": {
     "id": "53509483-657c-4451-93e5-82d4f7d0ad88"
    }
   },
   "source": [
    "### Example:\n",
    "Lets build a calculator\n",
    "\n",
    "**pseudocode**\n",
    "+ input **value1**\n",
    "+ input **operator**\n",
    "+ input **value2**\n",
    "+ convert **value1** and **value2** to integers\n",
    "+ if **operator** == '+':\n",
    " + print string showing expression (**value1** + **value2** =) and the result\n",
    "+ elif ... ('-', '\\*', '/', '\\*\\*')\n",
    " + print expression and result\n",
    "+ else:\n",
    " + print 'unknown operator'\n",
    " \n",
    "**Note**\n",
    "+ no error handling\n",
    " + does not check whether value1 and value2 are numbers before converting "
   ]
  },
  {
   "cell_type": "code",
   "execution_count": null,
   "metadata": {
    "collapsed": true
   },
   "outputs": [],
   "source": [
    ""
   ]
  },
  {
   "cell_type": "markdown",
   "metadata": {
    "nbpresent": {
     "id": "2e321cc5-e0d9-4342-8cc2-5d0c593d8c30"
    }
   },
   "source": [
    "\n",
    "---------\n",
    "\n",
    "# Practice\n",
    "+ https://www.hackerrank.com/domains/python/py-introduction\n",
    "+ https://codecombat.com/"
   ]
  }
 ],
 "metadata": {
  "anaconda-cloud": {},
  "kernelspec": {
   "display_name": "Python 3",
   "language": "python",
   "name": "python3"
  },
  "language_info": {
   "codemirror_mode": {
    "name": "ipython",
    "version": 3.0
   },
   "file_extension": ".py",
   "mimetype": "text/x-python",
   "name": "python",
   "nbconvert_exporter": "python",
   "pygments_lexer": "ipython3",
   "version": "3.6.2"
  }
 },
 "nbformat": 4,
 "nbformat_minor": 0
}