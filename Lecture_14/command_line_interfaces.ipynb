{
 "cells": [
  {
   "cell_type": "markdown",
   "metadata": {},
   "source": [
    "# <font color='blue'>Command Line Interfaces</font>\n",
    "\n",
    "0. Programs have users - they need an interface to plug in:\n",
    "    - story so far (jupyter, pycharm)\n",
    "    - we have looked at basic form of accepting user inputs (input() function)\n",
    "    - hard-coded file paths and inputs in our scripts\n",
    "1. Many programs are built as **standalone programs** to run through the cmd line (terminal / console applications). Ex. unix shell commands (ls, cp, grep), servers (mongod), package managers (pip, conda), web clients (curl, wget), many scientific programming tools, version control (git) etc.\n",
    "2. Cmd-line interfaces consist of **arguments** and **options**, that provide **inputs** and \n",
    "**control switches** to control behavior of programs (**control knobs and buttons(**)\n",
    "    - generalizes your programs\n",
    "        - For ex. file paths need not be hardcoded\n",
    "    - users shouldn't need to look inside your program and change things internally... should be able to supply those inputs externally...\n",
    "3. **Argparse** - shipped with standard python - makes it easy to write user-friendly command-line interfaces.\n",
    "    - unified approach to specify the interface (options and arguments) for a program\n",
    "    - parses out options and arguments from sys.argv\n",
    "        - shell parses a command line into words\n",
    "    - generates help and usage messages\n",
    "    - catches invalid arguments and faulty types\n",
    "    - improves usability and flexibility of the programs\n",
    "4. <font color='blue'>**Today's agends:**</font>\n",
    "    - basics of argparse\n",
    "    - usage with PyCharm\n",
    "    - structuring of the application (main method)"
   ]
  },
  {
   "cell_type": "code",
   "execution_count": null,
   "metadata": {
    "collapsed": true
   },
   "outputs": [],
   "source": []
  }
 ],
 "metadata": {
  "kernelspec": {
   "display_name": "Python 3",
   "language": "python",
   "name": "python3"
  },
  "language_info": {
   "codemirror_mode": {
    "name": "ipython",
    "version": 3
   },
   "file_extension": ".py",
   "mimetype": "text/x-python",
   "name": "python",
   "nbconvert_exporter": "python",
   "pygments_lexer": "ipython3",
   "version": "3.6.2"
  }
 },
 "nbformat": 4,
 "nbformat_minor": 2
}
