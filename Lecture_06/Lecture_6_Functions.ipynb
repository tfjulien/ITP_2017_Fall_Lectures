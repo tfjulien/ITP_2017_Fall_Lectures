{
 "cells": [
  {
   "cell_type": "markdown",
   "metadata": {},
   "source": [
    "# String Formatting\n",
    "+ String formatting give you more control when creating strings.\n",
    "+ They allows dynamic insertion of values while maintaining the given structure.\n",
    "+ Normally used in conjunction with print()\n",
    "\n",
    "## positional arguments\n",
    "\n",
    "```python\n",
    "print('{} - {}'.format('arg1', 'arg2'))\n",
    "print('{0} - {1}'.format('arg1', 'arg2'))\n",
    "print('{1} - {0}'.format('arg1', 'arg2'))\n",
    "print('{0} - {1} - {0}'.format('arg1', 'arg2'))\n",
    "```"
   ]
  },
  {
   "cell_type": "code",
   "execution_count": 9,
   "metadata": {},
   "outputs": [
    {
     "name": "stdout",
     "output_type": "stream",
     "text": [
      "----arg2-----arg3\n"
     ]
    }
   ],
   "source": [
    "print('----{1}-----{2}'.format('arg1', 'arg2', 'arg3'))"
   ]
  },
  {
   "cell_type": "markdown",
   "metadata": {},
   "source": [
    "### keyword arguments\n",
    "\n",
    "```python\n",
    "print('{name} - {age}'.format(name='Dave', age=24))\n",
    "print('{name} - {age}'.format(age=24, name='Dave'))\n",
    "```"
   ]
  },
  {
   "cell_type": "code",
   "execution_count": 14,
   "metadata": {},
   "outputs": [
    {
     "name": "stdout",
     "output_type": "stream",
     "text": [
      "Dave - 24\n"
     ]
    }
   ],
   "source": [
    "print('{name} - {age}'.format(age=24, name='Dave'))"
   ]
  },
  {
   "cell_type": "markdown",
   "metadata": {},
   "source": [
    "### Accessing by key/index\n",
    "```python\n",
    "list_of_numbers = [1, 2]\n",
    "print('{0[0]} {0[1]}'.format(list_of_numbers))\n",
    "a = [5, 2]\n",
    "b = [0, 3]\n",
    "print('(x1: {vec1[0]}|x2 : {vec2[0]}) (y1: {vec1[1]}|y2: {vec2[1]})'.format(vec1=a, vec2=b))\n",
    "person_dictionary = {'name': 'Dave', 'age': 24}\n",
    "print('{0[name]} - {0[age]}'.format(person_dictionary))\n",
    "```"
   ]
  },
  {
   "cell_type": "code",
   "execution_count": 18,
   "metadata": {},
   "outputs": [
    {
     "name": "stdout",
     "output_type": "stream",
     "text": [
      "1 - 2\n"
     ]
    }
   ],
   "source": [
    "list_of_numbers = [1, 2]\n",
    "print('{0[0]} - {0[1]}'.format(list_of_numbers))"
   ]
  },
  {
   "cell_type": "markdown",
   "metadata": {},
   "source": [
    "### Formatting\n",
    "+ limiting decimal places\n",
    "```python\n",
    "print('{:.2f}'.format(1/3))\n",
    "print('{0:.2f} {0:.5f} {1:.3f} {1:.5f}'.format(1/3, 1/6))\n",
    "```\n",
    "+ exponent notation\n",
    "```python\n",
    "print('{:e}'.format(1/1000))\n",
    "```\n",
    "+ comma seperating by thousands\n",
    "```python\n",
    "print('{:,}'.format(1234567890))\n",
    "```\n",
    "+ aligning text\n",
    "    + left align\n",
    "```python\n",
    "print('|{:<30}|'.format('first'))\n",
    "print('|{:<30}|'.format('second'))\n",
    "```\n",
    "    + center align\n",
    "```python\n",
    "print('|{:^30}|'.format('first'))\n",
    "print('|{:^30}|'.format('second'))\n",
    "```\n",
    "    + right align\n",
    "```python\n",
    "print('|{:>30}|'.format('first'))\n",
    "print('|{:>30}|'.format('second'))\n",
    "```"
   ]
  },
  {
   "cell_type": "code",
   "execution_count": 29,
   "metadata": {},
   "outputs": [
    {
     "name": "stdout",
     "output_type": "stream",
     "text": [
      "|first                         |\n",
      "|second                        |\n",
      "|            first             |\n",
      "|            second            |\n",
      "|                         first|\n",
      "|                        second|\n",
      "5\n",
      "10000\n",
      "  100\n"
     ]
    }
   ],
   "source": [
    "print('|{:<30}|'.format('first'))\n",
    "print('|{:<30}|'.format('second'))\n",
    "print('|{:^30}|'.format('first'))\n",
    "print('|{:^30}|'.format('second'))\n",
    "print('|{:>30}|'.format('first'))\n",
    "print('|{:>30}|'.format('second'))\n",
    "\n",
    "a = '10000'\n",
    "b = '100'\n",
    "longest = len(a)\n",
    "print(longest)\n",
    "print('{:>{longest}}\\n{:>{longest}}'.format(a, b, longest=longest))"
   ]
  },
  {
   "cell_type": "markdown",
   "metadata": {},
   "source": [
    "### Unpacking (\\*&lt;sequence_type&gt;) - not limited to string formatting, more on this at the end\n",
    "```python\n",
    "print('{0}, {1}, {2}'.format(*'ABC'))\n",
    "print('{0}, {1}, {2}'.format(*['x', 'y', 'z']))\n",
    "print('{0}, {1}, {2}'.format(*(1, 2, 3)))\n",
    "```"
   ]
  },
  {
   "cell_type": "code",
   "execution_count": 33,
   "metadata": {},
   "outputs": [
    {
     "name": "stdout",
     "output_type": "stream",
     "text": [
      "x, y, z\n"
     ]
    }
   ],
   "source": [
    "print('{0}, {1}, {2}'.format(*['x', 'y', 'z']))"
   ]
  },
  {
   "cell_type": "markdown",
   "metadata": {
    "collapsed": true
   },
   "source": [
    "# Functions\n",
    "\n",
    "## Function Calls\n",
    "<font color='#0000AA'>function_name</font>(<font color='#00AA00'>arguments</font>)\n",
    "\n",
    "\n",
    "\n",
    "We have already encountered a number of functions such as:\n",
    "\n",
    "```python\n",
    "type(32)\n",
    "'banana'.find('an')\n",
    "len([1, 2, 3])\n",
    "print('I am an argument')\n",
    "```"
   ]
  },
  {
   "cell_type": "code",
   "execution_count": 37,
   "metadata": {},
   "outputs": [
    {
     "name": "stdout",
     "output_type": "stream",
     "text": [
      "I am an argument\n"
     ]
    }
   ],
   "source": [
    "print('I am an argument')"
   ]
  },
  {
   "cell_type": "markdown",
   "metadata": {},
   "source": [
    "## Built In Functions\n",
    "\n",
    "Python has build in functions which are always available\n",
    "\n",
    "+ These are functions which solve common problems\n",
    "\n",
    "```python\n",
    "number_list = [5, 2, 1, 4, 0, 3]\n",
    "max(number_list)\n",
    "min(number_list)\n",
    "len(number_list)\n",
    "range(start, end, step)\n",
    "```\n",
    "\n",
    "+ There are many more of these than are listed above"
   ]
  },
  {
   "cell_type": "code",
   "execution_count": 43,
   "metadata": {},
   "outputs": [
    {
     "data": {
      "text/plain": [
       "range(0, 6)"
      ]
     },
     "execution_count": 43,
     "metadata": {},
     "output_type": "execute_result"
    }
   ],
   "source": [
    "number_list = [5, 2, 1, 4, 0, 3]\n",
    "range(len(number_list))"
   ]
  },
  {
   "cell_type": "markdown",
   "metadata": {},
   "source": [
    "## User Defined Functions\n",
    "\n",
    "<font color='#AA00AA'>**def** </font> <font color='#0000AA'>function_name</font>(<font color='#00AA00'>argument(s)</font>)\n",
    "+ <font color='#AA00AA'>**def**</font> is a reserved word, it lets python know that a function is being defined\n",
    "Create new functions using a function definition\n",
    "+ <font color='#0000AA'>function_name</font> can be any non reverved word\n",
    "    + It should be self explaining\n",
    "    + It should not be overly long\n",
    "+ <font color='#00AA00'>arguments</font> are variables which are required by the function\n",
    "\n",
    "```python\n",
    "def function_name(args/parameters/inputs):\n",
    "    statement\t\t\t\n",
    "    statement\n",
    "    …\n",
    "    return something # by default this returns None\n",
    "```  \n",
    "\n",
    "### Example\n",
    "```python\n",
    "def say_hello(name):\n",
    "    print(\"Hello\",name)\n",
    "    \n",
    "say_hello(\"Dave\")\n",
    "```"
   ]
  },
  {
   "cell_type": "code",
   "execution_count": 46,
   "metadata": {},
   "outputs": [
    {
     "name": "stdout",
     "output_type": "stream",
     "text": [
      "hello Dave\n"
     ]
    }
   ],
   "source": [
    "def say_hello(n):\n",
    "    print('hello {}'.format(n))\n",
    "\n",
    "say_hello(\"Dave\")"
   ]
  },
  {
   "cell_type": "markdown",
   "metadata": {},
   "source": [
    "## return\n",
    "\n",
    "return is a keyword which indicates that a value must be passed back by the function\n",
    "```python\n",
    "def add(a, b):\n",
    "    sum = a + b\n",
    "    return sum\n",
    "\n",
    "result = add(2, 4) \n",
    "print(result)\n",
    "```\n",
    "\n",
    "The return keyword allows the results of functions to be used later in the program\n",
    "\n",
    "If return is not specified the function will return None\n",
    "```python\n",
    "def no_return():\n",
    "    statement = \"hello\"\n",
    "\n",
    "print(no_return())\n",
    "```"
   ]
  },
  {
   "cell_type": "code",
   "execution_count": 50,
   "metadata": {},
   "outputs": [
    {
     "name": "stdout",
     "output_type": "stream",
     "text": [
      "hello\n",
      "None\n"
     ]
    }
   ],
   "source": [
    "def no_return():\n",
    "    statement = \"hello\"\n",
    "    print(statement)\n",
    "\n",
    "print(no_return())"
   ]
  },
  {
   "cell_type": "markdown",
   "metadata": {},
   "source": [
    "## Order Matters\n",
    "\n",
    "+ Functions must be defined before they are used\n",
    "+ The following code will produce a ‘NameError’\n",
    "+ When add is called in the first statement the function does not yet exist\n",
    "\n",
    "```python\n",
    "add2(1, 2)\n",
    "\n",
    "def add2(a, b):\n",
    "    sum = a+b\n",
    "\treturn sum\n",
    "```"
   ]
  },
  {
   "cell_type": "code",
   "execution_count": 52,
   "metadata": {},
   "outputs": [
    {
     "data": {
      "text/plain": [
       "3"
      ]
     },
     "execution_count": 52,
     "metadata": {},
     "output_type": "execute_result"
    }
   ],
   "source": [
    "def add2(a, b):\n",
    "    sum = a+b\n",
    "    return sum\n",
    "\n",
    "add2(1, 2)\n",
    "\n"
   ]
  },
  {
   "cell_type": "markdown",
   "metadata": {},
   "source": [
    "## Arguments by keyword vs position\n",
    "\n",
    "```python\n",
    "def print_full_name(name='John', surname='Doe'):\n",
    "    print(name, sur)\n",
    "\t\n",
    "print_full_name()\n",
    "print_full_name('David', 'Smith')\n",
    "print_full_name(surname='Jenkins')\n",
    "print_full_name(surname='Mills', name='Adam')\n",
    "```\n",
    "+ Keyword works well for documentation\n",
    "+ Set default values\n",
    "+ The order of the arguments does not matter if keywords are used\n",
    "+ Do not need all arguments as default values are used"
   ]
  },
  {
   "cell_type": "code",
   "execution_count": 58,
   "metadata": {},
   "outputs": [
    {
     "name": "stdout",
     "output_type": "stream",
     "text": [
      "Adam Smith\n"
     ]
    }
   ],
   "source": [
    "def print_full_name(name='John', surname='Doe'):\n",
    "    print(name, surname)\n",
    "    \n",
    "print_full_name(surname='Smith', name='Adam')"
   ]
  },
  {
   "cell_type": "markdown",
   "metadata": {},
   "source": [
    "## Scope\n",
    "\n",
    "The scope of a variable refers to where the variable is valid and can be used.\n",
    "\n",
    "In this example the variable is defined inside a function. It will not be accessable from outside of the function as the variable is out of scope.\n",
    "\n",
    "```python\n",
    "def print_something():\n",
    "    in_function_var = 5\n",
    "    print(in_function_var)\n",
    "print_something(in_function_var)\n",
    "print(in_function_var)\n",
    "```\n",
    "It is possible to use a variable declared outside of a function in that function.\n",
    "\n",
    "```python\n",
    "a = 10\n",
    "def print_something():\n",
    "    print('in function', id(a), a)\n",
    "print_something()\n",
    "print('out function', id(a), a)\n",
    "```\n",
    "If a new value is given to the variable which was declared outside of the function in the function. A new variable will be created with the same name that is only valid inside the function.\n",
    "\n",
    "```python\n",
    "a = 10\n",
    "def print_something():\n",
    "    a = 5\n",
    "    print('in function', id(a), a)\n",
    "print_something()\n",
    "print('out function', id(a), a)\n",
    "```\n",
    "Any attempt to modify the value of a variable declared outside of the function will result in an error as the values are read only.\n",
    "\n",
    "```python\n",
    "a = 10\n",
    "def print_something():\n",
    "    a += 1\n",
    "    print('in function', id(a), a)\n",
    "print_something()\n",
    "print('out function', id(a), a)\n",
    "```"
   ]
  },
  {
   "cell_type": "code",
   "execution_count": 63,
   "metadata": {},
   "outputs": [
    {
     "name": "stdout",
     "output_type": "stream",
     "text": [
      "in function 4445772672 11\n",
      "out function 4445772672 11\n"
     ]
    }
   ],
   "source": [
    "a = 10\n",
    "def print_something(a):\n",
    "    a += 1\n",
    "    print('in function', id(a), a)\n",
    "    return a\n",
    "a = print_something()\n",
    "print('out function', id(a), a)"
   ]
  },
  {
   "cell_type": "markdown",
   "metadata": {},
   "source": [
    "## Why Use Functions\n",
    "\n",
    "+ Code organization\n",
    "+ Code reusability\n",
    "+ Functions can accept input that differs each time the function is executed\n",
    "+ Easy to update/modify\n",
    "+ Easier to understand and read later\n",
    "+ Can return a result"
   ]
  },
  {
   "cell_type": "markdown",
   "metadata": {},
   "source": [
    "## Design Considerations\n",
    "\n",
    "+ Functions should be short and easy to understand\n",
    "+ Should have a single purpose\n",
    "    + One function doing 10 things is bad\n",
    "    + Rather have 10 functions\n",
    "\n",
    "+ Functions should be independent\n",
    "    + Use parameters to store arguments \n",
    "+ Use return to provide the output of the function"
   ]
  },
  {
   "cell_type": "markdown",
   "metadata": {},
   "source": [
    "## Unpacking\n",
    "\\*&lt;sequential_type&gt;\n",
    "\n",
    "+ Unpacking is the process of converting a list into individual values.\n",
    "+ We have seen examples of this when we covered string formatting at the start of the lecture.\n",
    "+ Another example was seen when a dictionary item is assigned to two variables in a for loop.\n",
    "```python\n",
    "d = {'a': 1, 'b': 2}\n",
    "for key, value in d.items():\n",
    "    pass\n",
    "key, value = ('a', 1)\n",
    "```\n",
    "\n",
    "+ It is possible to force python to unpack a sequential type into individual values.\n",
    "+ To do this we add a *\\** before the sequential type\n",
    "\n",
    "```python\n",
    "def print_sum(a, b, c, d):\n",
    "    print(a + b + c + d)\n",
    "li = [1, 2, 3, 4]\n",
    "sum_(li)\n",
    "\n",
    "def print_sum(a, b, c, d):\n",
    "    print(a + b + c + d)\n",
    "li = [1, 2, 3, 4]\n",
    "sum_(*li)\n",
    "```\n"
   ]
  },
  {
   "cell_type": "code",
   "execution_count": 68,
   "metadata": {},
   "outputs": [
    {
     "ename": "TypeError",
     "evalue": "print_sum() takes 4 positional arguments but 5 were given",
     "output_type": "error",
     "traceback": [
      "\u001b[0;31m---------------------------------------------------------------------------\u001b[0m",
      "\u001b[0;31mTypeError\u001b[0m                                 Traceback (most recent call last)",
      "\u001b[0;32m<ipython-input-68-854a4ef21c4a>\u001b[0m in \u001b[0;36m<module>\u001b[0;34m()\u001b[0m\n\u001b[1;32m      2\u001b[0m     \u001b[0mprint\u001b[0m\u001b[0;34m(\u001b[0m\u001b[0ma\u001b[0m \u001b[0;34m+\u001b[0m \u001b[0mb\u001b[0m \u001b[0;34m+\u001b[0m \u001b[0mc\u001b[0m \u001b[0;34m+\u001b[0m \u001b[0md\u001b[0m\u001b[0;34m)\u001b[0m\u001b[0;34m\u001b[0m\u001b[0m\n\u001b[1;32m      3\u001b[0m \u001b[0mli\u001b[0m \u001b[0;34m=\u001b[0m \u001b[0;34m[\u001b[0m\u001b[0;36m1\u001b[0m\u001b[0;34m,\u001b[0m \u001b[0;36m2\u001b[0m\u001b[0;34m,\u001b[0m \u001b[0;36m3\u001b[0m\u001b[0;34m,\u001b[0m \u001b[0;36m4\u001b[0m\u001b[0;34m,\u001b[0m \u001b[0;36m5\u001b[0m\u001b[0;34m]\u001b[0m\u001b[0;34m\u001b[0m\u001b[0m\n\u001b[0;32m----> 4\u001b[0;31m \u001b[0mprint_sum\u001b[0m\u001b[0;34m(\u001b[0m\u001b[0;34m*\u001b[0m\u001b[0mli\u001b[0m\u001b[0;34m)\u001b[0m\u001b[0;34m\u001b[0m\u001b[0m\n\u001b[0m",
      "\u001b[0;31mTypeError\u001b[0m: print_sum() takes 4 positional arguments but 5 were given"
     ]
    }
   ],
   "source": [
    "def print_sum(a, b, c, d):\n",
    "    print(a + b + c + d)\n",
    "li = [1, 2, 3, 4, 5]\n",
    "print_sum(*li)"
   ]
  },
  {
   "cell_type": "markdown",
   "metadata": {},
   "source": [
    "## \\*args, \\*\\*kwargs\n",
    "\n",
    "Sometimes it is not possible to know in advance how many arguments are going to be passed to a function.\n",
    "This is solved by using \\*args for ordered arguments and \\*\\*kwargs for keyword arguments.\n",
    "\n",
    "+ many of the set comparison methods allow you to pass a variable number of sets to the method\n",
    "+ set.intesection(*[sets])\n",
    "```python\n",
    "set_a = set(['a', 'b', 'c', 'd'])\n",
    "set_b = set(['a', 'z'])\n",
    "set_c = set(['a', 'b', 'c'])\n",
    "set_d = set(['a', 'c'])\n",
    "print(set_a.intersection(set_b))\n",
    "print(set_a.intersection(set_c, set_d))\n",
    "print(set_a.intersection(set_b, set_c, set_d))\n",
    "```\n",
    "+ \\*args\n",
    "```python\n",
    "def print_list(v1, v2, *args):\n",
    "    print(v2, v3, args)\n",
    "    for arg in args:\n",
    "        print(arg)\n",
    "print_list(*[1, 2, 3, 4, 5])\n",
    "```\n",
    "+ Lets create a function which adds n numbers together\n",
    "    + add \\*args to the argument list\n",
    "    + \\*args converts all additional arguments into a tuple\n",
    "    + iterate over args and incriment a counter\n",
    "\n",
    "```python\n",
    "def sum_numbers(a, b)\n",
    "    return a + b\n",
    "```\n",
    "\n",
    "+ \\*\\*kwargs is identical except that it uses keyword arguments and stores them in a dictionary instead of a tuple.\n",
    "\n",
    "```python\n",
    "def print_student_grades(**kwargs):\n",
    "    for kw, value in kwargs:\n",
    "        print('{} got {}'.format(kw, value)\n",
    "print_student_grades(amy=5, mark=3, john=4, jackie=4)\n",
    "```"
   ]
  },
  {
   "cell_type": "code",
   "execution_count": 79,
   "metadata": {},
   "outputs": [
    {
     "name": "stdout",
     "output_type": "stream",
     "text": [
      "too many arguments\n",
      "None\n"
     ]
    }
   ],
   "source": [
    "def sum_numbers(a, b, *args):\n",
    "    if len(args) > 0:\n",
    "        print('too many arguments')\n",
    "#     total = 0\n",
    "#     for number in args:\n",
    "#         print('total: {} + value: {}'.format(total, number))\n",
    "#         total += number\n",
    "#     return total\n",
    "print(sum_numbers(1, 2, 3, 4, 5))"
   ]
  },
  {
   "cell_type": "markdown",
   "metadata": {},
   "source": [
    "## Example - cleaning up sequences\n",
    "\n",
    "You are provided with a reference sequence and several sequences to compare to the reference.\n",
    "Normally these would be provided by a file (text file, comma seperated file, ...).\n",
    "+ reference\n",
    "    + ATG\\*A\\*\\*\\*CC\\*A\\*T\\*C\\*\\*C\\*\n",
    "+ sequences\n",
    "    + ATG\\*A\\*\\*\\*CC\\*A\\*T\\*C\\*\\*C\\*\n",
    "    + ATG\\*T\\*\\*\\*CC\\*A\\*T\\*C\\*\\*C\\*\n",
    "    + ATG\\*A\\*\\*\\*CC\\*A\\*T\\*C\\*\\*C\\*\n",
    "    + ATG\\*A\\*\\*\\*CC\\*A\\*T\\*C\\*\\*\\*\\*\n",
    "\n",
    "Example Reference sequence:\n",
    "+ ATG\\*A\\*\\*\\*CC\\*A\\*T\\*C\\*\\*C\\*\n",
    "\n",
    "Example Sequences:\n",
    "\n",
    "+ ATG\\*A\\*\\*\\*CC\\*A\\*T\\*C\\*\\*C\\*\t\t-\tsame as reference\n",
    "+ ATG\\*T\\*\\*\\*CC\\*A\\*T\\*C\\*\\*C\\*\t\t-\tdiffers from reference\n",
    "+ ATG\\*A\\*\\*\\*CC\\*A\\*T\\*C\\*\\*C\\*\t\t-\tsame as reference\n",
    "+ ATG\\*A\\*\\*\\*CC\\*A\\*T\\*C\\*\\*\\*\\*\t\t-\tdiffers from reference\n",
    "\n",
    "Step 1: Identify columns that contain a '\\*' in the reference sequence.\n",
    "\n",
    "| A | T | G | <font color='red'>\\*</font>| A | <font color='red'>\\*</font>| <font color='red'>\\*</font>| <font color='red'>\\*</font>| C | C | <font color='red'>\\*</font>| A | <font color='red'>\\*</font>| T | <font color='red'>\\*</font>| C | <font color='red'>\\*</font>| <font color='red'>\\*</font>| C | <font color='red'>\\*</font>|\n",
    "|---|---|---|---|---|---|---|---|---|---|---|---|---|---|---|---|---|---|---|---|\n",
    "| A | T | G | \\*| A | \\*| \\*| \\*| C | C | \\*| A | \\*| T | \\*| C | \\*| \\*| C | \\*|\n",
    "| A | T | G | \\*| <font color='blue'>T</font> | \\*| \\*| \\*| C | C | \\*| A | \\*| T | \\*| C | \\*| \\*| C | \\*|\n",
    "| A | T | G | \\*| A | \\*| \\*| \\*| C | C | \\*| A | \\*| T | \\*| C | \\*| \\*| C | \\*|\n",
    "| A | T | G | \\*| A | \\*| \\*| \\*| C | C | \\*| A | \\*| T | \\*| C | \\*| \\*| <font color='blue'>\\*</font>| \\*|\n",
    "\n",
    "Step 2: remove these columns from all the sequences.\n",
    "\n",
    "| A | T | G | A | C | C | A | T | C | C |\n",
    "|---|---|---|---|---|---|---|---|---|---|---|---|---|---|---|---|---|---|---|---|\n",
    "| A | T | G | A | C | C | A | T | C | C | \n",
    "| A | T | G | <font color='blue'>T</font> | C | C | A | T | C | C |\n",
    "| A | T | G | A | C | C | A | T | C | C | \n",
    "| A | T | G | A | C | C | A | T | C | <font color='blue'>\\*</font>| \n",
    "\n",
    "Step 3: fill in the remaining '\\*' with the character from the reference sequence.\n",
    "\n",
    "| A | T | G | A | C | C | A | T | C | C |\n",
    "|---|---|---|---|---|---|---|---|---|---|---|---|---|---|---|---|---|---|---|---|\n",
    "| A | T | G | A | C | C | A | T | C | C | \n",
    "| A | T | G | <font color='blue'>T</font> | C | C | A | T | C | C |\n",
    "| A | T | G | A | C | C | A | T | C | C | \n",
    "| A | T | G | A | C | C | A | T | C | <font color='orange'>C</font>| "
   ]
  }
 ],
 "metadata": {
  "kernelspec": {
   "display_name": "Python 3",
   "language": "python",
   "name": "python3"
  },
  "language_info": {
   "codemirror_mode": {
    "name": "ipython",
    "version": 3
   },
   "file_extension": ".py",
   "mimetype": "text/x-python",
   "name": "python",
   "nbconvert_exporter": "python",
   "pygments_lexer": "ipython3",
   "version": "3.6.2"
  }
 },
 "nbformat": 4,
 "nbformat_minor": 1
}
